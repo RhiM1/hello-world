{
  "nbformat": 4,
  "nbformat_minor": 0,
  "metadata": {
    "kernelspec": {
      "display_name": "Python 3",
      "language": "python",
      "name": "python3"
    },
    "language_info": {
      "codemirror_mode": {
        "name": "ipython",
        "version": 3
      },
      "file_extension": ".py",
      "mimetype": "text/x-python",
      "name": "python",
      "nbconvert_exporter": "python",
      "pygments_lexer": "ipython3",
      "version": "3.7.6"
    },
    "colab": {
      "name": "Copy of Copy of Tutorial1_Basic_QA_Pipeline.ipynb",
      "provenance": [],
      "include_colab_link": true
    },
    "widgets": {
      "application/vnd.jupyter.widget-state+json": {
        "7b46e873c99343ab9d85d76fc904fdfb": {
          "model_module": "@jupyter-widgets/controls",
          "model_name": "HBoxModel",
          "state": {
            "_view_name": "HBoxView",
            "_dom_classes": [],
            "_model_name": "HBoxModel",
            "_view_module": "@jupyter-widgets/controls",
            "_model_module_version": "1.5.0",
            "_view_count": null,
            "_view_module_version": "1.5.0",
            "box_style": "",
            "layout": "IPY_MODEL_dd185ec0132948c1973f05385cb4bc38",
            "_model_module": "@jupyter-widgets/controls",
            "children": [
              "IPY_MODEL_77c1a50e629e4ff99fd41754e5a80856",
              "IPY_MODEL_f18fdaf622904d0ab43d2943986395cb"
            ]
          }
        },
        "dd185ec0132948c1973f05385cb4bc38": {
          "model_module": "@jupyter-widgets/base",
          "model_name": "LayoutModel",
          "state": {
            "_view_name": "LayoutView",
            "grid_template_rows": null,
            "right": null,
            "justify_content": null,
            "_view_module": "@jupyter-widgets/base",
            "overflow": null,
            "_model_module_version": "1.2.0",
            "_view_count": null,
            "flex_flow": null,
            "width": null,
            "min_width": null,
            "border": null,
            "align_items": null,
            "bottom": null,
            "_model_module": "@jupyter-widgets/base",
            "top": null,
            "grid_column": null,
            "overflow_y": null,
            "overflow_x": null,
            "grid_auto_flow": null,
            "grid_area": null,
            "grid_template_columns": null,
            "flex": null,
            "_model_name": "LayoutModel",
            "justify_items": null,
            "grid_row": null,
            "max_height": null,
            "align_content": null,
            "visibility": null,
            "align_self": null,
            "height": null,
            "min_height": null,
            "padding": null,
            "grid_auto_rows": null,
            "grid_gap": null,
            "max_width": null,
            "order": null,
            "_view_module_version": "1.2.0",
            "grid_template_areas": null,
            "object_position": null,
            "object_fit": null,
            "grid_auto_columns": null,
            "margin": null,
            "display": null,
            "left": null
          }
        },
        "77c1a50e629e4ff99fd41754e5a80856": {
          "model_module": "@jupyter-widgets/controls",
          "model_name": "FloatProgressModel",
          "state": {
            "_view_name": "ProgressView",
            "style": "IPY_MODEL_38537fe2452747ffb2ab04f16acae461",
            "_dom_classes": [],
            "description": "Downloading: 100%",
            "_model_name": "FloatProgressModel",
            "bar_style": "success",
            "max": 442,
            "_view_module": "@jupyter-widgets/controls",
            "_model_module_version": "1.5.0",
            "value": 442,
            "_view_count": null,
            "_view_module_version": "1.5.0",
            "orientation": "horizontal",
            "min": 0,
            "description_tooltip": null,
            "_model_module": "@jupyter-widgets/controls",
            "layout": "IPY_MODEL_b9c36ea360c2432b87174db8f3bfc353"
          }
        },
        "f18fdaf622904d0ab43d2943986395cb": {
          "model_module": "@jupyter-widgets/controls",
          "model_name": "HTMLModel",
          "state": {
            "_view_name": "HTMLView",
            "style": "IPY_MODEL_431fca3139df4b12a5e495e2a84d7dc1",
            "_dom_classes": [],
            "description": "",
            "_model_name": "HTMLModel",
            "placeholder": "​",
            "_view_module": "@jupyter-widgets/controls",
            "_model_module_version": "1.5.0",
            "value": " 442/442 [00:00&lt;00:00, 11.9kB/s]",
            "_view_count": null,
            "_view_module_version": "1.5.0",
            "description_tooltip": null,
            "_model_module": "@jupyter-widgets/controls",
            "layout": "IPY_MODEL_3af4f133833e4d5a93a7158a6bf9a1f0"
          }
        },
        "38537fe2452747ffb2ab04f16acae461": {
          "model_module": "@jupyter-widgets/controls",
          "model_name": "ProgressStyleModel",
          "state": {
            "_view_name": "StyleView",
            "_model_name": "ProgressStyleModel",
            "description_width": "initial",
            "_view_module": "@jupyter-widgets/base",
            "_model_module_version": "1.5.0",
            "_view_count": null,
            "_view_module_version": "1.2.0",
            "bar_color": null,
            "_model_module": "@jupyter-widgets/controls"
          }
        },
        "b9c36ea360c2432b87174db8f3bfc353": {
          "model_module": "@jupyter-widgets/base",
          "model_name": "LayoutModel",
          "state": {
            "_view_name": "LayoutView",
            "grid_template_rows": null,
            "right": null,
            "justify_content": null,
            "_view_module": "@jupyter-widgets/base",
            "overflow": null,
            "_model_module_version": "1.2.0",
            "_view_count": null,
            "flex_flow": null,
            "width": null,
            "min_width": null,
            "border": null,
            "align_items": null,
            "bottom": null,
            "_model_module": "@jupyter-widgets/base",
            "top": null,
            "grid_column": null,
            "overflow_y": null,
            "overflow_x": null,
            "grid_auto_flow": null,
            "grid_area": null,
            "grid_template_columns": null,
            "flex": null,
            "_model_name": "LayoutModel",
            "justify_items": null,
            "grid_row": null,
            "max_height": null,
            "align_content": null,
            "visibility": null,
            "align_self": null,
            "height": null,
            "min_height": null,
            "padding": null,
            "grid_auto_rows": null,
            "grid_gap": null,
            "max_width": null,
            "order": null,
            "_view_module_version": "1.2.0",
            "grid_template_areas": null,
            "object_position": null,
            "object_fit": null,
            "grid_auto_columns": null,
            "margin": null,
            "display": null,
            "left": null
          }
        },
        "431fca3139df4b12a5e495e2a84d7dc1": {
          "model_module": "@jupyter-widgets/controls",
          "model_name": "DescriptionStyleModel",
          "state": {
            "_view_name": "StyleView",
            "_model_name": "DescriptionStyleModel",
            "description_width": "",
            "_view_module": "@jupyter-widgets/base",
            "_model_module_version": "1.5.0",
            "_view_count": null,
            "_view_module_version": "1.2.0",
            "_model_module": "@jupyter-widgets/controls"
          }
        },
        "3af4f133833e4d5a93a7158a6bf9a1f0": {
          "model_module": "@jupyter-widgets/base",
          "model_name": "LayoutModel",
          "state": {
            "_view_name": "LayoutView",
            "grid_template_rows": null,
            "right": null,
            "justify_content": null,
            "_view_module": "@jupyter-widgets/base",
            "overflow": null,
            "_model_module_version": "1.2.0",
            "_view_count": null,
            "flex_flow": null,
            "width": null,
            "min_width": null,
            "border": null,
            "align_items": null,
            "bottom": null,
            "_model_module": "@jupyter-widgets/base",
            "top": null,
            "grid_column": null,
            "overflow_y": null,
            "overflow_x": null,
            "grid_auto_flow": null,
            "grid_area": null,
            "grid_template_columns": null,
            "flex": null,
            "_model_name": "LayoutModel",
            "justify_items": null,
            "grid_row": null,
            "max_height": null,
            "align_content": null,
            "visibility": null,
            "align_self": null,
            "height": null,
            "min_height": null,
            "padding": null,
            "grid_auto_rows": null,
            "grid_gap": null,
            "max_width": null,
            "order": null,
            "_view_module_version": "1.2.0",
            "grid_template_areas": null,
            "object_position": null,
            "object_fit": null,
            "grid_auto_columns": null,
            "margin": null,
            "display": null,
            "left": null
          }
        },
        "87f93469685a4408959ced6cfe5ccafd": {
          "model_module": "@jupyter-widgets/controls",
          "model_name": "HBoxModel",
          "state": {
            "_view_name": "HBoxView",
            "_dom_classes": [],
            "_model_name": "HBoxModel",
            "_view_module": "@jupyter-widgets/controls",
            "_model_module_version": "1.5.0",
            "_view_count": null,
            "_view_module_version": "1.5.0",
            "box_style": "",
            "layout": "IPY_MODEL_e6399a31c7894376a956e188f0276968",
            "_model_module": "@jupyter-widgets/controls",
            "children": [
              "IPY_MODEL_e983f1997213464d805fba7b431e0663",
              "IPY_MODEL_3a5af3123022433bbfa56b265956bf2c"
            ]
          }
        },
        "e6399a31c7894376a956e188f0276968": {
          "model_module": "@jupyter-widgets/base",
          "model_name": "LayoutModel",
          "state": {
            "_view_name": "LayoutView",
            "grid_template_rows": null,
            "right": null,
            "justify_content": null,
            "_view_module": "@jupyter-widgets/base",
            "overflow": null,
            "_model_module_version": "1.2.0",
            "_view_count": null,
            "flex_flow": null,
            "width": null,
            "min_width": null,
            "border": null,
            "align_items": null,
            "bottom": null,
            "_model_module": "@jupyter-widgets/base",
            "top": null,
            "grid_column": null,
            "overflow_y": null,
            "overflow_x": null,
            "grid_auto_flow": null,
            "grid_area": null,
            "grid_template_columns": null,
            "flex": null,
            "_model_name": "LayoutModel",
            "justify_items": null,
            "grid_row": null,
            "max_height": null,
            "align_content": null,
            "visibility": null,
            "align_self": null,
            "height": null,
            "min_height": null,
            "padding": null,
            "grid_auto_rows": null,
            "grid_gap": null,
            "max_width": null,
            "order": null,
            "_view_module_version": "1.2.0",
            "grid_template_areas": null,
            "object_position": null,
            "object_fit": null,
            "grid_auto_columns": null,
            "margin": null,
            "display": null,
            "left": null
          }
        },
        "e983f1997213464d805fba7b431e0663": {
          "model_module": "@jupyter-widgets/controls",
          "model_name": "FloatProgressModel",
          "state": {
            "_view_name": "ProgressView",
            "style": "IPY_MODEL_769ef1bb663c4006898b5bcb1182a016",
            "_dom_classes": [],
            "description": "Downloading: 100%",
            "_model_name": "FloatProgressModel",
            "bar_style": "success",
            "max": 231508,
            "_view_module": "@jupyter-widgets/controls",
            "_model_module_version": "1.5.0",
            "value": 231508,
            "_view_count": null,
            "_view_module_version": "1.5.0",
            "orientation": "horizontal",
            "min": 0,
            "description_tooltip": null,
            "_model_module": "@jupyter-widgets/controls",
            "layout": "IPY_MODEL_df5c17b8d2d14a0d9c0736dd1b668ae5"
          }
        },
        "3a5af3123022433bbfa56b265956bf2c": {
          "model_module": "@jupyter-widgets/controls",
          "model_name": "HTMLModel",
          "state": {
            "_view_name": "HTMLView",
            "style": "IPY_MODEL_1564025e1bde450498ef56f06617b3fa",
            "_dom_classes": [],
            "description": "",
            "_model_name": "HTMLModel",
            "placeholder": "​",
            "_view_module": "@jupyter-widgets/controls",
            "_model_module_version": "1.5.0",
            "value": " 232k/232k [00:00&lt;00:00, 282kB/s]",
            "_view_count": null,
            "_view_module_version": "1.5.0",
            "description_tooltip": null,
            "_model_module": "@jupyter-widgets/controls",
            "layout": "IPY_MODEL_b097e17119a549b983c9e98bdb861842"
          }
        },
        "769ef1bb663c4006898b5bcb1182a016": {
          "model_module": "@jupyter-widgets/controls",
          "model_name": "ProgressStyleModel",
          "state": {
            "_view_name": "StyleView",
            "_model_name": "ProgressStyleModel",
            "description_width": "initial",
            "_view_module": "@jupyter-widgets/base",
            "_model_module_version": "1.5.0",
            "_view_count": null,
            "_view_module_version": "1.2.0",
            "bar_color": null,
            "_model_module": "@jupyter-widgets/controls"
          }
        },
        "df5c17b8d2d14a0d9c0736dd1b668ae5": {
          "model_module": "@jupyter-widgets/base",
          "model_name": "LayoutModel",
          "state": {
            "_view_name": "LayoutView",
            "grid_template_rows": null,
            "right": null,
            "justify_content": null,
            "_view_module": "@jupyter-widgets/base",
            "overflow": null,
            "_model_module_version": "1.2.0",
            "_view_count": null,
            "flex_flow": null,
            "width": null,
            "min_width": null,
            "border": null,
            "align_items": null,
            "bottom": null,
            "_model_module": "@jupyter-widgets/base",
            "top": null,
            "grid_column": null,
            "overflow_y": null,
            "overflow_x": null,
            "grid_auto_flow": null,
            "grid_area": null,
            "grid_template_columns": null,
            "flex": null,
            "_model_name": "LayoutModel",
            "justify_items": null,
            "grid_row": null,
            "max_height": null,
            "align_content": null,
            "visibility": null,
            "align_self": null,
            "height": null,
            "min_height": null,
            "padding": null,
            "grid_auto_rows": null,
            "grid_gap": null,
            "max_width": null,
            "order": null,
            "_view_module_version": "1.2.0",
            "grid_template_areas": null,
            "object_position": null,
            "object_fit": null,
            "grid_auto_columns": null,
            "margin": null,
            "display": null,
            "left": null
          }
        },
        "1564025e1bde450498ef56f06617b3fa": {
          "model_module": "@jupyter-widgets/controls",
          "model_name": "DescriptionStyleModel",
          "state": {
            "_view_name": "StyleView",
            "_model_name": "DescriptionStyleModel",
            "description_width": "",
            "_view_module": "@jupyter-widgets/base",
            "_model_module_version": "1.5.0",
            "_view_count": null,
            "_view_module_version": "1.2.0",
            "_model_module": "@jupyter-widgets/controls"
          }
        },
        "b097e17119a549b983c9e98bdb861842": {
          "model_module": "@jupyter-widgets/base",
          "model_name": "LayoutModel",
          "state": {
            "_view_name": "LayoutView",
            "grid_template_rows": null,
            "right": null,
            "justify_content": null,
            "_view_module": "@jupyter-widgets/base",
            "overflow": null,
            "_model_module_version": "1.2.0",
            "_view_count": null,
            "flex_flow": null,
            "width": null,
            "min_width": null,
            "border": null,
            "align_items": null,
            "bottom": null,
            "_model_module": "@jupyter-widgets/base",
            "top": null,
            "grid_column": null,
            "overflow_y": null,
            "overflow_x": null,
            "grid_auto_flow": null,
            "grid_area": null,
            "grid_template_columns": null,
            "flex": null,
            "_model_name": "LayoutModel",
            "justify_items": null,
            "grid_row": null,
            "max_height": null,
            "align_content": null,
            "visibility": null,
            "align_self": null,
            "height": null,
            "min_height": null,
            "padding": null,
            "grid_auto_rows": null,
            "grid_gap": null,
            "max_width": null,
            "order": null,
            "_view_module_version": "1.2.0",
            "grid_template_areas": null,
            "object_position": null,
            "object_fit": null,
            "grid_auto_columns": null,
            "margin": null,
            "display": null,
            "left": null
          }
        },
        "9ae40d2307c942428db4cb2cf6316a61": {
          "model_module": "@jupyter-widgets/controls",
          "model_name": "HBoxModel",
          "state": {
            "_view_name": "HBoxView",
            "_dom_classes": [],
            "_model_name": "HBoxModel",
            "_view_module": "@jupyter-widgets/controls",
            "_model_module_version": "1.5.0",
            "_view_count": null,
            "_view_module_version": "1.5.0",
            "box_style": "",
            "layout": "IPY_MODEL_eec5bb6bad7041a196cb313cdbabce87",
            "_model_module": "@jupyter-widgets/controls",
            "children": [
              "IPY_MODEL_53204cf719634ece865460105c1ba7ee",
              "IPY_MODEL_f74c9721b46a4d719522012736cccf51"
            ]
          }
        },
        "eec5bb6bad7041a196cb313cdbabce87": {
          "model_module": "@jupyter-widgets/base",
          "model_name": "LayoutModel",
          "state": {
            "_view_name": "LayoutView",
            "grid_template_rows": null,
            "right": null,
            "justify_content": null,
            "_view_module": "@jupyter-widgets/base",
            "overflow": null,
            "_model_module_version": "1.2.0",
            "_view_count": null,
            "flex_flow": null,
            "width": null,
            "min_width": null,
            "border": null,
            "align_items": null,
            "bottom": null,
            "_model_module": "@jupyter-widgets/base",
            "top": null,
            "grid_column": null,
            "overflow_y": null,
            "overflow_x": null,
            "grid_auto_flow": null,
            "grid_area": null,
            "grid_template_columns": null,
            "flex": null,
            "_model_name": "LayoutModel",
            "justify_items": null,
            "grid_row": null,
            "max_height": null,
            "align_content": null,
            "visibility": null,
            "align_self": null,
            "height": null,
            "min_height": null,
            "padding": null,
            "grid_auto_rows": null,
            "grid_gap": null,
            "max_width": null,
            "order": null,
            "_view_module_version": "1.2.0",
            "grid_template_areas": null,
            "object_position": null,
            "object_fit": null,
            "grid_auto_columns": null,
            "margin": null,
            "display": null,
            "left": null
          }
        },
        "53204cf719634ece865460105c1ba7ee": {
          "model_module": "@jupyter-widgets/controls",
          "model_name": "FloatProgressModel",
          "state": {
            "_view_name": "ProgressView",
            "style": "IPY_MODEL_cc86a34733e844a6aa8a849b2990dadf",
            "_dom_classes": [],
            "description": "Downloading: 100%",
            "_model_name": "FloatProgressModel",
            "bar_style": "success",
            "max": 230,
            "_view_module": "@jupyter-widgets/controls",
            "_model_module_version": "1.5.0",
            "value": 230,
            "_view_count": null,
            "_view_module_version": "1.5.0",
            "orientation": "horizontal",
            "min": 0,
            "description_tooltip": null,
            "_model_module": "@jupyter-widgets/controls",
            "layout": "IPY_MODEL_6f15db31974f4330aa42f7dd9ff52840"
          }
        },
        "f74c9721b46a4d719522012736cccf51": {
          "model_module": "@jupyter-widgets/controls",
          "model_name": "HTMLModel",
          "state": {
            "_view_name": "HTMLView",
            "style": "IPY_MODEL_788cf98121c54a1194409845743d780c",
            "_dom_classes": [],
            "description": "",
            "_model_name": "HTMLModel",
            "placeholder": "​",
            "_view_module": "@jupyter-widgets/controls",
            "_model_module_version": "1.5.0",
            "value": " 230/230 [00:02&lt;00:00, 105B/s]",
            "_view_count": null,
            "_view_module_version": "1.5.0",
            "description_tooltip": null,
            "_model_module": "@jupyter-widgets/controls",
            "layout": "IPY_MODEL_ab5b1ab3fc8c4a2b86f8846231c75a6d"
          }
        },
        "cc86a34733e844a6aa8a849b2990dadf": {
          "model_module": "@jupyter-widgets/controls",
          "model_name": "ProgressStyleModel",
          "state": {
            "_view_name": "StyleView",
            "_model_name": "ProgressStyleModel",
            "description_width": "initial",
            "_view_module": "@jupyter-widgets/base",
            "_model_module_version": "1.5.0",
            "_view_count": null,
            "_view_module_version": "1.2.0",
            "bar_color": null,
            "_model_module": "@jupyter-widgets/controls"
          }
        },
        "6f15db31974f4330aa42f7dd9ff52840": {
          "model_module": "@jupyter-widgets/base",
          "model_name": "LayoutModel",
          "state": {
            "_view_name": "LayoutView",
            "grid_template_rows": null,
            "right": null,
            "justify_content": null,
            "_view_module": "@jupyter-widgets/base",
            "overflow": null,
            "_model_module_version": "1.2.0",
            "_view_count": null,
            "flex_flow": null,
            "width": null,
            "min_width": null,
            "border": null,
            "align_items": null,
            "bottom": null,
            "_model_module": "@jupyter-widgets/base",
            "top": null,
            "grid_column": null,
            "overflow_y": null,
            "overflow_x": null,
            "grid_auto_flow": null,
            "grid_area": null,
            "grid_template_columns": null,
            "flex": null,
            "_model_name": "LayoutModel",
            "justify_items": null,
            "grid_row": null,
            "max_height": null,
            "align_content": null,
            "visibility": null,
            "align_self": null,
            "height": null,
            "min_height": null,
            "padding": null,
            "grid_auto_rows": null,
            "grid_gap": null,
            "max_width": null,
            "order": null,
            "_view_module_version": "1.2.0",
            "grid_template_areas": null,
            "object_position": null,
            "object_fit": null,
            "grid_auto_columns": null,
            "margin": null,
            "display": null,
            "left": null
          }
        },
        "788cf98121c54a1194409845743d780c": {
          "model_module": "@jupyter-widgets/controls",
          "model_name": "DescriptionStyleModel",
          "state": {
            "_view_name": "StyleView",
            "_model_name": "DescriptionStyleModel",
            "description_width": "",
            "_view_module": "@jupyter-widgets/base",
            "_model_module_version": "1.5.0",
            "_view_count": null,
            "_view_module_version": "1.2.0",
            "_model_module": "@jupyter-widgets/controls"
          }
        },
        "ab5b1ab3fc8c4a2b86f8846231c75a6d": {
          "model_module": "@jupyter-widgets/base",
          "model_name": "LayoutModel",
          "state": {
            "_view_name": "LayoutView",
            "grid_template_rows": null,
            "right": null,
            "justify_content": null,
            "_view_module": "@jupyter-widgets/base",
            "overflow": null,
            "_model_module_version": "1.2.0",
            "_view_count": null,
            "flex_flow": null,
            "width": null,
            "min_width": null,
            "border": null,
            "align_items": null,
            "bottom": null,
            "_model_module": "@jupyter-widgets/base",
            "top": null,
            "grid_column": null,
            "overflow_y": null,
            "overflow_x": null,
            "grid_auto_flow": null,
            "grid_area": null,
            "grid_template_columns": null,
            "flex": null,
            "_model_name": "LayoutModel",
            "justify_items": null,
            "grid_row": null,
            "max_height": null,
            "align_content": null,
            "visibility": null,
            "align_self": null,
            "height": null,
            "min_height": null,
            "padding": null,
            "grid_auto_rows": null,
            "grid_gap": null,
            "max_width": null,
            "order": null,
            "_view_module_version": "1.2.0",
            "grid_template_areas": null,
            "object_position": null,
            "object_fit": null,
            "grid_auto_columns": null,
            "margin": null,
            "display": null,
            "left": null
          }
        },
        "ad1af7654a1d44fe849ddbcb2428ec34": {
          "model_module": "@jupyter-widgets/controls",
          "model_name": "HBoxModel",
          "state": {
            "_view_name": "HBoxView",
            "_dom_classes": [],
            "_model_name": "HBoxModel",
            "_view_module": "@jupyter-widgets/controls",
            "_model_module_version": "1.5.0",
            "_view_count": null,
            "_view_module_version": "1.5.0",
            "box_style": "",
            "layout": "IPY_MODEL_52ec4be93aa84452b7ab908e741f70c4",
            "_model_module": "@jupyter-widgets/controls",
            "children": [
              "IPY_MODEL_7bec4f9943454c29b04cbf431b1b9d4a",
              "IPY_MODEL_e9dd18f8ae85408f86673bbfe18e0c9f"
            ]
          }
        },
        "52ec4be93aa84452b7ab908e741f70c4": {
          "model_module": "@jupyter-widgets/base",
          "model_name": "LayoutModel",
          "state": {
            "_view_name": "LayoutView",
            "grid_template_rows": null,
            "right": null,
            "justify_content": null,
            "_view_module": "@jupyter-widgets/base",
            "overflow": null,
            "_model_module_version": "1.2.0",
            "_view_count": null,
            "flex_flow": null,
            "width": null,
            "min_width": null,
            "border": null,
            "align_items": null,
            "bottom": null,
            "_model_module": "@jupyter-widgets/base",
            "top": null,
            "grid_column": null,
            "overflow_y": null,
            "overflow_x": null,
            "grid_auto_flow": null,
            "grid_area": null,
            "grid_template_columns": null,
            "flex": null,
            "_model_name": "LayoutModel",
            "justify_items": null,
            "grid_row": null,
            "max_height": null,
            "align_content": null,
            "visibility": null,
            "align_self": null,
            "height": null,
            "min_height": null,
            "padding": null,
            "grid_auto_rows": null,
            "grid_gap": null,
            "max_width": null,
            "order": null,
            "_view_module_version": "1.2.0",
            "grid_template_areas": null,
            "object_position": null,
            "object_fit": null,
            "grid_auto_columns": null,
            "margin": null,
            "display": null,
            "left": null
          }
        },
        "7bec4f9943454c29b04cbf431b1b9d4a": {
          "model_module": "@jupyter-widgets/controls",
          "model_name": "FloatProgressModel",
          "state": {
            "_view_name": "ProgressView",
            "style": "IPY_MODEL_4828f0dd7e3f443d85152e66e0c4ab9b",
            "_dom_classes": [],
            "description": "Downloading: 100%",
            "_model_name": "FloatProgressModel",
            "bar_style": "success",
            "max": 451,
            "_view_module": "@jupyter-widgets/controls",
            "_model_module_version": "1.5.0",
            "value": 451,
            "_view_count": null,
            "_view_module_version": "1.5.0",
            "orientation": "horizontal",
            "min": 0,
            "description_tooltip": null,
            "_model_module": "@jupyter-widgets/controls",
            "layout": "IPY_MODEL_df6ff6f82526421185b0eca4fd579338"
          }
        },
        "e9dd18f8ae85408f86673bbfe18e0c9f": {
          "model_module": "@jupyter-widgets/controls",
          "model_name": "HTMLModel",
          "state": {
            "_view_name": "HTMLView",
            "style": "IPY_MODEL_2e210c2224e2421990596fb06227d638",
            "_dom_classes": [],
            "description": "",
            "_model_name": "HTMLModel",
            "placeholder": "​",
            "_view_module": "@jupyter-widgets/controls",
            "_model_module_version": "1.5.0",
            "value": " 451/451 [00:00&lt;00:00, 765B/s]",
            "_view_count": null,
            "_view_module_version": "1.5.0",
            "description_tooltip": null,
            "_model_module": "@jupyter-widgets/controls",
            "layout": "IPY_MODEL_63430fa14f1543129285553076f4f694"
          }
        },
        "4828f0dd7e3f443d85152e66e0c4ab9b": {
          "model_module": "@jupyter-widgets/controls",
          "model_name": "ProgressStyleModel",
          "state": {
            "_view_name": "StyleView",
            "_model_name": "ProgressStyleModel",
            "description_width": "initial",
            "_view_module": "@jupyter-widgets/base",
            "_model_module_version": "1.5.0",
            "_view_count": null,
            "_view_module_version": "1.2.0",
            "bar_color": null,
            "_model_module": "@jupyter-widgets/controls"
          }
        },
        "df6ff6f82526421185b0eca4fd579338": {
          "model_module": "@jupyter-widgets/base",
          "model_name": "LayoutModel",
          "state": {
            "_view_name": "LayoutView",
            "grid_template_rows": null,
            "right": null,
            "justify_content": null,
            "_view_module": "@jupyter-widgets/base",
            "overflow": null,
            "_model_module_version": "1.2.0",
            "_view_count": null,
            "flex_flow": null,
            "width": null,
            "min_width": null,
            "border": null,
            "align_items": null,
            "bottom": null,
            "_model_module": "@jupyter-widgets/base",
            "top": null,
            "grid_column": null,
            "overflow_y": null,
            "overflow_x": null,
            "grid_auto_flow": null,
            "grid_area": null,
            "grid_template_columns": null,
            "flex": null,
            "_model_name": "LayoutModel",
            "justify_items": null,
            "grid_row": null,
            "max_height": null,
            "align_content": null,
            "visibility": null,
            "align_self": null,
            "height": null,
            "min_height": null,
            "padding": null,
            "grid_auto_rows": null,
            "grid_gap": null,
            "max_width": null,
            "order": null,
            "_view_module_version": "1.2.0",
            "grid_template_areas": null,
            "object_position": null,
            "object_fit": null,
            "grid_auto_columns": null,
            "margin": null,
            "display": null,
            "left": null
          }
        },
        "2e210c2224e2421990596fb06227d638": {
          "model_module": "@jupyter-widgets/controls",
          "model_name": "DescriptionStyleModel",
          "state": {
            "_view_name": "StyleView",
            "_model_name": "DescriptionStyleModel",
            "description_width": "",
            "_view_module": "@jupyter-widgets/base",
            "_model_module_version": "1.5.0",
            "_view_count": null,
            "_view_module_version": "1.2.0",
            "_model_module": "@jupyter-widgets/controls"
          }
        },
        "63430fa14f1543129285553076f4f694": {
          "model_module": "@jupyter-widgets/base",
          "model_name": "LayoutModel",
          "state": {
            "_view_name": "LayoutView",
            "grid_template_rows": null,
            "right": null,
            "justify_content": null,
            "_view_module": "@jupyter-widgets/base",
            "overflow": null,
            "_model_module_version": "1.2.0",
            "_view_count": null,
            "flex_flow": null,
            "width": null,
            "min_width": null,
            "border": null,
            "align_items": null,
            "bottom": null,
            "_model_module": "@jupyter-widgets/base",
            "top": null,
            "grid_column": null,
            "overflow_y": null,
            "overflow_x": null,
            "grid_auto_flow": null,
            "grid_area": null,
            "grid_template_columns": null,
            "flex": null,
            "_model_name": "LayoutModel",
            "justify_items": null,
            "grid_row": null,
            "max_height": null,
            "align_content": null,
            "visibility": null,
            "align_self": null,
            "height": null,
            "min_height": null,
            "padding": null,
            "grid_auto_rows": null,
            "grid_gap": null,
            "max_width": null,
            "order": null,
            "_view_module_version": "1.2.0",
            "grid_template_areas": null,
            "object_position": null,
            "object_fit": null,
            "grid_auto_columns": null,
            "margin": null,
            "display": null,
            "left": null
          }
        },
        "30360b87501c417ab82e43d490436002": {
          "model_module": "@jupyter-widgets/controls",
          "model_name": "HBoxModel",
          "state": {
            "_view_name": "HBoxView",
            "_dom_classes": [],
            "_model_name": "HBoxModel",
            "_view_module": "@jupyter-widgets/controls",
            "_model_module_version": "1.5.0",
            "_view_count": null,
            "_view_module_version": "1.5.0",
            "box_style": "",
            "layout": "IPY_MODEL_f2268cb3960849d6a2564d2200531f23",
            "_model_module": "@jupyter-widgets/controls",
            "children": [
              "IPY_MODEL_3728966af85f4807aeac9a5ce01bb8df",
              "IPY_MODEL_b58f7795a3ad4907a05eae2ac6f91b1c"
            ]
          }
        },
        "f2268cb3960849d6a2564d2200531f23": {
          "model_module": "@jupyter-widgets/base",
          "model_name": "LayoutModel",
          "state": {
            "_view_name": "LayoutView",
            "grid_template_rows": null,
            "right": null,
            "justify_content": null,
            "_view_module": "@jupyter-widgets/base",
            "overflow": null,
            "_model_module_version": "1.2.0",
            "_view_count": null,
            "flex_flow": null,
            "width": null,
            "min_width": null,
            "border": null,
            "align_items": null,
            "bottom": null,
            "_model_module": "@jupyter-widgets/base",
            "top": null,
            "grid_column": null,
            "overflow_y": null,
            "overflow_x": null,
            "grid_auto_flow": null,
            "grid_area": null,
            "grid_template_columns": null,
            "flex": null,
            "_model_name": "LayoutModel",
            "justify_items": null,
            "grid_row": null,
            "max_height": null,
            "align_content": null,
            "visibility": null,
            "align_self": null,
            "height": null,
            "min_height": null,
            "padding": null,
            "grid_auto_rows": null,
            "grid_gap": null,
            "max_width": null,
            "order": null,
            "_view_module_version": "1.2.0",
            "grid_template_areas": null,
            "object_position": null,
            "object_fit": null,
            "grid_auto_columns": null,
            "margin": null,
            "display": null,
            "left": null
          }
        },
        "3728966af85f4807aeac9a5ce01bb8df": {
          "model_module": "@jupyter-widgets/controls",
          "model_name": "FloatProgressModel",
          "state": {
            "_view_name": "ProgressView",
            "style": "IPY_MODEL_b6b085afbf6446a7a79f37ea506958cd",
            "_dom_classes": [],
            "description": "Downloading: 100%",
            "_model_name": "FloatProgressModel",
            "bar_style": "success",
            "max": 265481570,
            "_view_module": "@jupyter-widgets/controls",
            "_model_module_version": "1.5.0",
            "value": 265481570,
            "_view_count": null,
            "_view_module_version": "1.5.0",
            "orientation": "horizontal",
            "min": 0,
            "description_tooltip": null,
            "_model_module": "@jupyter-widgets/controls",
            "layout": "IPY_MODEL_58cc32349d7e4a7699b57cba6b63ce88"
          }
        },
        "b58f7795a3ad4907a05eae2ac6f91b1c": {
          "model_module": "@jupyter-widgets/controls",
          "model_name": "HTMLModel",
          "state": {
            "_view_name": "HTMLView",
            "style": "IPY_MODEL_ce5d27f816e54f108c16e1b600a105cf",
            "_dom_classes": [],
            "description": "",
            "_model_name": "HTMLModel",
            "placeholder": "​",
            "_view_module": "@jupyter-widgets/controls",
            "_model_module_version": "1.5.0",
            "value": " 265M/265M [1:58:27&lt;00:00, 37.4kB/s]",
            "_view_count": null,
            "_view_module_version": "1.5.0",
            "description_tooltip": null,
            "_model_module": "@jupyter-widgets/controls",
            "layout": "IPY_MODEL_b735f5e26a4949109abbab6941edf7b6"
          }
        },
        "b6b085afbf6446a7a79f37ea506958cd": {
          "model_module": "@jupyter-widgets/controls",
          "model_name": "ProgressStyleModel",
          "state": {
            "_view_name": "StyleView",
            "_model_name": "ProgressStyleModel",
            "description_width": "initial",
            "_view_module": "@jupyter-widgets/base",
            "_model_module_version": "1.5.0",
            "_view_count": null,
            "_view_module_version": "1.2.0",
            "bar_color": null,
            "_model_module": "@jupyter-widgets/controls"
          }
        },
        "58cc32349d7e4a7699b57cba6b63ce88": {
          "model_module": "@jupyter-widgets/base",
          "model_name": "LayoutModel",
          "state": {
            "_view_name": "LayoutView",
            "grid_template_rows": null,
            "right": null,
            "justify_content": null,
            "_view_module": "@jupyter-widgets/base",
            "overflow": null,
            "_model_module_version": "1.2.0",
            "_view_count": null,
            "flex_flow": null,
            "width": null,
            "min_width": null,
            "border": null,
            "align_items": null,
            "bottom": null,
            "_model_module": "@jupyter-widgets/base",
            "top": null,
            "grid_column": null,
            "overflow_y": null,
            "overflow_x": null,
            "grid_auto_flow": null,
            "grid_area": null,
            "grid_template_columns": null,
            "flex": null,
            "_model_name": "LayoutModel",
            "justify_items": null,
            "grid_row": null,
            "max_height": null,
            "align_content": null,
            "visibility": null,
            "align_self": null,
            "height": null,
            "min_height": null,
            "padding": null,
            "grid_auto_rows": null,
            "grid_gap": null,
            "max_width": null,
            "order": null,
            "_view_module_version": "1.2.0",
            "grid_template_areas": null,
            "object_position": null,
            "object_fit": null,
            "grid_auto_columns": null,
            "margin": null,
            "display": null,
            "left": null
          }
        },
        "ce5d27f816e54f108c16e1b600a105cf": {
          "model_module": "@jupyter-widgets/controls",
          "model_name": "DescriptionStyleModel",
          "state": {
            "_view_name": "StyleView",
            "_model_name": "DescriptionStyleModel",
            "description_width": "",
            "_view_module": "@jupyter-widgets/base",
            "_model_module_version": "1.5.0",
            "_view_count": null,
            "_view_module_version": "1.2.0",
            "_model_module": "@jupyter-widgets/controls"
          }
        },
        "b735f5e26a4949109abbab6941edf7b6": {
          "model_module": "@jupyter-widgets/base",
          "model_name": "LayoutModel",
          "state": {
            "_view_name": "LayoutView",
            "grid_template_rows": null,
            "right": null,
            "justify_content": null,
            "_view_module": "@jupyter-widgets/base",
            "overflow": null,
            "_model_module_version": "1.2.0",
            "_view_count": null,
            "flex_flow": null,
            "width": null,
            "min_width": null,
            "border": null,
            "align_items": null,
            "bottom": null,
            "_model_module": "@jupyter-widgets/base",
            "top": null,
            "grid_column": null,
            "overflow_y": null,
            "overflow_x": null,
            "grid_auto_flow": null,
            "grid_area": null,
            "grid_template_columns": null,
            "flex": null,
            "_model_name": "LayoutModel",
            "justify_items": null,
            "grid_row": null,
            "max_height": null,
            "align_content": null,
            "visibility": null,
            "align_self": null,
            "height": null,
            "min_height": null,
            "padding": null,
            "grid_auto_rows": null,
            "grid_gap": null,
            "max_width": null,
            "order": null,
            "_view_module_version": "1.2.0",
            "grid_template_areas": null,
            "object_position": null,
            "object_fit": null,
            "grid_auto_columns": null,
            "margin": null,
            "display": null,
            "left": null
          }
        }
      }
    }
  },
  "cells": [
    {
      "cell_type": "markdown",
      "metadata": {
        "id": "view-in-github",
        "colab_type": "text"
      },
      "source": [
        "<a href=\"https://colab.research.google.com/github/RhiM1/hello-world/blob/main/Copy_of_Copy_of_Tutorial1_Basic_QA_Pipeline.ipynb\" target=\"_parent\"><img src=\"https://colab.research.google.com/assets/colab-badge.svg\" alt=\"Open In Colab\"/></a>"
      ]
    },
    {
      "cell_type": "code",
      "metadata": {
        "id": "tvsBTUZNtp00",
        "outputId": "c2c8430c-62df-496e-e536-97435204f63b",
        "colab": {
          "base_uri": "https://localhost:8080/",
          "height": 1000
        }
      },
      "source": [
        "# Install the latest release of Haystack in your own environment \n",
        "#! pip install farm-haystack\n",
        "\n",
        "# Install the latest master of Haystack\n",
        "!pip install git+https://github.com/deepset-ai/haystack.git\n",
        "!pip install urllib3==1.25.4"
      ],
      "execution_count": null,
      "outputs": [
        {
          "output_type": "stream",
          "text": [
            "Collecting git+https://github.com/deepset-ai/haystack.git\n",
            "  Cloning https://github.com/deepset-ai/haystack.git to /tmp/pip-req-build-6ylcxrlo\n",
            "  Running command git clone -q https://github.com/deepset-ai/haystack.git /tmp/pip-req-build-6ylcxrlo\n",
            "Collecting farm==0.4.9\n",
            "\u001b[?25l  Downloading https://files.pythonhosted.org/packages/7b/6a/d30bc97eaca322d35979f7a9f8fd8102e53833d3eb5b3bd02add1196ac94/farm-0.4.9-py3-none-any.whl (190kB)\n",
            "\u001b[K     |████████████████████████████████| 194kB 2.6MB/s \n",
            "\u001b[?25hCollecting fastapi\n",
            "\u001b[?25l  Downloading https://files.pythonhosted.org/packages/48/65/454fb440d48098845875b5ba8599efafee1efabb97720a584c78674e6d26/fastapi-0.61.1-py3-none-any.whl (48kB)\n",
            "\u001b[K     |████████████████████████████████| 51kB 3.9MB/s \n",
            "\u001b[?25hCollecting uvicorn\n",
            "\u001b[?25l  Downloading https://files.pythonhosted.org/packages/30/cc/01cc4cb980dfcf04eb283b6497c7f280928a0b02c68c0f85b6901e7716ae/uvicorn-0.12.2-py3-none-any.whl (45kB)\n",
            "\u001b[K     |████████████████████████████████| 51kB 3.3MB/s \n",
            "\u001b[?25hCollecting gunicorn\n",
            "\u001b[?25l  Downloading https://files.pythonhosted.org/packages/69/ca/926f7cd3a2014b16870086b2d0fdc84a9e49473c68a8dff8b57f7c156f43/gunicorn-20.0.4-py2.py3-none-any.whl (77kB)\n",
            "\u001b[K     |████████████████████████████████| 81kB 3.3MB/s \n",
            "\u001b[?25hRequirement already satisfied: pandas in /usr/local/lib/python3.6/dist-packages (from farm-haystack==0.4.0) (1.1.3)\n",
            "Requirement already satisfied: sklearn in /usr/local/lib/python3.6/dist-packages (from farm-haystack==0.4.0) (0.0)\n",
            "Collecting elasticsearch\n",
            "\u001b[?25l  Downloading https://files.pythonhosted.org/packages/e4/b7/f8f03019089671486e2910282c1b6fce26ccc8a513322df72ac8994ab2de/elasticsearch-7.9.1-py2.py3-none-any.whl (219kB)\n",
            "\u001b[K     |████████████████████████████████| 225kB 4.6MB/s \n",
            "\u001b[?25hCollecting elastic-apm\n",
            "\u001b[?25l  Downloading https://files.pythonhosted.org/packages/b0/eb/583f6a48d2887e228e4db9325a8480d54154b21c693abac7902df2ee1e8e/elastic_apm-5.9.0-cp36-cp36m-manylinux2010_x86_64.whl (312kB)\n",
            "\u001b[K     |████████████████████████████████| 317kB 6.0MB/s \n",
            "\u001b[?25hCollecting tox\n",
            "\u001b[?25l  Downloading https://files.pythonhosted.org/packages/e0/79/5915b9dad867e89bb6495456acfe5d4e2287e74dfa29c059f7b127d5480e/tox-3.20.1-py2.py3-none-any.whl (83kB)\n",
            "\u001b[K     |████████████████████████████████| 92kB 4.9MB/s \n",
            "\u001b[?25hRequirement already satisfied: coverage in /usr/local/lib/python3.6/dist-packages (from farm-haystack==0.4.0) (3.7.1)\n",
            "Collecting langdetect\n",
            "\u001b[?25l  Downloading https://files.pythonhosted.org/packages/56/a3/8407c1e62d5980188b4acc45ef3d94b933d14a2ebc9ef3505f22cf772570/langdetect-1.0.8.tar.gz (981kB)\n",
            "\u001b[K     |████████████████████████████████| 983kB 7.5MB/s \n",
            "\u001b[?25hCollecting python-multipart\n",
            "  Downloading https://files.pythonhosted.org/packages/46/40/a933ac570bf7aad12a298fc53458115cc74053474a72fbb8201d7dc06d3d/python-multipart-0.0.5.tar.gz\n",
            "Collecting python-docx\n",
            "\u001b[?25l  Downloading https://files.pythonhosted.org/packages/e4/83/c66a1934ed5ed8ab1dbb9931f1779079f8bca0f6bbc5793c06c4b5e7d671/python-docx-0.8.10.tar.gz (5.5MB)\n",
            "\u001b[K     |████████████████████████████████| 5.5MB 12.4MB/s \n",
            "\u001b[?25hCollecting sqlalchemy_utils\n",
            "\u001b[?25l  Downloading https://files.pythonhosted.org/packages/14/68/e5301c4c960c79a32333b8805e52cb69d3d237aa869a773b4157ccb3eb26/SQLAlchemy-Utils-0.36.8.tar.gz (138kB)\n",
            "\u001b[K     |████████████████████████████████| 143kB 43.4MB/s \n",
            "\u001b[?25hCollecting tika\n",
            "  Downloading https://files.pythonhosted.org/packages/96/07/244fbb9c74c0de8a3745cc9f3f496077a29f6418c7cbd90d68fd799574cb/tika-1.24.tar.gz\n",
            "Collecting httptools\n",
            "\u001b[?25l  Downloading https://files.pythonhosted.org/packages/b1/a6/dc1e7e8f4049ab70d52c9690ec10652e268ab2542853033cc1d539594102/httptools-0.1.1-cp36-cp36m-manylinux1_x86_64.whl (216kB)\n",
            "\u001b[K     |████████████████████████████████| 225kB 38.1MB/s \n",
            "\u001b[?25hRequirement already satisfied: nltk in /usr/local/lib/python3.6/dist-packages (from farm-haystack==0.4.0) (3.2.5)\n",
            "Requirement already satisfied: more_itertools in /usr/local/lib/python3.6/dist-packages (from farm-haystack==0.4.0) (8.5.0)\n",
            "Collecting psycopg2-binary\n",
            "\u001b[?25l  Downloading https://files.pythonhosted.org/packages/f2/1b/720b36697158113ca1b2221a8e96a470088ccf3770d182214689d1a96a07/psycopg2_binary-2.8.6-cp36-cp36m-manylinux1_x86_64.whl (3.0MB)\n",
            "\u001b[K     |████████████████████████████████| 3.0MB 44.6MB/s \n",
            "\u001b[?25hCollecting faiss-cpu\n",
            "\u001b[?25l  Downloading https://files.pythonhosted.org/packages/0e/6b/51321f5b34507dc1cb2b17e02e740acacd4ac818ed4b66670c24dd71347b/faiss_cpu-1.6.4-cp36-cp36m-manylinux2014_x86_64.whl (7.9MB)\n",
            "\u001b[K     |████████████████████████████████| 7.9MB 47.5MB/s \n",
            "\u001b[?25hCollecting uvloop\n",
            "\u001b[?25l  Downloading https://files.pythonhosted.org/packages/41/48/586225bbb02d3bdca475b17e4be5ce5b3f09da2d6979f359916c1592a687/uvloop-0.14.0-cp36-cp36m-manylinux2010_x86_64.whl (3.9MB)\n",
            "\u001b[K     |████████████████████████████████| 3.9MB 36.9MB/s \n",
            "\u001b[?25hRequirement already satisfied: dill in /usr/local/lib/python3.6/dist-packages (from farm==0.4.9->farm-haystack==0.4.0) (0.3.2)\n",
            "Collecting Werkzeug==0.16.1\n",
            "\u001b[?25l  Downloading https://files.pythonhosted.org/packages/c2/e4/a859d2fe516f466642fa5c6054fd9646271f9da26b0cac0d2f37fc858c8f/Werkzeug-0.16.1-py2.py3-none-any.whl (327kB)\n",
            "\u001b[K     |████████████████████████████████| 327kB 45.5MB/s \n",
            "\u001b[?25hRequirement already satisfied: psutil in /usr/local/lib/python3.6/dist-packages (from farm==0.4.9->farm-haystack==0.4.0) (5.4.8)\n",
            "Collecting seqeval\n",
            "\u001b[?25l  Downloading https://files.pythonhosted.org/packages/9d/2d/233c79d5b4e5ab1dbf111242299153f3caddddbb691219f363ad55ce783d/seqeval-1.2.2.tar.gz (43kB)\n",
            "\u001b[K     |████████████████████████████████| 51kB 6.3MB/s \n",
            "\u001b[?25hCollecting mlflow==1.0.0\n",
            "\u001b[?25l  Downloading https://files.pythonhosted.org/packages/01/ec/8c9448968d4662e8354b9c3a62e635f8929ed507a45af3d9fdb84be51270/mlflow-1.0.0-py3-none-any.whl (47.7MB)\n",
            "\u001b[K     |████████████████████████████████| 47.7MB 79kB/s \n",
            "\u001b[?25hRequirement already satisfied: scipy>=1.3.2 in /usr/local/lib/python3.6/dist-packages (from farm==0.4.9->farm-haystack==0.4.0) (1.4.1)\n",
            "Requirement already satisfied: flask in /usr/local/lib/python3.6/dist-packages (from farm==0.4.9->farm-haystack==0.4.0) (1.1.2)\n",
            "Collecting dotmap==1.3.0\n",
            "  Downloading https://files.pythonhosted.org/packages/fa/eb/ee5f0358a9e0ede90308d8f34e697e122f191c2702dc4f614eca7770b1eb/dotmap-1.3.0-py3-none-any.whl\n",
            "Requirement already satisfied: requests in /usr/local/lib/python3.6/dist-packages (from farm==0.4.9->farm-haystack==0.4.0) (2.23.0)\n",
            "Requirement already satisfied: wheel in /usr/local/lib/python3.6/dist-packages (from farm==0.4.9->farm-haystack==0.4.0) (0.35.1)\n",
            "Collecting flask-cors\n",
            "  Downloading https://files.pythonhosted.org/packages/69/7f/d0aeaaafb5c3c76c8d2141dbe2d4f6dca5d6c31872d4e5349768c1958abc/Flask_Cors-3.0.9-py2.py3-none-any.whl\n",
            "Collecting flask-restplus\n",
            "\u001b[?25l  Downloading https://files.pythonhosted.org/packages/c2/a6/b17c848771f96ad039ad9e3ea275e842a16c39c4f3eb9f60ee330b20b6c2/flask_restplus-0.13.0-py2.py3-none-any.whl (2.5MB)\n",
            "\u001b[K     |████████████████████████████████| 2.5MB 40.5MB/s \n",
            "\u001b[?25hRequirement already satisfied: torch<1.7,>1.5 in /usr/local/lib/python3.6/dist-packages (from farm==0.4.9->farm-haystack==0.4.0) (1.6.0+cu101)\n",
            "Requirement already satisfied: tqdm in /usr/local/lib/python3.6/dist-packages (from farm==0.4.9->farm-haystack==0.4.0) (4.41.1)\n",
            "Requirement already satisfied: setuptools in /usr/local/lib/python3.6/dist-packages (from farm==0.4.9->farm-haystack==0.4.0) (50.3.0)\n",
            "Collecting transformers==3.1.0\n",
            "\u001b[?25l  Downloading https://files.pythonhosted.org/packages/ae/05/c8c55b600308dc04e95100dc8ad8a244dd800fe75dfafcf1d6348c6f6209/transformers-3.1.0-py3-none-any.whl (884kB)\n",
            "\u001b[K     |████████████████████████████████| 890kB 34.0MB/s \n",
            "\u001b[?25hCollecting boto3\n",
            "\u001b[?25l  Downloading https://files.pythonhosted.org/packages/83/c2/1d4ccb8d0772b37d2f5d14e784babbf6a51aca6dd2786da842cd912e98b4/boto3-1.16.5.tar.gz (97kB)\n",
            "\u001b[K     |████████████████████████████████| 102kB 9.0MB/s \n",
            "\u001b[?25hCollecting pydantic<2.0.0,>=1.0.0\n",
            "\u001b[?25l  Downloading https://files.pythonhosted.org/packages/f7/96/aa5bca75aea65168015c657c07653905ef2b56196c75e740d830c9ec2fb6/pydantic-1.7-cp36-cp36m-manylinux2014_x86_64.whl (9.1MB)\n",
            "\u001b[K     |████████████████████████████████| 9.1MB 36.4MB/s \n",
            "\u001b[?25hCollecting starlette==0.13.6\n",
            "\u001b[?25l  Downloading https://files.pythonhosted.org/packages/c5/a4/c9e228d7d47044ce4c83ba002f28ff479e542455f0499198a3f77c94f564/starlette-0.13.6-py3-none-any.whl (59kB)\n",
            "\u001b[K     |████████████████████████████████| 61kB 5.9MB/s \n",
            "\u001b[?25hRequirement already satisfied: typing-extensions; python_version < \"3.8\" in /usr/local/lib/python3.6/dist-packages (from uvicorn->farm-haystack==0.4.0) (3.7.4.3)\n",
            "Collecting h11>=0.8\n",
            "\u001b[?25l  Downloading https://files.pythonhosted.org/packages/b2/79/9c5f5cd738ec2a9b26453b3093915c0999f24454e2773921025c03b5509e/h11-0.11.0-py2.py3-none-any.whl (54kB)\n",
            "\u001b[K     |████████████████████████████████| 61kB 7.3MB/s \n",
            "\u001b[?25hRequirement already satisfied: click==7.* in /usr/local/lib/python3.6/dist-packages (from uvicorn->farm-haystack==0.4.0) (7.1.2)\n",
            "Requirement already satisfied: pytz>=2017.2 in /usr/local/lib/python3.6/dist-packages (from pandas->farm-haystack==0.4.0) (2018.9)\n",
            "Requirement already satisfied: numpy>=1.15.4 in /usr/local/lib/python3.6/dist-packages (from pandas->farm-haystack==0.4.0) (1.18.5)\n",
            "Requirement already satisfied: python-dateutil>=2.7.3 in /usr/local/lib/python3.6/dist-packages (from pandas->farm-haystack==0.4.0) (2.8.1)\n",
            "Requirement already satisfied: scikit-learn in /usr/local/lib/python3.6/dist-packages (from sklearn->farm-haystack==0.4.0) (0.22.2.post1)\n",
            "Requirement already satisfied: urllib3>=1.21.1 in /usr/local/lib/python3.6/dist-packages (from elasticsearch->farm-haystack==0.4.0) (1.24.3)\n",
            "Requirement already satisfied: certifi in /usr/local/lib/python3.6/dist-packages (from elasticsearch->farm-haystack==0.4.0) (2020.6.20)\n",
            "Requirement already satisfied: toml>=0.9.4 in /usr/local/lib/python3.6/dist-packages (from tox->farm-haystack==0.4.0) (0.10.1)\n",
            "Requirement already satisfied: importlib-metadata<3,>=0.12; python_version < \"3.8\" in /usr/local/lib/python3.6/dist-packages (from tox->farm-haystack==0.4.0) (2.0.0)\n",
            "Requirement already satisfied: six>=1.14.0 in /usr/local/lib/python3.6/dist-packages (from tox->farm-haystack==0.4.0) (1.15.0)\n",
            "Requirement already satisfied: packaging>=14 in /usr/local/lib/python3.6/dist-packages (from tox->farm-haystack==0.4.0) (20.4)\n",
            "Collecting pluggy>=0.12.0\n",
            "  Downloading https://files.pythonhosted.org/packages/a0/28/85c7aa31b80d150b772fbe4a229487bc6644da9ccb7e427dd8cc60cb8a62/pluggy-0.13.1-py2.py3-none-any.whl\n",
            "Requirement already satisfied: filelock>=3.0.0 in /usr/local/lib/python3.6/dist-packages (from tox->farm-haystack==0.4.0) (3.0.12)\n",
            "Collecting virtualenv!=20.0.0,!=20.0.1,!=20.0.2,!=20.0.3,!=20.0.4,!=20.0.5,!=20.0.6,!=20.0.7,>=16.0.0\n",
            "\u001b[?25l  Downloading https://files.pythonhosted.org/packages/97/f3/c064343ac58d1a54c393a3f66483a29500f644a5918deeb935d28673edd9/virtualenv-20.1.0-py2.py3-none-any.whl (4.9MB)\n",
            "\u001b[K     |████████████████████████████████| 4.9MB 42.8MB/s \n",
            "\u001b[?25hRequirement already satisfied: py>=1.4.17 in /usr/local/lib/python3.6/dist-packages (from tox->farm-haystack==0.4.0) (1.9.0)\n",
            "Requirement already satisfied: lxml>=2.3.2 in /usr/local/lib/python3.6/dist-packages (from python-docx->farm-haystack==0.4.0) (4.2.6)\n",
            "Requirement already satisfied: SQLAlchemy>=1.0 in /usr/local/lib/python3.6/dist-packages (from sqlalchemy_utils->farm-haystack==0.4.0) (1.3.20)\n",
            "Requirement already satisfied: protobuf>=3.6.0 in /usr/local/lib/python3.6/dist-packages (from mlflow==1.0.0->farm==0.4.9->farm-haystack==0.4.0) (3.12.4)\n",
            "Collecting gitpython>=2.1.0\n",
            "\u001b[?25l  Downloading https://files.pythonhosted.org/packages/24/d1/a7f8fe3df258549b303415157328bfcc63e9b11d06a7ad7a3327f3d32606/GitPython-3.1.11-py3-none-any.whl (159kB)\n",
            "\u001b[K     |████████████████████████████████| 163kB 48.9MB/s \n",
            "\u001b[?25hRequirement already satisfied: pyyaml in /usr/local/lib/python3.6/dist-packages (from mlflow==1.0.0->farm==0.4.9->farm-haystack==0.4.0) (3.13)\n",
            "Collecting docker>=3.6.0\n",
            "\u001b[?25l  Downloading https://files.pythonhosted.org/packages/9e/8c/8d42dbd83679483db207535f4fb02dc84325fa78b290f057694b057fcd21/docker-4.3.1-py2.py3-none-any.whl (145kB)\n",
            "\u001b[K     |████████████████████████████████| 153kB 42.5MB/s \n",
            "\u001b[?25hCollecting simplejson\n",
            "\u001b[?25l  Downloading https://files.pythonhosted.org/packages/73/96/1e6b19045375890068d7342cbe280dd64ae73fd90b9735b5efb8d1e044a1/simplejson-3.17.2-cp36-cp36m-manylinux2010_x86_64.whl (127kB)\n",
            "\u001b[K     |████████████████████████████████| 133kB 45.9MB/s \n",
            "\u001b[?25hRequirement already satisfied: sqlparse in /usr/local/lib/python3.6/dist-packages (from mlflow==1.0.0->farm==0.4.9->farm-haystack==0.4.0) (0.4.1)\n",
            "Requirement already satisfied: cloudpickle in /usr/local/lib/python3.6/dist-packages (from mlflow==1.0.0->farm==0.4.9->farm-haystack==0.4.0) (1.3.0)\n",
            "Collecting alembic\n",
            "\u001b[?25l  Downloading https://files.pythonhosted.org/packages/12/aa/c261dfd7f4ba6ce4701846a2689a46e2a172e012171de4378fc2926e3bf0/alembic-1.4.3-py2.py3-none-any.whl (159kB)\n",
            "\u001b[K     |████████████████████████████████| 163kB 46.8MB/s \n",
            "\u001b[?25hRequirement already satisfied: entrypoints in /usr/local/lib/python3.6/dist-packages (from mlflow==1.0.0->farm==0.4.9->farm-haystack==0.4.0) (0.3)\n",
            "Collecting querystring-parser\n",
            "  Downloading https://files.pythonhosted.org/packages/88/6b/572b2590fd55114118bf08bde63c0a421dcc82d593700f3e2ad89908a8a9/querystring_parser-1.2.4-py2.py3-none-any.whl\n",
            "Collecting databricks-cli>=0.8.0\n",
            "\u001b[?25l  Downloading https://files.pythonhosted.org/packages/20/d9/01d0bda8d764be9e7448a41c34eec002e67e88e0d558b80d0ba922b4f7f0/databricks-cli-0.13.0.tar.gz (54kB)\n",
            "\u001b[K     |████████████████████████████████| 61kB 7.7MB/s \n",
            "\u001b[?25hRequirement already satisfied: Jinja2>=2.10.1 in /usr/local/lib/python3.6/dist-packages (from flask->farm==0.4.9->farm-haystack==0.4.0) (2.11.2)\n",
            "Requirement already satisfied: itsdangerous>=0.24 in /usr/local/lib/python3.6/dist-packages (from flask->farm==0.4.9->farm-haystack==0.4.0) (1.1.0)\n",
            "Requirement already satisfied: idna<3,>=2.5 in /usr/local/lib/python3.6/dist-packages (from requests->farm==0.4.9->farm-haystack==0.4.0) (2.10)\n",
            "Requirement already satisfied: chardet<4,>=3.0.2 in /usr/local/lib/python3.6/dist-packages (from requests->farm==0.4.9->farm-haystack==0.4.0) (3.0.4)\n",
            "Collecting aniso8601>=0.82\n",
            "\u001b[?25l  Downloading https://files.pythonhosted.org/packages/eb/e4/787e104b58eadc1a710738d4e418d7e599e4e778e52cb8e5d5ef6ddd5833/aniso8601-8.0.0-py2.py3-none-any.whl (43kB)\n",
            "\u001b[K     |████████████████████████████████| 51kB 6.3MB/s \n",
            "\u001b[?25hRequirement already satisfied: jsonschema in /usr/local/lib/python3.6/dist-packages (from flask-restplus->farm==0.4.9->farm-haystack==0.4.0) (2.6.0)\n",
            "Requirement already satisfied: future in /usr/local/lib/python3.6/dist-packages (from torch<1.7,>1.5->farm==0.4.9->farm-haystack==0.4.0) (0.16.0)\n",
            "Collecting tokenizers==0.8.1.rc2\n",
            "\u001b[?25l  Downloading https://files.pythonhosted.org/packages/80/83/8b9fccb9e48eeb575ee19179e2bdde0ee9a1904f97de5f02d19016b8804f/tokenizers-0.8.1rc2-cp36-cp36m-manylinux1_x86_64.whl (3.0MB)\n",
            "\u001b[K     |████████████████████████████████| 3.0MB 38.4MB/s \n",
            "\u001b[?25hRequirement already satisfied: regex!=2019.12.17 in /usr/local/lib/python3.6/dist-packages (from transformers==3.1.0->farm==0.4.9->farm-haystack==0.4.0) (2019.12.20)\n",
            "Collecting sacremoses\n",
            "\u001b[?25l  Downloading https://files.pythonhosted.org/packages/7d/34/09d19aff26edcc8eb2a01bed8e98f13a1537005d31e95233fd48216eed10/sacremoses-0.0.43.tar.gz (883kB)\n",
            "\u001b[K     |████████████████████████████████| 890kB 36.6MB/s \n",
            "\u001b[?25hCollecting sentencepiece!=0.1.92\n",
            "\u001b[?25l  Downloading https://files.pythonhosted.org/packages/e5/2d/6d4ca4bef9a67070fa1cac508606328329152b1df10bdf31fb6e4e727894/sentencepiece-0.1.94-cp36-cp36m-manylinux2014_x86_64.whl (1.1MB)\n",
            "\u001b[K     |████████████████████████████████| 1.1MB 32.0MB/s \n",
            "\u001b[?25hRequirement already satisfied: dataclasses; python_version < \"3.7\" in /usr/local/lib/python3.6/dist-packages (from transformers==3.1.0->farm==0.4.9->farm-haystack==0.4.0) (0.7)\n",
            "Collecting botocore<1.20.0,>=1.19.5\n",
            "\u001b[?25l  Downloading https://files.pythonhosted.org/packages/59/91/c3ac686983570cbaf01063956e51ebd547d2e496f3e33052b7a9102c9a75/botocore-1.19.5-py2.py3-none-any.whl (6.7MB)\n",
            "\u001b[K     |████████████████████████████████| 6.7MB 31.3MB/s \n",
            "\u001b[?25hCollecting jmespath<1.0.0,>=0.7.1\n",
            "  Downloading https://files.pythonhosted.org/packages/07/cb/5f001272b6faeb23c1c9e0acc04d48eaaf5c862c17709d20e3469c6e0139/jmespath-0.10.0-py2.py3-none-any.whl\n",
            "Collecting s3transfer<0.4.0,>=0.3.0\n",
            "\u001b[?25l  Downloading https://files.pythonhosted.org/packages/69/79/e6afb3d8b0b4e96cefbdc690f741d7dd24547ff1f94240c997a26fa908d3/s3transfer-0.3.3-py2.py3-none-any.whl (69kB)\n",
            "\u001b[K     |████████████████████████████████| 71kB 8.3MB/s \n",
            "\u001b[?25hRequirement already satisfied: joblib>=0.11 in /usr/local/lib/python3.6/dist-packages (from scikit-learn->sklearn->farm-haystack==0.4.0) (0.17.0)\n",
            "Requirement already satisfied: zipp>=0.5 in /usr/local/lib/python3.6/dist-packages (from importlib-metadata<3,>=0.12; python_version < \"3.8\"->tox->farm-haystack==0.4.0) (3.3.1)\n",
            "Requirement already satisfied: pyparsing>=2.0.2 in /usr/local/lib/python3.6/dist-packages (from packaging>=14->tox->farm-haystack==0.4.0) (2.4.7)\n",
            "Collecting appdirs<2,>=1.4.3\n",
            "  Downloading https://files.pythonhosted.org/packages/3b/00/2344469e2084fb287c2e0b57b72910309874c3245463acd6cf5e3db69324/appdirs-1.4.4-py2.py3-none-any.whl\n",
            "Collecting distlib<1,>=0.3.1\n",
            "\u001b[?25l  Downloading https://files.pythonhosted.org/packages/f5/0a/490fa011d699bb5a5f3a0cf57de82237f52a6db9d40f33c53b2736c9a1f9/distlib-0.3.1-py2.py3-none-any.whl (335kB)\n",
            "\u001b[K     |████████████████████████████████| 337kB 34.1MB/s \n",
            "\u001b[?25hRequirement already satisfied: importlib-resources>=1.0; python_version < \"3.7\" in /usr/local/lib/python3.6/dist-packages (from virtualenv!=20.0.0,!=20.0.1,!=20.0.2,!=20.0.3,!=20.0.4,!=20.0.5,!=20.0.6,!=20.0.7,>=16.0.0->tox->farm-haystack==0.4.0) (3.1.0)\n",
            "Collecting gitdb<5,>=4.0.1\n",
            "\u001b[?25l  Downloading https://files.pythonhosted.org/packages/48/11/d1800bca0a3bae820b84b7d813ad1eff15a48a64caea9c823fc8c1b119e8/gitdb-4.0.5-py3-none-any.whl (63kB)\n",
            "\u001b[K     |████████████████████████████████| 71kB 6.7MB/s \n",
            "\u001b[?25hCollecting websocket-client>=0.32.0\n",
            "\u001b[?25l  Downloading https://files.pythonhosted.org/packages/4c/5f/f61b420143ed1c8dc69f9eaec5ff1ac36109d52c80de49d66e0c36c3dfdf/websocket_client-0.57.0-py2.py3-none-any.whl (200kB)\n",
            "\u001b[K     |████████████████████████████████| 204kB 50.6MB/s \n",
            "\u001b[?25hCollecting python-editor>=0.3\n",
            "  Downloading https://files.pythonhosted.org/packages/c6/d3/201fc3abe391bbae6606e6f1d598c15d367033332bd54352b12f35513717/python_editor-1.0.4-py3-none-any.whl\n",
            "Collecting Mako\n",
            "\u001b[?25l  Downloading https://files.pythonhosted.org/packages/a6/37/0e706200d22172eb8fa17d68a7ae22dec7631a0a92266634fb518a88a5b2/Mako-1.1.3-py2.py3-none-any.whl (75kB)\n",
            "\u001b[K     |████████████████████████████████| 81kB 9.6MB/s \n",
            "\u001b[?25hRequirement already satisfied: tabulate>=0.7.7 in /usr/local/lib/python3.6/dist-packages (from databricks-cli>=0.8.0->mlflow==1.0.0->farm==0.4.9->farm-haystack==0.4.0) (0.8.7)\n",
            "Requirement already satisfied: MarkupSafe>=0.23 in /usr/local/lib/python3.6/dist-packages (from Jinja2>=2.10.1->flask->farm==0.4.9->farm-haystack==0.4.0) (1.1.1)\n",
            "Collecting smmap<4,>=3.0.1\n",
            "  Downloading https://files.pythonhosted.org/packages/b0/9a/4d409a6234eb940e6a78dfdfc66156e7522262f5f2fecca07dc55915952d/smmap-3.0.4-py2.py3-none-any.whl\n",
            "Building wheels for collected packages: farm-haystack, langdetect, python-multipart, python-docx, sqlalchemy-utils, tika, seqeval, boto3, databricks-cli, sacremoses\n",
            "  Building wheel for farm-haystack (setup.py) ... \u001b[?25l\u001b[?25hdone\n",
            "  Created wheel for farm-haystack: filename=farm_haystack-0.4.0-cp36-none-any.whl size=88714 sha256=7593fa0cf02d30c532ae49945410e70cd7c52c826c9817616040b918d3e7efb2\n",
            "  Stored in directory: /tmp/pip-ephem-wheel-cache-jzh7pvan/wheels/ab/41/a4/4fbf362de283352078ecb6705c08b6525347aaea2eead2a60c\n",
            "  Building wheel for langdetect (setup.py) ... \u001b[?25l\u001b[?25hdone\n",
            "  Created wheel for langdetect: filename=langdetect-1.0.8-cp36-none-any.whl size=993195 sha256=5872d87e54f8bf91dfa742eebd30f78a86f17ca1ce06eb7dd22805f2918843be\n",
            "  Stored in directory: /root/.cache/pip/wheels/8d/b3/aa/6d99de9f3841d7d3d40a60ea06e6d669e8e5012e6c8b947a57\n",
            "  Building wheel for python-multipart (setup.py) ... \u001b[?25l\u001b[?25hdone\n",
            "  Created wheel for python-multipart: filename=python_multipart-0.0.5-cp36-none-any.whl size=31671 sha256=cb1c9ad3d00dc57da6046519df8feb36505b5e473d47f677a2afad464a5c3f44\n",
            "  Stored in directory: /root/.cache/pip/wheels/f0/e6/66/14a866a3cbd6a0cabfbef91f7edf40aa03595ef6c88d6d1be4\n",
            "  Building wheel for python-docx (setup.py) ... \u001b[?25l\u001b[?25hdone\n",
            "  Created wheel for python-docx: filename=python_docx-0.8.10-cp36-none-any.whl size=184491 sha256=8b275c9a88af3792c0fdb8966a1585e174d11dc4be4d5916ec24f701dc6fd865\n",
            "  Stored in directory: /root/.cache/pip/wheels/18/0b/a0/1dd62ff812c857c9e487f27d80d53d2b40531bec1acecfa47b\n",
            "  Building wheel for sqlalchemy-utils (setup.py) ... \u001b[?25l\u001b[?25hdone\n",
            "  Created wheel for sqlalchemy-utils: filename=SQLAlchemy_Utils-0.36.8-py2.py3-none-any.whl size=93219 sha256=2c8dd43bcbec23d2b71ce34b9f8808e4e085d75a794c7c43d675aaed1bed2f02\n",
            "  Stored in directory: /root/.cache/pip/wheels/68/31/b6/a96bf6868f42753696d647846c9a0f8e51bd99295790d07660\n",
            "  Building wheel for tika (setup.py) ... \u001b[?25l\u001b[?25hdone\n",
            "  Created wheel for tika: filename=tika-1.24-cp36-none-any.whl size=32884 sha256=6080d7ded0895bfbdeb71f5d6dc547026a92e00c55588fad35b5b80153823036\n",
            "  Stored in directory: /root/.cache/pip/wheels/73/9c/f5/0b1b738442fc2a2862bef95b908b374f8e80215550fb2a8975\n",
            "  Building wheel for seqeval (setup.py) ... \u001b[?25l\u001b[?25hdone\n",
            "  Created wheel for seqeval: filename=seqeval-1.2.2-cp36-none-any.whl size=16171 sha256=0eea2b941d3210b602c96dd8962ccd8903b73768908019ea4811e384cde7f955\n",
            "  Stored in directory: /root/.cache/pip/wheels/52/df/1b/45d75646c37428f7e626214704a0e35bd3cfc32eda37e59e5f\n",
            "  Building wheel for boto3 (setup.py) ... \u001b[?25l\u001b[?25hdone\n",
            "  Created wheel for boto3: filename=boto3-1.16.5-py2.py3-none-any.whl size=127848 sha256=072a0c06ec9a4164ef818eda39a263834ca0bcd8274f99ac159ce4aef9719ade\n",
            "  Stored in directory: /root/.cache/pip/wheels/d7/97/d4/f4d6f53ae90487aff4f41a7f8f281ae114d5b2f0f64928f6e1\n",
            "  Building wheel for databricks-cli (setup.py) ... \u001b[?25l\u001b[?25hdone\n",
            "  Created wheel for databricks-cli: filename=databricks_cli-0.13.0-cp36-none-any.whl size=100347 sha256=f258a9594f5bc7b705664f27c4e63f03e81bf7385eb76659c443f1d1646655af\n",
            "  Stored in directory: /root/.cache/pip/wheels/d3/ba/45/11e7abe40b8e21f4aab12a3051e269b24d17f2b288bb7418d5\n",
            "  Building wheel for sacremoses (setup.py) ... \u001b[?25l\u001b[?25hdone\n",
            "  Created wheel for sacremoses: filename=sacremoses-0.0.43-cp36-none-any.whl size=893257 sha256=698207cb6db4ca7533a980dc6c08637f5957770b7cd1ac0955b027182cac0550\n",
            "  Stored in directory: /root/.cache/pip/wheels/29/3c/fd/7ce5c3f0666dab31a50123635e6fb5e19ceb42ce38d4e58f45\n",
            "Successfully built farm-haystack langdetect python-multipart python-docx sqlalchemy-utils tika seqeval boto3 databricks-cli sacremoses\n",
            "\u001b[31mERROR: pytest 3.6.4 has requirement pluggy<0.8,>=0.5, but you'll have pluggy 0.13.1 which is incompatible.\u001b[0m\n",
            "\u001b[31mERROR: datascience 0.10.6 has requirement folium==0.2.1, but you'll have folium 0.8.3 which is incompatible.\u001b[0m\n",
            "\u001b[31mERROR: botocore 1.19.5 has requirement urllib3<1.26,>=1.25.4; python_version != \"3.4\", but you'll have urllib3 1.24.3 which is incompatible.\u001b[0m\n",
            "Installing collected packages: Werkzeug, seqeval, smmap, gitdb, gitpython, websocket-client, docker, simplejson, gunicorn, python-editor, Mako, alembic, querystring-parser, databricks-cli, mlflow, dotmap, flask-cors, aniso8601, flask-restplus, tokenizers, sacremoses, sentencepiece, transformers, jmespath, botocore, s3transfer, boto3, farm, pydantic, starlette, fastapi, h11, uvicorn, elasticsearch, elastic-apm, pluggy, appdirs, distlib, virtualenv, tox, langdetect, python-multipart, python-docx, sqlalchemy-utils, tika, httptools, psycopg2-binary, faiss-cpu, uvloop, farm-haystack\n",
            "  Found existing installation: Werkzeug 1.0.1\n",
            "    Uninstalling Werkzeug-1.0.1:\n",
            "      Successfully uninstalled Werkzeug-1.0.1\n",
            "  Found existing installation: pluggy 0.7.1\n",
            "    Uninstalling pluggy-0.7.1:\n",
            "      Successfully uninstalled pluggy-0.7.1\n",
            "Successfully installed Mako-1.1.3 Werkzeug-0.16.1 alembic-1.4.3 aniso8601-8.0.0 appdirs-1.4.4 boto3-1.16.5 botocore-1.19.5 databricks-cli-0.13.0 distlib-0.3.1 docker-4.3.1 dotmap-1.3.0 elastic-apm-5.9.0 elasticsearch-7.9.1 faiss-cpu-1.6.4 farm-0.4.9 farm-haystack-0.4.0 fastapi-0.61.1 flask-cors-3.0.9 flask-restplus-0.13.0 gitdb-4.0.5 gitpython-3.1.11 gunicorn-20.0.4 h11-0.11.0 httptools-0.1.1 jmespath-0.10.0 langdetect-1.0.8 mlflow-1.0.0 pluggy-0.13.1 psycopg2-binary-2.8.6 pydantic-1.7 python-docx-0.8.10 python-editor-1.0.4 python-multipart-0.0.5 querystring-parser-1.2.4 s3transfer-0.3.3 sacremoses-0.0.43 sentencepiece-0.1.94 seqeval-1.2.2 simplejson-3.17.2 smmap-3.0.4 sqlalchemy-utils-0.36.8 starlette-0.13.6 tika-1.24 tokenizers-0.8.1rc2 tox-3.20.1 transformers-3.1.0 uvicorn-0.12.2 uvloop-0.14.0 virtualenv-20.1.0 websocket-client-0.57.0\n",
            "Collecting urllib3==1.25.4\n",
            "\u001b[?25l  Downloading https://files.pythonhosted.org/packages/91/0d/7777358f672a14b7ae0dfcd29f949f409f913e0578190d6bfa68eb55864b/urllib3-1.25.4-py2.py3-none-any.whl (125kB)\n",
            "\u001b[K     |████████████████████████████████| 133kB 2.7MB/s \n",
            "\u001b[31mERROR: datascience 0.10.6 has requirement folium==0.2.1, but you'll have folium 0.8.3 which is incompatible.\u001b[0m\n",
            "\u001b[?25hInstalling collected packages: urllib3\n",
            "  Found existing installation: urllib3 1.24.3\n",
            "    Uninstalling urllib3-1.24.3:\n",
            "      Successfully uninstalled urllib3-1.24.3\n",
            "Successfully installed urllib3-1.25.4\n"
          ],
          "name": "stdout"
        }
      ]
    },
    {
      "cell_type": "code",
      "metadata": {
        "id": "mo2xP-DXtp08"
      },
      "source": [
        "from haystack import Finder\n",
        "from haystack.preprocessor.cleaning import clean_wiki_text\n",
        "from haystack.preprocessor.utils import convert_files_to_dicts, fetch_archive_from_http\n",
        "from haystack.reader.farm import FARMReader\n",
        "from haystack.reader.transformers import TransformersReader\n",
        "from haystack.utils import print_answers"
      ],
      "execution_count": null,
      "outputs": []
    },
    {
      "cell_type": "markdown",
      "metadata": {
        "id": "KETROxpItp0_"
      },
      "source": [
        "## Document Store\n",
        "\n",
        "Haystack finds answers to queries within the documents stored in a `DocumentStore`. The current implementations of `DocumentStore` include `ElasticsearchDocumentStore`, `FAISSDocumentStore`,  `SQLDocumentStore`, and `InMemoryDocumentStore`.\n",
        "\n",
        "**Here:** We recommended Elasticsearch as it comes preloaded with features like [full-text queries](https://www.elastic.co/guide/en/elasticsearch/reference/current/full-text-queries.html), [BM25 retrieval](https://www.elastic.co/elasticon/conf/2016/sf/improved-text-scoring-with-bm25), and [vector storage for text embeddings](https://www.elastic.co/guide/en/elasticsearch/reference/7.6/dense-vector.html).\n",
        "\n",
        "**Alternatives:** If you are unable to setup an Elasticsearch instance, then follow the [Tutorial 3](https://github.com/deepset-ai/haystack/blob/master/tutorials/Tutorial3_Basic_QA_Pipeline_without_Elasticsearch.ipynb) for using SQL/InMemory document stores.\n",
        "\n",
        "**Hint**: This tutorial creates a new document store instance with Wikipedia articles on Game of Thrones. However, you can configure Haystack to work with your existing document stores.\n",
        "\n",
        "### Start an Elasticsearch server\n",
        "You can start Elasticsearch on your local machine instance using Docker. If Docker is not readily available in your environment (eg., in Colab notebooks), then you can manually download and execute Elasticsearch from source."
      ]
    },
    {
      "cell_type": "code",
      "metadata": {
        "id": "0pDv7Cbftp1A"
      },
      "source": [
        "# Recommended: Start Elasticsearch using Docker\n",
        "#! docker run -d -p 9200:9200 -e \"discovery.type=single-node\" elasticsearch:7.6.2"
      ],
      "execution_count": null,
      "outputs": []
    },
    {
      "cell_type": "code",
      "metadata": {
        "id": "P9C73XRxtp1S"
      },
      "source": [
        "# In Colab / No Docker environments: Start Elasticsearch from source\n",
        "! wget https://artifacts.elastic.co/downloads/elasticsearch/elasticsearch-7.6.2-linux-x86_64.tar.gz -q\n",
        "! tar -xzf elasticsearch-7.6.2-linux-x86_64.tar.gz\n",
        "! chown -R daemon:daemon elasticsearch-7.6.2\n",
        "\n",
        "import os\n",
        "from subprocess import Popen, PIPE, STDOUT\n",
        "es_server = Popen(['elasticsearch-7.6.2/bin/elasticsearch'],\n",
        "                   stdout=PIPE, stderr=STDOUT,\n",
        "                   preexec_fn=lambda: os.setuid(1)  # as daemon\n",
        "                  )\n",
        "# wait until ES has started\n",
        "! sleep 30"
      ],
      "execution_count": null,
      "outputs": []
    },
    {
      "cell_type": "code",
      "metadata": {
        "pycharm": {
          "name": "#%%\n"
        },
        "id": "x5rv1HkItp1U",
        "outputId": "4107e6aa-4180-4f73-d77e-16e9b74c935c",
        "colab": {
          "base_uri": "https://localhost:8080/",
          "height": 52
        }
      },
      "source": [
        "# Connect to Elasticsearch\n",
        "\n",
        "from haystack.document_store.elasticsearch import ElasticsearchDocumentStore\n",
        "document_store = ElasticsearchDocumentStore(host=\"localhost\", username=\"\", password=\"\", index=\"document\")"
      ],
      "execution_count": null,
      "outputs": [
        {
          "output_type": "stream",
          "text": [
            "10/27/2020 07:58:14 - INFO - elasticsearch -   PUT http://localhost:9200/document [status:200 request:0.678s]\n",
            "10/27/2020 07:58:14 - INFO - elasticsearch -   PUT http://localhost:9200/label [status:200 request:0.302s]\n"
          ],
          "name": "stderr"
        }
      ]
    },
    {
      "cell_type": "markdown",
      "metadata": {
        "pycharm": {
          "name": "#%% md\n"
        },
        "id": "XFRz16ystp1X"
      },
      "source": [
        "## Preprocessing of documents\n",
        "\n",
        "Haystack provides a customizable pipeline for:\n",
        " - converting files into texts\n",
        " - cleaning texts\n",
        " - splitting texts\n",
        " - writing them to a Document Store\n",
        "\n",
        "In this tutorial, we download Wikipedia articles about Game of Thrones, apply a basic cleaning function, and index them in Elasticsearch."
      ]
    },
    {
      "cell_type": "code",
      "metadata": {
        "id": "HQkXm6OxKbsb",
        "outputId": "58e418bc-e177-47ce-f5ef-6e9bc24c3bbc",
        "colab": {
          "base_uri": "https://localhost:8080/",
          "height": 521
        }
      },
      "source": [
        "!pip install wikipedia\n",
        "!pip install wikipedia-api"
      ],
      "execution_count": null,
      "outputs": [
        {
          "output_type": "stream",
          "text": [
            "Collecting wikipedia\n",
            "  Downloading https://files.pythonhosted.org/packages/67/35/25e68fbc99e672127cc6fbb14b8ec1ba3dfef035bf1e4c90f78f24a80b7d/wikipedia-1.4.0.tar.gz\n",
            "Requirement already satisfied: beautifulsoup4 in /usr/local/lib/python3.6/dist-packages (from wikipedia) (4.6.3)\n",
            "Requirement already satisfied: requests<3.0.0,>=2.0.0 in /usr/local/lib/python3.6/dist-packages (from wikipedia) (2.23.0)\n",
            "Requirement already satisfied: urllib3!=1.25.0,!=1.25.1,<1.26,>=1.21.1 in /usr/local/lib/python3.6/dist-packages (from requests<3.0.0,>=2.0.0->wikipedia) (1.25.4)\n",
            "Requirement already satisfied: chardet<4,>=3.0.2 in /usr/local/lib/python3.6/dist-packages (from requests<3.0.0,>=2.0.0->wikipedia) (3.0.4)\n",
            "Requirement already satisfied: idna<3,>=2.5 in /usr/local/lib/python3.6/dist-packages (from requests<3.0.0,>=2.0.0->wikipedia) (2.10)\n",
            "Requirement already satisfied: certifi>=2017.4.17 in /usr/local/lib/python3.6/dist-packages (from requests<3.0.0,>=2.0.0->wikipedia) (2020.6.20)\n",
            "Building wheels for collected packages: wikipedia\n",
            "  Building wheel for wikipedia (setup.py) ... \u001b[?25l\u001b[?25hdone\n",
            "  Created wheel for wikipedia: filename=wikipedia-1.4.0-cp36-none-any.whl size=11686 sha256=b5632b4c98b6f0a94a96fa07f486a5249b141546d9228da08349887334069ab0\n",
            "  Stored in directory: /root/.cache/pip/wheels/87/2a/18/4e471fd96d12114d16fe4a446d00c3b38fb9efcb744bd31f4a\n",
            "Successfully built wikipedia\n",
            "Installing collected packages: wikipedia\n",
            "Successfully installed wikipedia-1.4.0\n",
            "Collecting wikipedia-api\n",
            "  Downloading https://files.pythonhosted.org/packages/ef/3d/289963bbf51f8d00cdf7483cdc2baee25ba877e8b4eb72157c47211e3b57/Wikipedia-API-0.5.4.tar.gz\n",
            "Requirement already satisfied: requests in /usr/local/lib/python3.6/dist-packages (from wikipedia-api) (2.23.0)\n",
            "Requirement already satisfied: certifi>=2017.4.17 in /usr/local/lib/python3.6/dist-packages (from requests->wikipedia-api) (2020.6.20)\n",
            "Requirement already satisfied: urllib3!=1.25.0,!=1.25.1,<1.26,>=1.21.1 in /usr/local/lib/python3.6/dist-packages (from requests->wikipedia-api) (1.25.4)\n",
            "Requirement already satisfied: idna<3,>=2.5 in /usr/local/lib/python3.6/dist-packages (from requests->wikipedia-api) (2.10)\n",
            "Requirement already satisfied: chardet<4,>=3.0.2 in /usr/local/lib/python3.6/dist-packages (from requests->wikipedia-api) (3.0.4)\n",
            "Building wheels for collected packages: wikipedia-api\n",
            "  Building wheel for wikipedia-api (setup.py) ... \u001b[?25l\u001b[?25hdone\n",
            "  Created wheel for wikipedia-api: filename=Wikipedia_API-0.5.4-cp36-none-any.whl size=13462 sha256=ee8b494032e5f04f55e3c1680fd9e3c10c83601ab2fe2fdd8f6e551eebd085f3\n",
            "  Stored in directory: /root/.cache/pip/wheels/bf/40/42/ba1d497f3712281b659dd65b566fc868035c859239571a725a\n",
            "Successfully built wikipedia-api\n",
            "Installing collected packages: wikipedia-api\n",
            "Successfully installed wikipedia-api-0.5.4\n"
          ],
          "name": "stdout"
        }
      ]
    },
    {
      "cell_type": "code",
      "metadata": {
        "pycharm": {
          "name": "#%%\n"
        },
        "id": "Sdbts6X7tp1X",
        "outputId": "4d76ce61-07e6-4387-de7f-94e0fc3e872e",
        "colab": {
          "base_uri": "https://localhost:8080/",
          "height": 1000
        }
      },
      "source": [
        "# Fetch documents based on book title\n",
        "book_title = 'Great Expectations'\n",
        "\n",
        "# Use wikipedia and wikipedia-api packages to get wikipedia articles returned by searching for the book title\n",
        "import wikipedia\n",
        "import wikipediaapi\n",
        "wiki_wiki = wikipediaapi.Wikipedia('en')\n",
        "\n",
        "# Here each document is an individual section from a Wikipedia page\n",
        "dicts = []\n",
        "\n",
        "\n",
        "# Split all sections into different documents\n",
        "# def add_sections(title, sections, level=0):\n",
        "#     for s in sections:\n",
        "#         doc_dict = dict()\n",
        "#         doc_dict['text'] = s.text\n",
        "#         doc_dict['meta'] = dict()\n",
        "#         doc_dict['meta']['name'] = title + '/' + s.title\n",
        "#         dicts.append(doc_dict)\n",
        "#         add_sections(title, s.sections, level+1)\n",
        "\n",
        "# for counter, title in enumerate(wikipedia.search(book_title, results=50)):\n",
        "#     # Exclude articles with certain strings in the title\n",
        "#     if not any(x in title for x in (\"film\", \"video game\", \"soundtrack\", \"album\")):\n",
        "#         try: \n",
        "#             page_py = wiki_wiki.page(title)\n",
        "#             add_sections(title, page_py.sections)  \n",
        "            \n",
        "#         except:\n",
        "#             pass\n",
        "\n",
        "# Alternatively, only split the highest-level sections into individual documents\n",
        "\n",
        "section = ''\n",
        "\n",
        "def add_sub_sections(title, sections, level=0):\n",
        "    string = ''\n",
        "\n",
        "    for s in sections:\n",
        "        string += s.text\n",
        "        string += add_sub_sections(title, s.sections, level+1)\n",
        "        print(string)\n",
        "\n",
        "    return string\n",
        "\n",
        "def add_sections(title, sections, level=0):\n",
        "    for s in sections:\n",
        "        section_text = add_sub_sections(title, s.sections, level+1)\n",
        "        doc_dict = dict()\n",
        "        doc_dict['text'] = s.text + section_text\n",
        "        doc_dict['meta'] = dict()\n",
        "        doc_dict['meta']['name'] = title + '/' + s.title\n",
        "        dicts.append(doc_dict)\n",
        "\n",
        "for counter, title in enumerate(wikipedia.search(book_title, results=2)):\n",
        "    # Exclude articles with certain strings in the title\n",
        "    if not any(x in title for x in (\"film\", \"video game\", \"soundtrack\", \"album\")):\n",
        "        # try: \n",
        "        page_py = wiki_wiki.page(title)\n",
        "        add_sections(title, page_py.sections)  \n",
        "            \n",
        "        # except:\n",
        "        #   pass\n",
        "\n",
        "# The default format for the dicts here is:\n",
        "# {\n",
        "#    'text': \"<DOCUMENT_TEXT_HERE>\",\n",
        "#    'meta': {'name': \"<DOCUMENT_NAME_HERE>\", ...}\n",
        "#}\n",
        "# (Optionally: you can also add more key-value-pairs here, that will be indexed as fields in Elasticsearch and\n",
        "# can be accessed later for filtering or shown in the responses of the Finder)\n"
      ],
      "execution_count": null,
      "outputs": [
        {
          "output_type": "stream",
          "text": [
            "10/27/2020 07:58:24 - INFO - wikipediaapi -   Request URL: https://en.wikipedia.org/w/api.php?action=query&prop=extracts&titles=Great Expectations&explaintext=1&exsectionformat=wiki\n"
          ],
          "name": "stderr"
        },
        {
          "output_type": "stream",
          "text": [
            "On Christmas Eve, around 1812, Pip, an orphan about seven years old, is visiting the graves of his parents and siblings in the village churchyard, where he unexpectedly encounters an escaped prisoner. The convict scares Pip into stealing food and tools from Pip's hot-tempered elder sister and her amiable husband, Joe Gargery, a blacksmith, who have taken the orphan in. On early Christmas morning, Pip returns with a file, a pie, and brandy, though he fears being punished. \n",
            "During Christmas Dinner that evening, at the moment Pip's theft is about to be discovered, soldiers arrive and ask Joe to mend some shackles. Joe and Pip accompany them as they recapture the convict, who is fighting with another escaped convict. The first convict confesses to stealing food from the smithy, clearing Pip of suspicion.\n",
            "\n",
            "A few years pass. Miss Havisham, a wealthy and reclusive spinster who was jilted at the altar and still wears her old wedding dress, lives in the dilapidated Satis House. She asks Mr Pumblechook, a relation of the Gargerys, to find a boy to visit her. Pip visits Miss Havisham and falls in love with Estella, her adopted daughter. Estella is aloof and hostile to Pip, which Miss Havisham encourages. Pip visits Miss Havisham regularly, until he is old enough to learn a trade.Joe accompanies Pip for the last visit when she gives the money for Pip to be bound as an apprentice blacksmith. Joe's surly assistant, Dolge Orlick, is envious of Pip and dislikes Mrs Joe. When Pip and Joe are away from the house, Joe's wife is brutally attacked, leaving her unable to speak or do her work. Orlick is suspected of the attack. Mrs Joe changes and becomes kind-hearted after the attack. Pip's former schoolmate Biddy joins the household to help with her care.\n",
            "\n",
            "Four years into Pip's apprenticeship, Mr Jaggers, a lawyer, informs him that he has been provided with money from an anonymous patron, allowing him to become a gentleman. Pip is to leave for London, but presuming that Miss Havisham is his benefactress, he first visits her.\n",
            "On Christmas Eve, around 1812, Pip, an orphan about seven years old, is visiting the graves of his parents and siblings in the village churchyard, where he unexpectedly encounters an escaped prisoner. The convict scares Pip into stealing food and tools from Pip's hot-tempered elder sister and her amiable husband, Joe Gargery, a blacksmith, who have taken the orphan in. On early Christmas morning, Pip returns with a file, a pie, and brandy, though he fears being punished. \n",
            "During Christmas Dinner that evening, at the moment Pip's theft is about to be discovered, soldiers arrive and ask Joe to mend some shackles. Joe and Pip accompany them as they recapture the convict, who is fighting with another escaped convict. The first convict confesses to stealing food from the smithy, clearing Pip of suspicion.\n",
            "\n",
            "A few years pass. Miss Havisham, a wealthy and reclusive spinster who was jilted at the altar and still wears her old wedding dress, lives in the dilapidated Satis House. She asks Mr Pumblechook, a relation of the Gargerys, to find a boy to visit her. Pip visits Miss Havisham and falls in love with Estella, her adopted daughter. Estella is aloof and hostile to Pip, which Miss Havisham encourages. Pip visits Miss Havisham regularly, until he is old enough to learn a trade.Joe accompanies Pip for the last visit when she gives the money for Pip to be bound as an apprentice blacksmith. Joe's surly assistant, Dolge Orlick, is envious of Pip and dislikes Mrs Joe. When Pip and Joe are away from the house, Joe's wife is brutally attacked, leaving her unable to speak or do her work. Orlick is suspected of the attack. Mrs Joe changes and becomes kind-hearted after the attack. Pip's former schoolmate Biddy joins the household to help with her care.\n",
            "\n",
            "Four years into Pip's apprenticeship, Mr Jaggers, a lawyer, informs him that he has been provided with money from an anonymous patron, allowing him to become a gentleman. Pip is to leave for London, but presuming that Miss Havisham is his benefactress, he first visits her.Pip sets up house in London at Barnard's Inn with Herbert Pocket, the son of his tutor, Matthew Pocket, who is a cousin of Miss Havisham. Herbert and Pip realize they have previously met at Satis House, where Herbert was rejected as a playmate for Estella, and later challenged Pip to a boxing match. He tells Pip how Miss Havisham was defrauded and deserted by her fiancé. Pip meets fellow pupils, Bentley Drummle, a brute of a man from a wealthy noble family, and Startop, who is agreeable. Jaggers disburses the  money Pip needs.When Joe visits Pip at Barnard's Inn, Pip is ashamed of him. Joe relays a message from Miss Havisham that Estella will be at Satis House for a visit. Pip returns there to meet Estella and is encouraged by Miss Havisham, but he avoids visiting Joe. He is disquieted to see Orlick now in service to Miss Havisham. He mentions his misgivings to Jaggers, who promises Orlick's dismissal. Back in London, Pip and Herbert exchange their romantic secrets: Pip adores Estella and Herbert is engaged to Clara. Pip meets Estella when she is sent to Richmond to be introduced into society.Pip and Herbert build up debts. Mrs Joe dies and Pip returns to his village for the funeral. Pip's income is fixed at £500 per annum when he comes of age at twenty-one. With the help of Jaggers's clerk, Wemmick, Pip plans to help advance Herbert's future prospects by anonymously securing him a position with the shipbroker, Clarriker's. Pip takes Estella to Satis House. She and Miss Havisham quarrel over Estella's coldness. In London, Bentley Drummle outrages Pip, by proposing a toast to Estella. Later, at an Assembly Ball in Richmond, Pip witnesses Estella meeting Bentley Drummle and warns her about him; she replies that she has no qualms about entrapping him.A week after he turns 23 years old, Pip learns that his benefactor is the convict he encountered in the churchyard, Abel Magwitch, who had been transported to New South Wales after being captured. He has become wealthy after gaining his freedom there but cannot return to England on pain of death. However, he returns to see Pip, who was the motivation for all his success.\n",
            "On Christmas Eve, around 1812, Pip, an orphan about seven years old, is visiting the graves of his parents and siblings in the village churchyard, where he unexpectedly encounters an escaped prisoner. The convict scares Pip into stealing food and tools from Pip's hot-tempered elder sister and her amiable husband, Joe Gargery, a blacksmith, who have taken the orphan in. On early Christmas morning, Pip returns with a file, a pie, and brandy, though he fears being punished. \n",
            "During Christmas Dinner that evening, at the moment Pip's theft is about to be discovered, soldiers arrive and ask Joe to mend some shackles. Joe and Pip accompany them as they recapture the convict, who is fighting with another escaped convict. The first convict confesses to stealing food from the smithy, clearing Pip of suspicion.\n",
            "\n",
            "A few years pass. Miss Havisham, a wealthy and reclusive spinster who was jilted at the altar and still wears her old wedding dress, lives in the dilapidated Satis House. She asks Mr Pumblechook, a relation of the Gargerys, to find a boy to visit her. Pip visits Miss Havisham and falls in love with Estella, her adopted daughter. Estella is aloof and hostile to Pip, which Miss Havisham encourages. Pip visits Miss Havisham regularly, until he is old enough to learn a trade.Joe accompanies Pip for the last visit when she gives the money for Pip to be bound as an apprentice blacksmith. Joe's surly assistant, Dolge Orlick, is envious of Pip and dislikes Mrs Joe. When Pip and Joe are away from the house, Joe's wife is brutally attacked, leaving her unable to speak or do her work. Orlick is suspected of the attack. Mrs Joe changes and becomes kind-hearted after the attack. Pip's former schoolmate Biddy joins the household to help with her care.\n",
            "\n",
            "Four years into Pip's apprenticeship, Mr Jaggers, a lawyer, informs him that he has been provided with money from an anonymous patron, allowing him to become a gentleman. Pip is to leave for London, but presuming that Miss Havisham is his benefactress, he first visits her.Pip sets up house in London at Barnard's Inn with Herbert Pocket, the son of his tutor, Matthew Pocket, who is a cousin of Miss Havisham. Herbert and Pip realize they have previously met at Satis House, where Herbert was rejected as a playmate for Estella, and later challenged Pip to a boxing match. He tells Pip how Miss Havisham was defrauded and deserted by her fiancé. Pip meets fellow pupils, Bentley Drummle, a brute of a man from a wealthy noble family, and Startop, who is agreeable. Jaggers disburses the  money Pip needs.When Joe visits Pip at Barnard's Inn, Pip is ashamed of him. Joe relays a message from Miss Havisham that Estella will be at Satis House for a visit. Pip returns there to meet Estella and is encouraged by Miss Havisham, but he avoids visiting Joe. He is disquieted to see Orlick now in service to Miss Havisham. He mentions his misgivings to Jaggers, who promises Orlick's dismissal. Back in London, Pip and Herbert exchange their romantic secrets: Pip adores Estella and Herbert is engaged to Clara. Pip meets Estella when she is sent to Richmond to be introduced into society.Pip and Herbert build up debts. Mrs Joe dies and Pip returns to his village for the funeral. Pip's income is fixed at £500 per annum when he comes of age at twenty-one. With the help of Jaggers's clerk, Wemmick, Pip plans to help advance Herbert's future prospects by anonymously securing him a position with the shipbroker, Clarriker's. Pip takes Estella to Satis House. She and Miss Havisham quarrel over Estella's coldness. In London, Bentley Drummle outrages Pip, by proposing a toast to Estella. Later, at an Assembly Ball in Richmond, Pip witnesses Estella meeting Bentley Drummle and warns her about him; she replies that she has no qualms about entrapping him.A week after he turns 23 years old, Pip learns that his benefactor is the convict he encountered in the churchyard, Abel Magwitch, who had been transported to New South Wales after being captured. He has become wealthy after gaining his freedom there but cannot return to England on pain of death. However, he returns to see Pip, who was the motivation for all his success.Pip is shocked, and stops taking Magwitch's money. He and Herbert Pocket devise a plan for Magwitch to escape from England.Magwitch shares his past history with Pip, and reveals that the escaped convict whom he fought in the churchyard was Compeyson, the fraudster who had deserted Miss Havisham.Pip returns to Satis Hall to visit Estella and meets Bentley Drummle, who has also come to see her and now has Orlick as his servant. Pip accuses Miss Havisham of misleading him about his benefactor. She admits to doing so, but says that her plan was to annoy her relatives. Pip declares his love to Estella, who, coldly, tells him that she plans on marrying Drummle. Heartbroken, Pip walks back to London, where Wemmick warns him that Compeyson is seeking him. Pip and Herbert continue preparations for Magwitch's escape.At Jaggers's house for dinner, Wemmick tells Pip how Jaggers acquired his maidservant, Molly, rescuing her from the gallows when she was accused of murder.Then, full of remorse, Miss Havisham tells Pip how the infant Estella was brought to her by Jaggers and raised by her to be unfeeling and heartless. She knows nothing about Estella's parentage. She also tells Pip that Estella is now married. She gives Pip money to pay for Herbert Pocket's position at Clarriker's, and asks for his forgiveness. As Pip is about to leave, Miss Havisham's dress catches fire. Pip saves her, injuring himself in the process. She eventually dies from her injuries, lamenting her manipulation of Estella and Pip. Pip now realises that Estella is the daughter of Molly and Magwitch. When confronted about this, Jaggers discourages Pip from acting on his suspicions.\n",
            "\n",
            "A few days before Magwitch's planned escape, Pip is tricked by an anonymous letter into going to a sluice house near his old home, where he is seized by Orlick, who intends to murder him. Orlick freely admits to injuring Pip's sister. As Pip is about to be struck by a hammer, Herbert Pocket and Startop arrive and save Pip's life. The three of them pick up Magwitch to row him to the steamboat for Hamburg, but they are met by a police boat carrying Compeyson, who has offered to identify Magwitch. Magwitch seizes Compeyson, and they fight in the river. Seriously injured, Magwitch is taken by the police. Compeyson's body is found later.Pip is aware that Magwitch's fortune will go to the crown after his trial. But Herbert, who is preparing to move to Cairo, Egypt, to manage Clarriker's office there, offers Pip a position there. Pip always visits Magwitch in the prison hospital as he awaits trial, and on Magwitch's deathbed tells him that his daughter Estella is alive. After Herbert's departure for Cairo, Pip falls ill in his rooms, and faces arrest for debt. However, Joe nurses Pip back to health and pays off his debt. When Pip begins to recover, Joe slips away. Pip then returns to propose to Biddy, only to find that she has married Joe. Pip asks Joe's forgiveness, promises to repay him and leaves for Cairo. There he shares lodgings with Herbert and Clara, and eventually advances to become third in the company. Only then does Herbert learn that Pip paid for his position in the firm.After working eleven years in Egypt, Pip returns to England and visits Joe, Biddy and their son, Pip Jr. Then in the ruins of Satis House he meets the widowed Estella, who asks Pip to forgive her, assuring him that misfortune has opened her heart. As Pip takes Estella's hand and they leave the moonlit ruins, he sees \"no shadow of another parting from her.\"\n",
            "Philip Pirrip, nicknamed Pip, an orphan and the protagonist and narrator of Great Expectations. In his childhood, Pip dreamed of becoming a blacksmith like his kind brother-in-law, Joe Gargery. At Satis House, about age 8, he meets and falls in love with Estella, and tells Biddy that he wants to become a gentleman. As a result of Magwitch's anonymous patronage, Pip lives in London after learning the blacksmith trade, and becomes a gentleman. Pip assumes his benefactor is Miss Havisham; the discovery that his true benefactor is a convict shocks him. Pip, at the end of the story, is united with Estella.\n",
            "Joe Gargery, Pip's brother-in-law, and his first father figure. He is a blacksmith who is always kind to Pip and the only person with whom Pip is always honest. Joe is disappointed when Pip decides to leave his home to live in London to become a gentleman rather than be a blacksmith in business with Joe. He is a strong man who bears the shortcomings of those closest to him.\n",
            "Mrs Joe Gargery, Pip's hot-tempered adult sister, Georgiana Maria, called Mrs Joe, 20 years older than Pip. She brings him up after their parents' death. She does the work of the household but too often loses her temper and beats her family. Orlick, her husband's journeyman, attacks her during a botched burglary, and she is left disabled until her death.\n",
            "Mr Pumblechook, Joe Gargery's uncle, an officious bachelor and corn merchant. While not knowing how to deal with a growing boy, he tells Mrs Joe, as she is known, how noble she is to bring up Pip. As the person who first connected Pip to Miss Havisham, he claims to have been the original architect of Pip's expectations. Pip dislikes Mr Pumblechook for his pompous, unfounded claims. When Pip stands up to him in a public place, after those expectations are dashed, Mr Pumblechook turns those listening to the conversation against Pip.\n",
            "Philip Pirrip, nicknamed Pip, an orphan and the protagonist and narrator of Great Expectations. In his childhood, Pip dreamed of becoming a blacksmith like his kind brother-in-law, Joe Gargery. At Satis House, about age 8, he meets and falls in love with Estella, and tells Biddy that he wants to become a gentleman. As a result of Magwitch's anonymous patronage, Pip lives in London after learning the blacksmith trade, and becomes a gentleman. Pip assumes his benefactor is Miss Havisham; the discovery that his true benefactor is a convict shocks him. Pip, at the end of the story, is united with Estella.\n",
            "Joe Gargery, Pip's brother-in-law, and his first father figure. He is a blacksmith who is always kind to Pip and the only person with whom Pip is always honest. Joe is disappointed when Pip decides to leave his home to live in London to become a gentleman rather than be a blacksmith in business with Joe. He is a strong man who bears the shortcomings of those closest to him.\n",
            "Mrs Joe Gargery, Pip's hot-tempered adult sister, Georgiana Maria, called Mrs Joe, 20 years older than Pip. She brings him up after their parents' death. She does the work of the household but too often loses her temper and beats her family. Orlick, her husband's journeyman, attacks her during a botched burglary, and she is left disabled until her death.\n",
            "Mr Pumblechook, Joe Gargery's uncle, an officious bachelor and corn merchant. While not knowing how to deal with a growing boy, he tells Mrs Joe, as she is known, how noble she is to bring up Pip. As the person who first connected Pip to Miss Havisham, he claims to have been the original architect of Pip's expectations. Pip dislikes Mr Pumblechook for his pompous, unfounded claims. When Pip stands up to him in a public place, after those expectations are dashed, Mr Pumblechook turns those listening to the conversation against Pip.Miss Havisham, a wealthy spinster who takes Pip on as a companion for herself and her adopted daughter, Estella. Havisham is a wealthy, eccentric woman who has worn her wedding dress and one shoe since the day that she was jilted at the altar by her fiancé. Her house is unchanged as well. She hates all men, and plots to wreak a twisted revenge by teaching Estella to torment and spurn men, including Pip, who loves her. Miss Havisham is later overcome with remorse for ruining both Estella's and Pip's chances for happiness. Shortly after confessing her plotting to Pip and begging for his forgiveness, she is badly burned when her dress accidentally catches fire. In a later chapter Pip learns from Joe that she is dead.\n",
            "Estella, Miss Havisham's adopted daughter, whom Pip pursues. She is a beautiful girl and grows more beautiful after her schooling in France. Estella represents the life of wealth and culture for which Pip strives. Since Miss Havisham ruined Estella's ability to love, Estella cannot return Pip's passion. She warns Pip of this repeatedly, but he will not or cannot believe her. Estella does not know that she is the daughter of Molly, Jaggers's housekeeper, and the convict Abel Magwitch, given up for adoption to Miss Havisham after her mother was arrested for murder. In marrying Bentley Drummle, she rebels against Miss Havisham's plan to have her break a husband's heart, as Drummle is not interested in Estella but simply in the Havisham fortune.\n",
            "Matthew Pocket, Miss Havisham's cousin. He is the patriarch of the Pocket family, but unlike her other relatives, he is not greedy for Havisham's wealth. Matthew Pocket tutors young gentlemen, such as Bentley Drummle, Startop, Pip and his own son Herbert.\n",
            "Herbert Pocket, the son of Matthew Pocket, who was invited like Pip to visit Miss Havisham, but she did not take to him. Pip first meets Herbert as a \"pale young gentleman\" who challenges Pip to a fistfight at Miss Havisham's house when both are children. He later becomes Pip's friend, tutoring him in the \"gentlemanly\" arts and sharing his rooms with Pip in London.\n",
            "Camilla, one of the sisters of Matthew Pocket, and therefore a cousin of Miss Havisham, she is an obsequious, detestable woman who is intent on pleasing Miss Havisham to get her money.\n",
            "Cousin Raymond, a relative of Miss Havisham who is only interested in her money. He is married to Camilla.\n",
            "Georgiana, a relative of Miss Havisham who is only interested in her money. She is one of the many relatives who hang around Miss Havisham \"like flies\" for her wealth.\n",
            "Sarah Pocket, the sister of Matthew Pocket, relative of Miss Havisham. She is often at Satis House. She is described as \"a dry, brown corrugated old woman, with a small face that might have been made out of walnut shells, and a large mouth like a cat's without the whiskers.\"\n",
            "Philip Pirrip, nicknamed Pip, an orphan and the protagonist and narrator of Great Expectations. In his childhood, Pip dreamed of becoming a blacksmith like his kind brother-in-law, Joe Gargery. At Satis House, about age 8, he meets and falls in love with Estella, and tells Biddy that he wants to become a gentleman. As a result of Magwitch's anonymous patronage, Pip lives in London after learning the blacksmith trade, and becomes a gentleman. Pip assumes his benefactor is Miss Havisham; the discovery that his true benefactor is a convict shocks him. Pip, at the end of the story, is united with Estella.\n",
            "Joe Gargery, Pip's brother-in-law, and his first father figure. He is a blacksmith who is always kind to Pip and the only person with whom Pip is always honest. Joe is disappointed when Pip decides to leave his home to live in London to become a gentleman rather than be a blacksmith in business with Joe. He is a strong man who bears the shortcomings of those closest to him.\n",
            "Mrs Joe Gargery, Pip's hot-tempered adult sister, Georgiana Maria, called Mrs Joe, 20 years older than Pip. She brings him up after their parents' death. She does the work of the household but too often loses her temper and beats her family. Orlick, her husband's journeyman, attacks her during a botched burglary, and she is left disabled until her death.\n",
            "Mr Pumblechook, Joe Gargery's uncle, an officious bachelor and corn merchant. While not knowing how to deal with a growing boy, he tells Mrs Joe, as she is known, how noble she is to bring up Pip. As the person who first connected Pip to Miss Havisham, he claims to have been the original architect of Pip's expectations. Pip dislikes Mr Pumblechook for his pompous, unfounded claims. When Pip stands up to him in a public place, after those expectations are dashed, Mr Pumblechook turns those listening to the conversation against Pip.Miss Havisham, a wealthy spinster who takes Pip on as a companion for herself and her adopted daughter, Estella. Havisham is a wealthy, eccentric woman who has worn her wedding dress and one shoe since the day that she was jilted at the altar by her fiancé. Her house is unchanged as well. She hates all men, and plots to wreak a twisted revenge by teaching Estella to torment and spurn men, including Pip, who loves her. Miss Havisham is later overcome with remorse for ruining both Estella's and Pip's chances for happiness. Shortly after confessing her plotting to Pip and begging for his forgiveness, she is badly burned when her dress accidentally catches fire. In a later chapter Pip learns from Joe that she is dead.\n",
            "Estella, Miss Havisham's adopted daughter, whom Pip pursues. She is a beautiful girl and grows more beautiful after her schooling in France. Estella represents the life of wealth and culture for which Pip strives. Since Miss Havisham ruined Estella's ability to love, Estella cannot return Pip's passion. She warns Pip of this repeatedly, but he will not or cannot believe her. Estella does not know that she is the daughter of Molly, Jaggers's housekeeper, and the convict Abel Magwitch, given up for adoption to Miss Havisham after her mother was arrested for murder. In marrying Bentley Drummle, she rebels against Miss Havisham's plan to have her break a husband's heart, as Drummle is not interested in Estella but simply in the Havisham fortune.\n",
            "Matthew Pocket, Miss Havisham's cousin. He is the patriarch of the Pocket family, but unlike her other relatives, he is not greedy for Havisham's wealth. Matthew Pocket tutors young gentlemen, such as Bentley Drummle, Startop, Pip and his own son Herbert.\n",
            "Herbert Pocket, the son of Matthew Pocket, who was invited like Pip to visit Miss Havisham, but she did not take to him. Pip first meets Herbert as a \"pale young gentleman\" who challenges Pip to a fistfight at Miss Havisham's house when both are children. He later becomes Pip's friend, tutoring him in the \"gentlemanly\" arts and sharing his rooms with Pip in London.\n",
            "Camilla, one of the sisters of Matthew Pocket, and therefore a cousin of Miss Havisham, she is an obsequious, detestable woman who is intent on pleasing Miss Havisham to get her money.\n",
            "Cousin Raymond, a relative of Miss Havisham who is only interested in her money. He is married to Camilla.\n",
            "Georgiana, a relative of Miss Havisham who is only interested in her money. She is one of the many relatives who hang around Miss Havisham \"like flies\" for her wealth.\n",
            "Sarah Pocket, the sister of Matthew Pocket, relative of Miss Havisham. She is often at Satis House. She is described as \"a dry, brown corrugated old woman, with a small face that might have been made out of walnut shells, and a large mouth like a cat's without the whiskers.\"The Convict, who escapes from a prison ship, whom Pip treats kindly, and who in turn becomes Pip's benefactor. His name is Abel Magwitch, but he uses the aliases \"Provis\" and \"Mr Campbell\" when he returns to England from exile in Australia. He is a lesser actor in crime with Compeyson, but gains a longer sentence in an apparent application of justice by social class.\n",
            "Mr and Mrs Hubble, simple folk who think they are more important than they really are. They live in Pip's village.\n",
            "Mr Wopsle, clerk of the church in Pip's village. He later gives up the church work and moves to London to pursue his ambition to be an actor, adopting the stage name \"Mr Waldengarver.\" He sees the other convict in the audience of one of his performances, attended also by Pip.\n",
            "Biddy, Wopsle's second cousin and near Pip's age; she teaches in the evening school at her grandmother's home in Pip's village. Pip wants to learn more, so he asks her to teach him all she can. After helping Mrs Joe after the attack, Biddy opens her own school. A kind and intelligent but poor young woman, she is, like Pip and Estella, an orphan. She acts as Estella's foil. Orlick was attracted to her, but she did not want his attentions. Pip ignores her affections for him as he pursues Estella. Recovering from his own illness after the failed attempt to get Magwitch out of England, Pip returns to claim Biddy as his bride, arriving in the village just after she marries Joe Gargery. Biddy and Joe later have two children, one named after Pip. In the ending to the novel discarded by Dickens but revived by students of the novel's development, Estella mistakes the boy as Pip's child.\n",
            "Philip Pirrip, nicknamed Pip, an orphan and the protagonist and narrator of Great Expectations. In his childhood, Pip dreamed of becoming a blacksmith like his kind brother-in-law, Joe Gargery. At Satis House, about age 8, he meets and falls in love with Estella, and tells Biddy that he wants to become a gentleman. As a result of Magwitch's anonymous patronage, Pip lives in London after learning the blacksmith trade, and becomes a gentleman. Pip assumes his benefactor is Miss Havisham; the discovery that his true benefactor is a convict shocks him. Pip, at the end of the story, is united with Estella.\n",
            "Joe Gargery, Pip's brother-in-law, and his first father figure. He is a blacksmith who is always kind to Pip and the only person with whom Pip is always honest. Joe is disappointed when Pip decides to leave his home to live in London to become a gentleman rather than be a blacksmith in business with Joe. He is a strong man who bears the shortcomings of those closest to him.\n",
            "Mrs Joe Gargery, Pip's hot-tempered adult sister, Georgiana Maria, called Mrs Joe, 20 years older than Pip. She brings him up after their parents' death. She does the work of the household but too often loses her temper and beats her family. Orlick, her husband's journeyman, attacks her during a botched burglary, and she is left disabled until her death.\n",
            "Mr Pumblechook, Joe Gargery's uncle, an officious bachelor and corn merchant. While not knowing how to deal with a growing boy, he tells Mrs Joe, as she is known, how noble she is to bring up Pip. As the person who first connected Pip to Miss Havisham, he claims to have been the original architect of Pip's expectations. Pip dislikes Mr Pumblechook for his pompous, unfounded claims. When Pip stands up to him in a public place, after those expectations are dashed, Mr Pumblechook turns those listening to the conversation against Pip.Miss Havisham, a wealthy spinster who takes Pip on as a companion for herself and her adopted daughter, Estella. Havisham is a wealthy, eccentric woman who has worn her wedding dress and one shoe since the day that she was jilted at the altar by her fiancé. Her house is unchanged as well. She hates all men, and plots to wreak a twisted revenge by teaching Estella to torment and spurn men, including Pip, who loves her. Miss Havisham is later overcome with remorse for ruining both Estella's and Pip's chances for happiness. Shortly after confessing her plotting to Pip and begging for his forgiveness, she is badly burned when her dress accidentally catches fire. In a later chapter Pip learns from Joe that she is dead.\n",
            "Estella, Miss Havisham's adopted daughter, whom Pip pursues. She is a beautiful girl and grows more beautiful after her schooling in France. Estella represents the life of wealth and culture for which Pip strives. Since Miss Havisham ruined Estella's ability to love, Estella cannot return Pip's passion. She warns Pip of this repeatedly, but he will not or cannot believe her. Estella does not know that she is the daughter of Molly, Jaggers's housekeeper, and the convict Abel Magwitch, given up for adoption to Miss Havisham after her mother was arrested for murder. In marrying Bentley Drummle, she rebels against Miss Havisham's plan to have her break a husband's heart, as Drummle is not interested in Estella but simply in the Havisham fortune.\n",
            "Matthew Pocket, Miss Havisham's cousin. He is the patriarch of the Pocket family, but unlike her other relatives, he is not greedy for Havisham's wealth. Matthew Pocket tutors young gentlemen, such as Bentley Drummle, Startop, Pip and his own son Herbert.\n",
            "Herbert Pocket, the son of Matthew Pocket, who was invited like Pip to visit Miss Havisham, but she did not take to him. Pip first meets Herbert as a \"pale young gentleman\" who challenges Pip to a fistfight at Miss Havisham's house when both are children. He later becomes Pip's friend, tutoring him in the \"gentlemanly\" arts and sharing his rooms with Pip in London.\n",
            "Camilla, one of the sisters of Matthew Pocket, and therefore a cousin of Miss Havisham, she is an obsequious, detestable woman who is intent on pleasing Miss Havisham to get her money.\n",
            "Cousin Raymond, a relative of Miss Havisham who is only interested in her money. He is married to Camilla.\n",
            "Georgiana, a relative of Miss Havisham who is only interested in her money. She is one of the many relatives who hang around Miss Havisham \"like flies\" for her wealth.\n",
            "Sarah Pocket, the sister of Matthew Pocket, relative of Miss Havisham. She is often at Satis House. She is described as \"a dry, brown corrugated old woman, with a small face that might have been made out of walnut shells, and a large mouth like a cat's without the whiskers.\"The Convict, who escapes from a prison ship, whom Pip treats kindly, and who in turn becomes Pip's benefactor. His name is Abel Magwitch, but he uses the aliases \"Provis\" and \"Mr Campbell\" when he returns to England from exile in Australia. He is a lesser actor in crime with Compeyson, but gains a longer sentence in an apparent application of justice by social class.\n",
            "Mr and Mrs Hubble, simple folk who think they are more important than they really are. They live in Pip's village.\n",
            "Mr Wopsle, clerk of the church in Pip's village. He later gives up the church work and moves to London to pursue his ambition to be an actor, adopting the stage name \"Mr Waldengarver.\" He sees the other convict in the audience of one of his performances, attended also by Pip.\n",
            "Biddy, Wopsle's second cousin and near Pip's age; she teaches in the evening school at her grandmother's home in Pip's village. Pip wants to learn more, so he asks her to teach him all she can. After helping Mrs Joe after the attack, Biddy opens her own school. A kind and intelligent but poor young woman, she is, like Pip and Estella, an orphan. She acts as Estella's foil. Orlick was attracted to her, but she did not want his attentions. Pip ignores her affections for him as he pursues Estella. Recovering from his own illness after the failed attempt to get Magwitch out of England, Pip returns to claim Biddy as his bride, arriving in the village just after she marries Joe Gargery. Biddy and Joe later have two children, one named after Pip. In the ending to the novel discarded by Dickens but revived by students of the novel's development, Estella mistakes the boy as Pip's child.Mr Jaggers, prominent London lawyer who represents the interests of diverse clients, both criminal and civil. He represents Pip's benefactor and Miss Havisham as well. By the end of the story, his law practice links many of the characters.\n",
            "John Wemmick, Jaggers' clerk, who is Pip's chief go-between with Jaggers and looks after Pip in London. Wemmick lives with his father, \"The Aged Parent\", in a small replica of a castle, complete with a drawbridge and moat, in Walworth.\n",
            "Molly, Mr Jaggers' maidservant whom Jaggers saved from the gallows for murder. She is revealed to be Magwitch's estranged wife and Estella's mother.\n",
            "Philip Pirrip, nicknamed Pip, an orphan and the protagonist and narrator of Great Expectations. In his childhood, Pip dreamed of becoming a blacksmith like his kind brother-in-law, Joe Gargery. At Satis House, about age 8, he meets and falls in love with Estella, and tells Biddy that he wants to become a gentleman. As a result of Magwitch's anonymous patronage, Pip lives in London after learning the blacksmith trade, and becomes a gentleman. Pip assumes his benefactor is Miss Havisham; the discovery that his true benefactor is a convict shocks him. Pip, at the end of the story, is united with Estella.\n",
            "Joe Gargery, Pip's brother-in-law, and his first father figure. He is a blacksmith who is always kind to Pip and the only person with whom Pip is always honest. Joe is disappointed when Pip decides to leave his home to live in London to become a gentleman rather than be a blacksmith in business with Joe. He is a strong man who bears the shortcomings of those closest to him.\n",
            "Mrs Joe Gargery, Pip's hot-tempered adult sister, Georgiana Maria, called Mrs Joe, 20 years older than Pip. She brings him up after their parents' death. She does the work of the household but too often loses her temper and beats her family. Orlick, her husband's journeyman, attacks her during a botched burglary, and she is left disabled until her death.\n",
            "Mr Pumblechook, Joe Gargery's uncle, an officious bachelor and corn merchant. While not knowing how to deal with a growing boy, he tells Mrs Joe, as she is known, how noble she is to bring up Pip. As the person who first connected Pip to Miss Havisham, he claims to have been the original architect of Pip's expectations. Pip dislikes Mr Pumblechook for his pompous, unfounded claims. When Pip stands up to him in a public place, after those expectations are dashed, Mr Pumblechook turns those listening to the conversation against Pip.Miss Havisham, a wealthy spinster who takes Pip on as a companion for herself and her adopted daughter, Estella. Havisham is a wealthy, eccentric woman who has worn her wedding dress and one shoe since the day that she was jilted at the altar by her fiancé. Her house is unchanged as well. She hates all men, and plots to wreak a twisted revenge by teaching Estella to torment and spurn men, including Pip, who loves her. Miss Havisham is later overcome with remorse for ruining both Estella's and Pip's chances for happiness. Shortly after confessing her plotting to Pip and begging for his forgiveness, she is badly burned when her dress accidentally catches fire. In a later chapter Pip learns from Joe that she is dead.\n",
            "Estella, Miss Havisham's adopted daughter, whom Pip pursues. She is a beautiful girl and grows more beautiful after her schooling in France. Estella represents the life of wealth and culture for which Pip strives. Since Miss Havisham ruined Estella's ability to love, Estella cannot return Pip's passion. She warns Pip of this repeatedly, but he will not or cannot believe her. Estella does not know that she is the daughter of Molly, Jaggers's housekeeper, and the convict Abel Magwitch, given up for adoption to Miss Havisham after her mother was arrested for murder. In marrying Bentley Drummle, she rebels against Miss Havisham's plan to have her break a husband's heart, as Drummle is not interested in Estella but simply in the Havisham fortune.\n",
            "Matthew Pocket, Miss Havisham's cousin. He is the patriarch of the Pocket family, but unlike her other relatives, he is not greedy for Havisham's wealth. Matthew Pocket tutors young gentlemen, such as Bentley Drummle, Startop, Pip and his own son Herbert.\n",
            "Herbert Pocket, the son of Matthew Pocket, who was invited like Pip to visit Miss Havisham, but she did not take to him. Pip first meets Herbert as a \"pale young gentleman\" who challenges Pip to a fistfight at Miss Havisham's house when both are children. He later becomes Pip's friend, tutoring him in the \"gentlemanly\" arts and sharing his rooms with Pip in London.\n",
            "Camilla, one of the sisters of Matthew Pocket, and therefore a cousin of Miss Havisham, she is an obsequious, detestable woman who is intent on pleasing Miss Havisham to get her money.\n",
            "Cousin Raymond, a relative of Miss Havisham who is only interested in her money. He is married to Camilla.\n",
            "Georgiana, a relative of Miss Havisham who is only interested in her money. She is one of the many relatives who hang around Miss Havisham \"like flies\" for her wealth.\n",
            "Sarah Pocket, the sister of Matthew Pocket, relative of Miss Havisham. She is often at Satis House. She is described as \"a dry, brown corrugated old woman, with a small face that might have been made out of walnut shells, and a large mouth like a cat's without the whiskers.\"The Convict, who escapes from a prison ship, whom Pip treats kindly, and who in turn becomes Pip's benefactor. His name is Abel Magwitch, but he uses the aliases \"Provis\" and \"Mr Campbell\" when he returns to England from exile in Australia. He is a lesser actor in crime with Compeyson, but gains a longer sentence in an apparent application of justice by social class.\n",
            "Mr and Mrs Hubble, simple folk who think they are more important than they really are. They live in Pip's village.\n",
            "Mr Wopsle, clerk of the church in Pip's village. He later gives up the church work and moves to London to pursue his ambition to be an actor, adopting the stage name \"Mr Waldengarver.\" He sees the other convict in the audience of one of his performances, attended also by Pip.\n",
            "Biddy, Wopsle's second cousin and near Pip's age; she teaches in the evening school at her grandmother's home in Pip's village. Pip wants to learn more, so he asks her to teach him all she can. After helping Mrs Joe after the attack, Biddy opens her own school. A kind and intelligent but poor young woman, she is, like Pip and Estella, an orphan. She acts as Estella's foil. Orlick was attracted to her, but she did not want his attentions. Pip ignores her affections for him as he pursues Estella. Recovering from his own illness after the failed attempt to get Magwitch out of England, Pip returns to claim Biddy as his bride, arriving in the village just after she marries Joe Gargery. Biddy and Joe later have two children, one named after Pip. In the ending to the novel discarded by Dickens but revived by students of the novel's development, Estella mistakes the boy as Pip's child.Mr Jaggers, prominent London lawyer who represents the interests of diverse clients, both criminal and civil. He represents Pip's benefactor and Miss Havisham as well. By the end of the story, his law practice links many of the characters.\n",
            "John Wemmick, Jaggers' clerk, who is Pip's chief go-between with Jaggers and looks after Pip in London. Wemmick lives with his father, \"The Aged Parent\", in a small replica of a castle, complete with a drawbridge and moat, in Walworth.\n",
            "Molly, Mr Jaggers' maidservant whom Jaggers saved from the gallows for murder. She is revealed to be Magwitch's estranged wife and Estella's mother.Compeyson, a convict who escapes the prison ship after Magwitch, who beats him up ashore. He is Magwitch's enemy. A professional swindler, he was engaged to marry Miss Havisham, but he was in league with Arthur Havisham to defraud Miss Havisham of part of her fortune. Later he sets up Magwitch to take the fall for another swindle. He works with the police when he learns Abel Magwitch is in London, fearing Magwitch after their first escapes years earlier. When the police boat encounters the one carrying Magwitch, the two grapple, and Compeyson drowns in the Thames.\n",
            "Arthur Havisham, younger half brother of Miss Havisham, who plots with Compeyson to swindle her.\n",
            "Dolge Orlick, journeyman blacksmith at Joe Gargery's forge. Strong, rude and sullen, he is as churlish as Joe is gentle and kind. He ends up in a fistfight with Joe over Mrs Gargery's taunting, and Joe easily defeats him. This sets in motion an escalating chain of events that leads him secretly to assault Mrs Gargery and to try to kill her brother Pip. The police ultimately arrest him for housebreaking into Uncle Pumblechook's, where he is later jailed.\n",
            "Bentley Drummle, a coarse, unintelligent young man from a wealthy noble family  being  \"the  next  heir but  one  to  a  baronetcy\". Pip meets him at Mr Pocket's house, as Drummle is also to be trained in gentlemanly skills. Drummle is hostile to Pip and everyone else. He is a rival for Estella's attentions and eventually marries her and is said to abuse her. He dies from an accident following his mistreatment of a horse.\n",
            "Philip Pirrip, nicknamed Pip, an orphan and the protagonist and narrator of Great Expectations. In his childhood, Pip dreamed of becoming a blacksmith like his kind brother-in-law, Joe Gargery. At Satis House, about age 8, he meets and falls in love with Estella, and tells Biddy that he wants to become a gentleman. As a result of Magwitch's anonymous patronage, Pip lives in London after learning the blacksmith trade, and becomes a gentleman. Pip assumes his benefactor is Miss Havisham; the discovery that his true benefactor is a convict shocks him. Pip, at the end of the story, is united with Estella.\n",
            "Joe Gargery, Pip's brother-in-law, and his first father figure. He is a blacksmith who is always kind to Pip and the only person with whom Pip is always honest. Joe is disappointed when Pip decides to leave his home to live in London to become a gentleman rather than be a blacksmith in business with Joe. He is a strong man who bears the shortcomings of those closest to him.\n",
            "Mrs Joe Gargery, Pip's hot-tempered adult sister, Georgiana Maria, called Mrs Joe, 20 years older than Pip. She brings him up after their parents' death. She does the work of the household but too often loses her temper and beats her family. Orlick, her husband's journeyman, attacks her during a botched burglary, and she is left disabled until her death.\n",
            "Mr Pumblechook, Joe Gargery's uncle, an officious bachelor and corn merchant. While not knowing how to deal with a growing boy, he tells Mrs Joe, as she is known, how noble she is to bring up Pip. As the person who first connected Pip to Miss Havisham, he claims to have been the original architect of Pip's expectations. Pip dislikes Mr Pumblechook for his pompous, unfounded claims. When Pip stands up to him in a public place, after those expectations are dashed, Mr Pumblechook turns those listening to the conversation against Pip.Miss Havisham, a wealthy spinster who takes Pip on as a companion for herself and her adopted daughter, Estella. Havisham is a wealthy, eccentric woman who has worn her wedding dress and one shoe since the day that she was jilted at the altar by her fiancé. Her house is unchanged as well. She hates all men, and plots to wreak a twisted revenge by teaching Estella to torment and spurn men, including Pip, who loves her. Miss Havisham is later overcome with remorse for ruining both Estella's and Pip's chances for happiness. Shortly after confessing her plotting to Pip and begging for his forgiveness, she is badly burned when her dress accidentally catches fire. In a later chapter Pip learns from Joe that she is dead.\n",
            "Estella, Miss Havisham's adopted daughter, whom Pip pursues. She is a beautiful girl and grows more beautiful after her schooling in France. Estella represents the life of wealth and culture for which Pip strives. Since Miss Havisham ruined Estella's ability to love, Estella cannot return Pip's passion. She warns Pip of this repeatedly, but he will not or cannot believe her. Estella does not know that she is the daughter of Molly, Jaggers's housekeeper, and the convict Abel Magwitch, given up for adoption to Miss Havisham after her mother was arrested for murder. In marrying Bentley Drummle, she rebels against Miss Havisham's plan to have her break a husband's heart, as Drummle is not interested in Estella but simply in the Havisham fortune.\n",
            "Matthew Pocket, Miss Havisham's cousin. He is the patriarch of the Pocket family, but unlike her other relatives, he is not greedy for Havisham's wealth. Matthew Pocket tutors young gentlemen, such as Bentley Drummle, Startop, Pip and his own son Herbert.\n",
            "Herbert Pocket, the son of Matthew Pocket, who was invited like Pip to visit Miss Havisham, but she did not take to him. Pip first meets Herbert as a \"pale young gentleman\" who challenges Pip to a fistfight at Miss Havisham's house when both are children. He later becomes Pip's friend, tutoring him in the \"gentlemanly\" arts and sharing his rooms with Pip in London.\n",
            "Camilla, one of the sisters of Matthew Pocket, and therefore a cousin of Miss Havisham, she is an obsequious, detestable woman who is intent on pleasing Miss Havisham to get her money.\n",
            "Cousin Raymond, a relative of Miss Havisham who is only interested in her money. He is married to Camilla.\n",
            "Georgiana, a relative of Miss Havisham who is only interested in her money. She is one of the many relatives who hang around Miss Havisham \"like flies\" for her wealth.\n",
            "Sarah Pocket, the sister of Matthew Pocket, relative of Miss Havisham. She is often at Satis House. She is described as \"a dry, brown corrugated old woman, with a small face that might have been made out of walnut shells, and a large mouth like a cat's without the whiskers.\"The Convict, who escapes from a prison ship, whom Pip treats kindly, and who in turn becomes Pip's benefactor. His name is Abel Magwitch, but he uses the aliases \"Provis\" and \"Mr Campbell\" when he returns to England from exile in Australia. He is a lesser actor in crime with Compeyson, but gains a longer sentence in an apparent application of justice by social class.\n",
            "Mr and Mrs Hubble, simple folk who think they are more important than they really are. They live in Pip's village.\n",
            "Mr Wopsle, clerk of the church in Pip's village. He later gives up the church work and moves to London to pursue his ambition to be an actor, adopting the stage name \"Mr Waldengarver.\" He sees the other convict in the audience of one of his performances, attended also by Pip.\n",
            "Biddy, Wopsle's second cousin and near Pip's age; she teaches in the evening school at her grandmother's home in Pip's village. Pip wants to learn more, so he asks her to teach him all she can. After helping Mrs Joe after the attack, Biddy opens her own school. A kind and intelligent but poor young woman, she is, like Pip and Estella, an orphan. She acts as Estella's foil. Orlick was attracted to her, but she did not want his attentions. Pip ignores her affections for him as he pursues Estella. Recovering from his own illness after the failed attempt to get Magwitch out of England, Pip returns to claim Biddy as his bride, arriving in the village just after she marries Joe Gargery. Biddy and Joe later have two children, one named after Pip. In the ending to the novel discarded by Dickens but revived by students of the novel's development, Estella mistakes the boy as Pip's child.Mr Jaggers, prominent London lawyer who represents the interests of diverse clients, both criminal and civil. He represents Pip's benefactor and Miss Havisham as well. By the end of the story, his law practice links many of the characters.\n",
            "John Wemmick, Jaggers' clerk, who is Pip's chief go-between with Jaggers and looks after Pip in London. Wemmick lives with his father, \"The Aged Parent\", in a small replica of a castle, complete with a drawbridge and moat, in Walworth.\n",
            "Molly, Mr Jaggers' maidservant whom Jaggers saved from the gallows for murder. She is revealed to be Magwitch's estranged wife and Estella's mother.Compeyson, a convict who escapes the prison ship after Magwitch, who beats him up ashore. He is Magwitch's enemy. A professional swindler, he was engaged to marry Miss Havisham, but he was in league with Arthur Havisham to defraud Miss Havisham of part of her fortune. Later he sets up Magwitch to take the fall for another swindle. He works with the police when he learns Abel Magwitch is in London, fearing Magwitch after their first escapes years earlier. When the police boat encounters the one carrying Magwitch, the two grapple, and Compeyson drowns in the Thames.\n",
            "Arthur Havisham, younger half brother of Miss Havisham, who plots with Compeyson to swindle her.\n",
            "Dolge Orlick, journeyman blacksmith at Joe Gargery's forge. Strong, rude and sullen, he is as churlish as Joe is gentle and kind. He ends up in a fistfight with Joe over Mrs Gargery's taunting, and Joe easily defeats him. This sets in motion an escalating chain of events that leads him secretly to assault Mrs Gargery and to try to kill her brother Pip. The police ultimately arrest him for housebreaking into Uncle Pumblechook's, where he is later jailed.\n",
            "Bentley Drummle, a coarse, unintelligent young man from a wealthy noble family  being  \"the  next  heir but  one  to  a  baronetcy\". Pip meets him at Mr Pocket's house, as Drummle is also to be trained in gentlemanly skills. Drummle is hostile to Pip and everyone else. He is a rival for Estella's attentions and eventually marries her and is said to abuse her. He dies from an accident following his mistreatment of a horse.Clara Barley, a very poor girl living with her gout-ridden father. She marries Herbert Pocket near the novel's end. She dislikes Pip at first because of his spendthrift ways. After she marries Herbert, they invite Pip to live with them.\n",
            "Miss Skiffins occasionally visits Wemmick's house and wears green gloves. She changes those green gloves for white ones when she marries Wemmick.\n",
            "Startop, like Bentley Drummle, is Pip's fellow student, but unlike Drummle, he is kind. He assists Pip and Herbert in their efforts to help Magwitch escape.\n",
            "In his Book of Memoranda, begun in 1855, Dickens wrote names for possible characters: Magwitch, Provis, Clarriker, Compey, Pumblechook, Orlick, Gargery, Wopsle, Skiffins, some of which became familiar in Great Expectations. There is also a reference to a \"knowing man\", a possible sketch of Bentley Drummle. Another evokes a house full of \"Toadies and Humbugs\", foreshadowing the visitors to Satis House in chapter 11. Margaret Cardwell discovered the \"premonition\" of Great Expectations from a 25 September 1855 letter from Dickens to W. H. Wills, in which Dickens speaks of recycling an \"odd idea\" from the Christmas special \"A House to Let\" and \"the pivot round which my next book shall revolve.\" The \"odd idea\" concerns an individual who \"retires to an old lonely house…resolved to shut out the world and hold no communion with it.\"In an 8 August 1860 letter to Thomas Carlyle, Dickens reported his agitation whenever he prepared a new book. A month later, in a letter to John Forster, Dickens announced that he just had a new idea.\n",
            "In his Book of Memoranda, begun in 1855, Dickens wrote names for possible characters: Magwitch, Provis, Clarriker, Compey, Pumblechook, Orlick, Gargery, Wopsle, Skiffins, some of which became familiar in Great Expectations. There is also a reference to a \"knowing man\", a possible sketch of Bentley Drummle. Another evokes a house full of \"Toadies and Humbugs\", foreshadowing the visitors to Satis House in chapter 11. Margaret Cardwell discovered the \"premonition\" of Great Expectations from a 25 September 1855 letter from Dickens to W. H. Wills, in which Dickens speaks of recycling an \"odd idea\" from the Christmas special \"A House to Let\" and \"the pivot round which my next book shall revolve.\" The \"odd idea\" concerns an individual who \"retires to an old lonely house…resolved to shut out the world and hold no communion with it.\"In an 8 August 1860 letter to Thomas Carlyle, Dickens reported his agitation whenever he prepared a new book. A month later, in a letter to John Forster, Dickens announced that he just had a new idea.Dickens was pleased with the idea, calling it \"such a very fine, new and grotesque idea\" in a letter to Forster. He planned to write \"a little piece\", a \"grotesque tragi-comic conception\", about a young hero who befriends an escaped convict, who then makes a fortune in Australia and anonymously bequeaths his property to the hero. In the end, the hero loses the money because it is forfeited to the Crown. In his biography of Dickens, Forster wrote that in the early idea \"was the germ of Pip and Magwitch, which at first he intended to make the groundwork of a tale in the old twenty-number form.\" Dickens presented the relationship between Pip and Magwitch pivotal to Great Expectations but without Miss Havisham, Estella, or other characters he later created.\n",
            "As the idea and Dickens's ambition grew, he began writing. However, in September, the weekly All the Year Round saw its sales fall, and its flagship publication, A Day's Ride by Charles Lever, lost favour with the public. Dickens \"called a council of war\", and believed that to save the situation, \"the one thing to be done was for [him] to strike in.\" The \"very fine, new and grotesque idea\" became the magazine's new support: weeklies, five hundred pages, just over one year (1860–1861), thirty-six episodes, starting 1 December. The magazine continued to publish Lever's novel until its completion on 23 March 1861, but it became secondary to Great Expectations. Immediately, sales resumed, and critics responded positively, as exemplified by The Times's praise: \"Great Expectations is not, indeed, [Dickens's] best work, but it is to be ranked among his happiest.\"Dickens, whose health was not the best, felt \"The planning from week to week was unimaginably difficult\" but persevered. He thought he had found \"a good name\", decided to use the first person \"throughout\", and thought the beginning was \"excessively droll\": \"I have put a child and a good-natured foolish man, in relations that seem to me very funny.\" Four weekly episodes were \"ground off the wheel\" in October 1860, and apart from one reference to the \"bondage\" of his heavy task, the months passed without the anguished cries that usually accompanied the writing of his novels. He did not even use the Number Plans or Mems; he had only a few notes on the characters' ages, the tide ranges for chapter 54, and the draft of an ending. In late December, Dickens wrote to Mary Boyle that \"Great Expectations [is] a very great success and universally liked.\"\n",
            "\n",
            "Dickens gave six readings from 14 March to 18 April 1861, and in May, Dickens took a few days' holiday in Dover. On the eve of his departure, he took some friends and family members for a trip by boat from Blackwall to Southend-on-Sea. Ostensibly for pleasure, the mini-cruise was actually a working session for Dickens to examine banks of the river in preparation for the chapter devoted to Magwitch's attempt to escape. Dickens then revised Herbert Pocket's appearance, no doubt, asserts Margaret Cardwell, to look more like his son Charley. On 11 June 1861, Dickens wrote to Macready that Great Expectations had been completed and on 15 June, asked the editor to prepare the novel for publication.\n",
            "In his Book of Memoranda, begun in 1855, Dickens wrote names for possible characters: Magwitch, Provis, Clarriker, Compey, Pumblechook, Orlick, Gargery, Wopsle, Skiffins, some of which became familiar in Great Expectations. There is also a reference to a \"knowing man\", a possible sketch of Bentley Drummle. Another evokes a house full of \"Toadies and Humbugs\", foreshadowing the visitors to Satis House in chapter 11. Margaret Cardwell discovered the \"premonition\" of Great Expectations from a 25 September 1855 letter from Dickens to W. H. Wills, in which Dickens speaks of recycling an \"odd idea\" from the Christmas special \"A House to Let\" and \"the pivot round which my next book shall revolve.\" The \"odd idea\" concerns an individual who \"retires to an old lonely house…resolved to shut out the world and hold no communion with it.\"In an 8 August 1860 letter to Thomas Carlyle, Dickens reported his agitation whenever he prepared a new book. A month later, in a letter to John Forster, Dickens announced that he just had a new idea.Dickens was pleased with the idea, calling it \"such a very fine, new and grotesque idea\" in a letter to Forster. He planned to write \"a little piece\", a \"grotesque tragi-comic conception\", about a young hero who befriends an escaped convict, who then makes a fortune in Australia and anonymously bequeaths his property to the hero. In the end, the hero loses the money because it is forfeited to the Crown. In his biography of Dickens, Forster wrote that in the early idea \"was the germ of Pip and Magwitch, which at first he intended to make the groundwork of a tale in the old twenty-number form.\" Dickens presented the relationship between Pip and Magwitch pivotal to Great Expectations but without Miss Havisham, Estella, or other characters he later created.\n",
            "As the idea and Dickens's ambition grew, he began writing. However, in September, the weekly All the Year Round saw its sales fall, and its flagship publication, A Day's Ride by Charles Lever, lost favour with the public. Dickens \"called a council of war\", and believed that to save the situation, \"the one thing to be done was for [him] to strike in.\" The \"very fine, new and grotesque idea\" became the magazine's new support: weeklies, five hundred pages, just over one year (1860–1861), thirty-six episodes, starting 1 December. The magazine continued to publish Lever's novel until its completion on 23 March 1861, but it became secondary to Great Expectations. Immediately, sales resumed, and critics responded positively, as exemplified by The Times's praise: \"Great Expectations is not, indeed, [Dickens's] best work, but it is to be ranked among his happiest.\"Dickens, whose health was not the best, felt \"The planning from week to week was unimaginably difficult\" but persevered. He thought he had found \"a good name\", decided to use the first person \"throughout\", and thought the beginning was \"excessively droll\": \"I have put a child and a good-natured foolish man, in relations that seem to me very funny.\" Four weekly episodes were \"ground off the wheel\" in October 1860, and apart from one reference to the \"bondage\" of his heavy task, the months passed without the anguished cries that usually accompanied the writing of his novels. He did not even use the Number Plans or Mems; he had only a few notes on the characters' ages, the tide ranges for chapter 54, and the draft of an ending. In late December, Dickens wrote to Mary Boyle that \"Great Expectations [is] a very great success and universally liked.\"\n",
            "\n",
            "Dickens gave six readings from 14 March to 18 April 1861, and in May, Dickens took a few days' holiday in Dover. On the eve of his departure, he took some friends and family members for a trip by boat from Blackwall to Southend-on-Sea. Ostensibly for pleasure, the mini-cruise was actually a working session for Dickens to examine banks of the river in preparation for the chapter devoted to Magwitch's attempt to escape. Dickens then revised Herbert Pocket's appearance, no doubt, asserts Margaret Cardwell, to look more like his son Charley. On 11 June 1861, Dickens wrote to Macready that Great Expectations had been completed and on 15 June, asked the editor to prepare the novel for publication.Following comments by Edward Bulwer-Lytton that the ending was too sad, Dickens rewrote it prior to publication. The ending set aside by Dickens has Pip, who is still single, briefly see Estella in London; after becoming Bentley Drummle's widow, she has remarried. It appealed to Dickens due to its originality: \"[the] winding up will be away from all such things as they conventionally go.\" Dickens revised the ending for publication so that Pip meets Estella in the ruins of Satis House, she is a widow and he is single. His changes at the conclusion of the novel did not quite end either with the final weekly part or the first bound edition, because Dickens further changed the last sentence in the amended 1868 version from \"I could see the shadow of no parting from her.\" to \"I saw no shadow of another parting from her\". As Pip uses litotes, \"no shadow of another parting\", it is ambiguous whether Pip and Estella marry or Pip remains single. Angus Calder, writing for an edition in the Penguin English Library, believed the less definite phrasing of the amended 1868 version perhaps hinted at a buried meaning: '...at this happy moment, I did not see the shadow of our subsequent parting looming over us.'In a letter to Forster, Dickens explained his decision to alter the draft ending: \"You will be surprised to hear that I have changed the end of Great Expectations from and after Pip's return to Joe's ... Bulwer, who has been, as I think you know, extraordinarily taken with the book, strongly urged it upon me, after reading the proofs, and supported his views with such good reasons that I have resolved to make the change. I have put in as pretty a little piece of writing as I could, and I have no doubt the story will be more acceptable through the alteration.\"This discussion between Dickens, Bulwer-Lytton and Forster has provided the basis for much discussion on Dickens's underlying views for this famous novel. Earle Davis, in his 1963 study of Dickens, wrote that \"it would be an inadequate moral point to deny Pip any reward after he had shown a growth of character,\" and that \"Eleven years might change Estella too.\" John Forster felt that the original ending was \"more consistent\" and \"more natural\" but noted the new ending's popularity. George Gissing called that revision \"a strange thing, indeed, to befall Dickens\" and felt that Great Expectations would have been perfect had Dickens not altered the ending in deference to Bulwer-Lytton.In contrast, John Hillis-Miller stated that Dickens's personality was so assertive that Bulwer-Lytton had little influence, and welcomed the revision: \"The mists of infatuation have cleared away, [Estella and Pip] can be joined.\" Earl Davis notes that G B Shaw published the novel in 1937 for The Limited Editions Club with the first ending and that The Rinehart Edition of 1979 presents both endings.George Orwell wrote, \"Psychologically the latter part of Great Expectations is about the best thing Dickens ever did,\" but, like John Forster and several early 20th century writers, including George Bernard Shaw, felt that the original ending was more consistent with the draft, as well as the natural working out of the tale. Modern literary criticism is split over the matter.\n",
            "Dickens and Wills co-owned All the Year Round, one 75%, the other 25%. Since Dickens was his own publisher, he did not require a contract for his own works. Although intended for weekly publication, Great Expectations was divided into nine monthly sections, with new pagination for each. Harper's Weekly published the novel from 24 November 1860 to 5 August 1861 in the US and All the Year Round published it from 1 December 1860 to 3 August 1861 in the UK. Harper's paid £1,000 for publication rights. Dickens welcomed a contract with Tauchnitz 4 January 1861 for publication in English for the European continent.\n",
            "Publications in Harper's Weekly were accompanied by forty illustrations by John McLenan; however, this is the only Dickens work published in All the Year Round without illustrations.\n",
            "Dickens and Wills co-owned All the Year Round, one 75%, the other 25%. Since Dickens was his own publisher, he did not require a contract for his own works. Although intended for weekly publication, Great Expectations was divided into nine monthly sections, with new pagination for each. Harper's Weekly published the novel from 24 November 1860 to 5 August 1861 in the US and All the Year Round published it from 1 December 1860 to 3 August 1861 in the UK. Harper's paid £1,000 for publication rights. Dickens welcomed a contract with Tauchnitz 4 January 1861 for publication in English for the European continent.\n",
            "Publications in Harper's Weekly were accompanied by forty illustrations by John McLenan; however, this is the only Dickens work published in All the Year Round without illustrations.Robert L Patten identifies four American editions in 1861 and sees the proliferation of publications in Europe and across the Atlantic as \"extraordinary testimony\" to Great Expectations's popularity. Chapman and Hall published the first edition in three volumes in 1861, five subsequent reprints between 6 July and 30 October, and a one-volume edition in 1862. The \"bargain\" edition was published in 1862, the Library Edition in 1864, and the Charles Dickens edition in 1868. To this list, Paul Schlicke adds \"two meticulous scholarly editions\", one Clarendon Press published in 1993 with an introduction by Margaret Cardwell and another with an introduction by Edgar Rosenberg, published by Norton in 1999. The novel was published with one ending, visible in the four on line editions listed in the External links at the end of this article. In some 20th century editions, the novel ends as originally published in 1867, and in an afterword, the ending Dickens did not publish, along with a brief story of how a friend persuaded him to a happier ending for Pip, is presented to the reader (for example, 1987 audio edition by Recorded Books).\n",
            "In 1862, Marcus Stone, son of Dickens's old friend, the painter Frank Stone, was invited to create eight woodcuts for the Library Edition. According to Paul Schlicke, these illustrations are mediocre yet were included in the Charles Dickens edition, and Stone created illustrations for Dickens's subsequent novel, Our Mutual Friend. Later, Henry Mathew Brock also illustrated Great Expectations and a 1935 edition of A Christmas Carol, along with other artists, such as John McLenan, F. A. Fraser, and Harry Furniss.\n",
            "Dickens and Wills co-owned All the Year Round, one 75%, the other 25%. Since Dickens was his own publisher, he did not require a contract for his own works. Although intended for weekly publication, Great Expectations was divided into nine monthly sections, with new pagination for each. Harper's Weekly published the novel from 24 November 1860 to 5 August 1861 in the US and All the Year Round published it from 1 December 1860 to 3 August 1861 in the UK. Harper's paid £1,000 for publication rights. Dickens welcomed a contract with Tauchnitz 4 January 1861 for publication in English for the European continent.\n",
            "Publications in Harper's Weekly were accompanied by forty illustrations by John McLenan; however, this is the only Dickens work published in All the Year Round without illustrations.Robert L Patten identifies four American editions in 1861 and sees the proliferation of publications in Europe and across the Atlantic as \"extraordinary testimony\" to Great Expectations's popularity. Chapman and Hall published the first edition in three volumes in 1861, five subsequent reprints between 6 July and 30 October, and a one-volume edition in 1862. The \"bargain\" edition was published in 1862, the Library Edition in 1864, and the Charles Dickens edition in 1868. To this list, Paul Schlicke adds \"two meticulous scholarly editions\", one Clarendon Press published in 1993 with an introduction by Margaret Cardwell and another with an introduction by Edgar Rosenberg, published by Norton in 1999. The novel was published with one ending, visible in the four on line editions listed in the External links at the end of this article. In some 20th century editions, the novel ends as originally published in 1867, and in an afterword, the ending Dickens did not publish, along with a brief story of how a friend persuaded him to a happier ending for Pip, is presented to the reader (for example, 1987 audio edition by Recorded Books).\n",
            "In 1862, Marcus Stone, son of Dickens's old friend, the painter Frank Stone, was invited to create eight woodcuts for the Library Edition. According to Paul Schlicke, these illustrations are mediocre yet were included in the Charles Dickens edition, and Stone created illustrations for Dickens's subsequent novel, Our Mutual Friend. Later, Henry Mathew Brock also illustrated Great Expectations and a 1935 edition of A Christmas Carol, along with other artists, such as John McLenan, F. A. Fraser, and Harry Furniss.\n",
            "Pip's story is told in three stages: his childhood and early youth in Kent, where he dreams of rising above his humble station; his time in London after receiving \"great expectations\"; and then finally his disillusionment on discovering the source of his fortune, followed by his slow realisation of the vanity of his false values. These three stages are further divided into twelve parts of equal length. This symmetry contributes to the impression of completion, which has often been commented on. George Gissing, for example, when comparing Joe Gargery and Dan'l Peggotty (from David Copperfield), preferred the former, because he is a stronger character, who lives \"in a world, not of melodrama, but of everyday cause and effect.\" G. B. Shaw also commented on the novel's structure, describing it as \"compactly perfect\", and Algernon Swinburne stated, \"The defects in it are as nearly imperceptible as spots on the sun or shadow on a sunlit sea.\" A contributing factor is \"the briskness of the narrative tone.\"\n",
            "Pip's story is told in three stages: his childhood and early youth in Kent, where he dreams of rising above his humble station; his time in London after receiving \"great expectations\"; and then finally his disillusionment on discovering the source of his fortune, followed by his slow realisation of the vanity of his false values. These three stages are further divided into twelve parts of equal length. This symmetry contributes to the impression of completion, which has often been commented on. George Gissing, for example, when comparing Joe Gargery and Dan'l Peggotty (from David Copperfield), preferred the former, because he is a stronger character, who lives \"in a world, not of melodrama, but of everyday cause and effect.\" G. B. Shaw also commented on the novel's structure, describing it as \"compactly perfect\", and Algernon Swinburne stated, \"The defects in it are as nearly imperceptible as spots on the sun or shadow on a sunlit sea.\" A contributing factor is \"the briskness of the narrative tone.\"Further, beyond the chronological sequences and the weaving of several storylines into a tight plot, the sentimental setting and morality of the characters also create a pattern. The narrative structure of Great Expectations has two main elements: firstly that of \"foster parents\", Miss Havisham, Magwitch, and Joe, and secondly that of \"young people\", Estella, Pip and Biddy. There is a further organizing element that can be labelled \"Dangerous Lovers\", which includes Compeyson, Bentley Drummle and Orlick. Pip is the centre of this web of love, rejection and hatred. Dickens contrasts this \"dangerous love\" with the relationship of Biddy and Joe, which grows from friendship to marriage.\n",
            "This is \"the general frame of the novel\". The term \"love\" is generic, applying it to both Pip's true love for Estella and the feelings Estella has for Drummle, which are based on a desire for social advancement. Similarly, Estella rejects Magwitch because of her contempt for everything that appears below what she believes to be her social status.Great Expectations has an unhappy ending, since most characters suffer physically, psychologically or both, or die—often violently—while suffering. Happy resolutions remain elusive, while hate thrives. The only happy ending is Biddy and Joe's marriage and the birth of their two children, since the final reconciliations, except that between Pip and Magwitch, do not alter the general order. Though Pip extirpates the web of hatred, the first unpublished ending denies him happiness while Dickens' revised second ending, in the published novel, leaves his future uncertain.\n",
            "Pip's story is told in three stages: his childhood and early youth in Kent, where he dreams of rising above his humble station; his time in London after receiving \"great expectations\"; and then finally his disillusionment on discovering the source of his fortune, followed by his slow realisation of the vanity of his false values. These three stages are further divided into twelve parts of equal length. This symmetry contributes to the impression of completion, which has often been commented on. George Gissing, for example, when comparing Joe Gargery and Dan'l Peggotty (from David Copperfield), preferred the former, because he is a stronger character, who lives \"in a world, not of melodrama, but of everyday cause and effect.\" G. B. Shaw also commented on the novel's structure, describing it as \"compactly perfect\", and Algernon Swinburne stated, \"The defects in it are as nearly imperceptible as spots on the sun or shadow on a sunlit sea.\" A contributing factor is \"the briskness of the narrative tone.\"Further, beyond the chronological sequences and the weaving of several storylines into a tight plot, the sentimental setting and morality of the characters also create a pattern. The narrative structure of Great Expectations has two main elements: firstly that of \"foster parents\", Miss Havisham, Magwitch, and Joe, and secondly that of \"young people\", Estella, Pip and Biddy. There is a further organizing element that can be labelled \"Dangerous Lovers\", which includes Compeyson, Bentley Drummle and Orlick. Pip is the centre of this web of love, rejection and hatred. Dickens contrasts this \"dangerous love\" with the relationship of Biddy and Joe, which grows from friendship to marriage.\n",
            "This is \"the general frame of the novel\". The term \"love\" is generic, applying it to both Pip's true love for Estella and the feelings Estella has for Drummle, which are based on a desire for social advancement. Similarly, Estella rejects Magwitch because of her contempt for everything that appears below what she believes to be her social status.Great Expectations has an unhappy ending, since most characters suffer physically, psychologically or both, or die—often violently—while suffering. Happy resolutions remain elusive, while hate thrives. The only happy ending is Biddy and Joe's marriage and the birth of their two children, since the final reconciliations, except that between Pip and Magwitch, do not alter the general order. Though Pip extirpates the web of hatred, the first unpublished ending denies him happiness while Dickens' revised second ending, in the published novel, leaves his future uncertain.Julian Monayhan argues that the reader can better understand Pip's personality through analyzing his relationship with Orlick, the criminal laborer who works at Joe Gargery's forge, than by looking at his relationship with Magwitch.\n",
            "\n",
            "Following Monayhan, David Trotter notes that Orlick is Pip's shadow. Co-workers in the forge, both find themselves at Miss Havisham's, where Pip enters and joins the company, while Orlick, attending the door, stays out. Pip considers Biddy a sister; Orlick has other plans for her; Pip is connected to Magwitch, Orlick to Magwitch's nemesis, Compeyson. Orlick also aspires to \"great expectations\" and resents Pip's ascension from the forge and the swamp to the glamour of Satis House, from which Orlick is excluded, along with London's dazzling society. Orlick is the cumbersome shadow Pip cannot remove.Then comes Pip's punishment, with Orlick's savage attack on Mrs Gargery. Thereafter Orlick vanishes, only to reappear in chapter 53 in a symbolic act, when he lures Pip into a locked, abandoned building in the marshes. Orlick has a score to settle before going on to the ultimate act, murder. However, Pip hampers Orlick, because of his privileged status, while Orlick remains a slave of his condition, solely responsible for Mrs Gargery's fate.Dickens also uses Pip's upper class counterpart, Bentley Drummle, \"the double of a double\", according to Trotter, in a similar way. Like Orlick, Drummle is powerful, swarthy, unintelligible, hot-blooded, and lounges and lurks, biding his time. Estella rejects Pip for this rude, uncouth but well-born man, and ends Pip's hope. Finally the lives of both Orlick and Drummle end violently.\n",
            "Characters then become themes in themselves, almost a Wagnerian leitmotiv, whose attitudes are repeated at each of their appearances as a musical phrase signaling their entry. For example, Jaggers constantly chews the same fingernail and rub his hands with perfumed lotion, Orlick lurches his huge body, and Matthew Pocket always pulls at his hair. Seen by the narrator, their attitude is mechanical, like that of an automaton: in the general scheme, the gesture betrays the uneasiness of the unaccomplished or exasperated man, his betrayed hope, his unsatisfied life. In this set, every character is orbited by \"satellite\" characters. Wemmick is Jaggers' copy at work, but has placed in Walworth a secret garden, a castle with a family of a senile father and an old, archetypally prude housekeeper where he happily devours buttered bread. Wopsle plays the role of a poor Pip, kind of unsuccessful, but with his distraction,  finally plays Hamlet in London, and Pumblechook does not hesitate to be the instrument of Pip's fortunes, then the mentor of his resurrection.\n",
            "Characters then become themes in themselves, almost a Wagnerian leitmotiv, whose attitudes are repeated at each of their appearances as a musical phrase signaling their entry. For example, Jaggers constantly chews the same fingernail and rub his hands with perfumed lotion, Orlick lurches his huge body, and Matthew Pocket always pulls at his hair. Seen by the narrator, their attitude is mechanical, like that of an automaton: in the general scheme, the gesture betrays the uneasiness of the unaccomplished or exasperated man, his betrayed hope, his unsatisfied life. In this set, every character is orbited by \"satellite\" characters. Wemmick is Jaggers' copy at work, but has placed in Walworth a secret garden, a castle with a family of a senile father and an old, archetypally prude housekeeper where he happily devours buttered bread. Wopsle plays the role of a poor Pip, kind of unsuccessful, but with his distraction,  finally plays Hamlet in London, and Pumblechook does not hesitate to be the instrument of Pip's fortunes, then the mentor of his resurrection.For Pip's redemption to be credible, Trotter writes, the words of the main character must sound right. Christopher Ricks adds that Pip's frankness induces empathy, dramatics are avoided, and his good actions are more eloquent than words. Dickens's subtle narrative technique is also shown when he has Pip confess that he arranged Herbert's partnership with Clarriker, has Miss Havisham finally see the true character of her cousin Matthew Pocket, and has Pocket refuse the money she offers him. To this end, the narrative method subtly changes until, during the perilous journey down the Thames to remove Magwitch in chapter 54, the narrative point-of-view shifts from first person to the omniscient point of view. For the first time, Ricks writes, the \"I\" ceases to be Pip's thoughts and switches to the other characters, the focus, at once, turns outward, and this is mirrored in the imagery of the black waters tormented waves and eddies, which heaves with an anguish that encompasses the entire universe, the passengers, the docks, the river, the night.\n",
            "Characters then become themes in themselves, almost a Wagnerian leitmotiv, whose attitudes are repeated at each of their appearances as a musical phrase signaling their entry. For example, Jaggers constantly chews the same fingernail and rub his hands with perfumed lotion, Orlick lurches his huge body, and Matthew Pocket always pulls at his hair. Seen by the narrator, their attitude is mechanical, like that of an automaton: in the general scheme, the gesture betrays the uneasiness of the unaccomplished or exasperated man, his betrayed hope, his unsatisfied life. In this set, every character is orbited by \"satellite\" characters. Wemmick is Jaggers' copy at work, but has placed in Walworth a secret garden, a castle with a family of a senile father and an old, archetypally prude housekeeper where he happily devours buttered bread. Wopsle plays the role of a poor Pip, kind of unsuccessful, but with his distraction,  finally plays Hamlet in London, and Pumblechook does not hesitate to be the instrument of Pip's fortunes, then the mentor of his resurrection.For Pip's redemption to be credible, Trotter writes, the words of the main character must sound right. Christopher Ricks adds that Pip's frankness induces empathy, dramatics are avoided, and his good actions are more eloquent than words. Dickens's subtle narrative technique is also shown when he has Pip confess that he arranged Herbert's partnership with Clarriker, has Miss Havisham finally see the true character of her cousin Matthew Pocket, and has Pocket refuse the money she offers him. To this end, the narrative method subtly changes until, during the perilous journey down the Thames to remove Magwitch in chapter 54, the narrative point-of-view shifts from first person to the omniscient point of view. For the first time, Ricks writes, the \"I\" ceases to be Pip's thoughts and switches to the other characters, the focus, at once, turns outward, and this is mirrored in the imagery of the black waters tormented waves and eddies, which heaves with an anguish that encompasses the entire universe, the passengers, the docks, the river, the night.\n",
            "Characters then become themes in themselves, almost a Wagnerian leitmotiv, whose attitudes are repeated at each of their appearances as a musical phrase signaling their entry. For example, Jaggers constantly chews the same fingernail and rub his hands with perfumed lotion, Orlick lurches his huge body, and Matthew Pocket always pulls at his hair. Seen by the narrator, their attitude is mechanical, like that of an automaton: in the general scheme, the gesture betrays the uneasiness of the unaccomplished or exasperated man, his betrayed hope, his unsatisfied life. In this set, every character is orbited by \"satellite\" characters. Wemmick is Jaggers' copy at work, but has placed in Walworth a secret garden, a castle with a family of a senile father and an old, archetypally prude housekeeper where he happily devours buttered bread. Wopsle plays the role of a poor Pip, kind of unsuccessful, but with his distraction,  finally plays Hamlet in London, and Pumblechook does not hesitate to be the instrument of Pip's fortunes, then the mentor of his resurrection.For Pip's redemption to be credible, Trotter writes, the words of the main character must sound right. Christopher Ricks adds that Pip's frankness induces empathy, dramatics are avoided, and his good actions are more eloquent than words. Dickens's subtle narrative technique is also shown when he has Pip confess that he arranged Herbert's partnership with Clarriker, has Miss Havisham finally see the true character of her cousin Matthew Pocket, and has Pocket refuse the money she offers him. To this end, the narrative method subtly changes until, during the perilous journey down the Thames to remove Magwitch in chapter 54, the narrative point-of-view shifts from first person to the omniscient point of view. For the first time, Ricks writes, the \"I\" ceases to be Pip's thoughts and switches to the other characters, the focus, at once, turns outward, and this is mirrored in the imagery of the black waters tormented waves and eddies, which heaves with an anguish that encompasses the entire universe, the passengers, the docks, the river, the night.According to Paul Davis, while more realistic than its autobiographical predecessor written when novels like George Eliot's Adam Bede were in vogue, Great Expectations is in many ways a poetic work built around recurring symbolic images: the desolation of the marshes; the twilight; the chains of the house, the past, the painful memory; the fire; the hands that manipulate and control; the distant stars of desire; the river connecting past, present and future.\n",
            "Complex and multifaceted, Great Expectations is a Victorian bildungsroman, or initiatory tale, which focuses on a protagonist who matures over the course of the novel. Great Expectations describes Pip's initial frustration upon leaving home, followed by a long and difficult period that is punctuated with conflicts between his desires and the values of established order. During this time he re-evaluates his life and re-enters society on new foundations.However, the novel differs from the two preceding pseudo-autobiographies, David Copperfield and Bleak House (1852), (though the latter is only partially narrated in first-person), in that it also partakes of several sub-genres popular in Dickens' time.\n",
            "Complex and multifaceted, Great Expectations is a Victorian bildungsroman, or initiatory tale, which focuses on a protagonist who matures over the course of the novel. Great Expectations describes Pip's initial frustration upon leaving home, followed by a long and difficult period that is punctuated with conflicts between his desires and the values of established order. During this time he re-evaluates his life and re-enters society on new foundations.However, the novel differs from the two preceding pseudo-autobiographies, David Copperfield and Bleak House (1852), (though the latter is only partially narrated in first-person), in that it also partakes of several sub-genres popular in Dickens' time.Great Expectations contains many comic scenes and eccentric personalities, integral part to both the plot and the theme. Among the notable comic episodes are Pip's Christmas dinner in chapter 4, Wopsle's Hamlet performance in chapter 31, and Wemmick's marriage in chapter 55. Many of the characters have eccentricities: Jaggers with his punctilious lawyerly ways; the contrariness of his clerk, Wemmick, at work advising Pip to invest in \"portable property\", while in private living in a cottage converted into a castle; and the reclusive Miss Havisham in her decaying mansion, wearing her tattered bridal robes.\n",
            "Complex and multifaceted, Great Expectations is a Victorian bildungsroman, or initiatory tale, which focuses on a protagonist who matures over the course of the novel. Great Expectations describes Pip's initial frustration upon leaving home, followed by a long and difficult period that is punctuated with conflicts between his desires and the values of established order. During this time he re-evaluates his life and re-enters society on new foundations.However, the novel differs from the two preceding pseudo-autobiographies, David Copperfield and Bleak House (1852), (though the latter is only partially narrated in first-person), in that it also partakes of several sub-genres popular in Dickens' time.Great Expectations contains many comic scenes and eccentric personalities, integral part to both the plot and the theme. Among the notable comic episodes are Pip's Christmas dinner in chapter 4, Wopsle's Hamlet performance in chapter 31, and Wemmick's marriage in chapter 55. Many of the characters have eccentricities: Jaggers with his punctilious lawyerly ways; the contrariness of his clerk, Wemmick, at work advising Pip to invest in \"portable property\", while in private living in a cottage converted into a castle; and the reclusive Miss Havisham in her decaying mansion, wearing her tattered bridal robes.Great Expectations incorporates elements of the new genre of crime fiction, which Dickens had already used in Oliver Twist (1837), and which was being developed by his friends Wilkie Collins and William Harrison Ainsworth. With its scenes of convicts, prison ships, and episodes of bloody violence, Dickens creates characters worthy of the Newgate school of fiction.\n",
            "Complex and multifaceted, Great Expectations is a Victorian bildungsroman, or initiatory tale, which focuses on a protagonist who matures over the course of the novel. Great Expectations describes Pip's initial frustration upon leaving home, followed by a long and difficult period that is punctuated with conflicts between his desires and the values of established order. During this time he re-evaluates his life and re-enters society on new foundations.However, the novel differs from the two preceding pseudo-autobiographies, David Copperfield and Bleak House (1852), (though the latter is only partially narrated in first-person), in that it also partakes of several sub-genres popular in Dickens' time.Great Expectations contains many comic scenes and eccentric personalities, integral part to both the plot and the theme. Among the notable comic episodes are Pip's Christmas dinner in chapter 4, Wopsle's Hamlet performance in chapter 31, and Wemmick's marriage in chapter 55. Many of the characters have eccentricities: Jaggers with his punctilious lawyerly ways; the contrariness of his clerk, Wemmick, at work advising Pip to invest in \"portable property\", while in private living in a cottage converted into a castle; and the reclusive Miss Havisham in her decaying mansion, wearing her tattered bridal robes.Great Expectations incorporates elements of the new genre of crime fiction, which Dickens had already used in Oliver Twist (1837), and which was being developed by his friends Wilkie Collins and William Harrison Ainsworth. With its scenes of convicts, prison ships, and episodes of bloody violence, Dickens creates characters worthy of the Newgate school of fiction.Great Expectations contains elements of the Gothic genre, especially Miss Havisham, the bride frozen in time, and the ruined Satis House filled with weeds and spiders. Other characters linked to this genre include the aristocratic Bentley Drummle, because of his extreme cruelty; Pip himself, who spends his youth chasing a frozen beauty; the monstrous Orlick, who systematically attempts to murder his employers. Then there is the fight to the death between Compeyson and Magwitch, and the fire that ends up killing Miss Havisham, scenes dominated by horror, suspense, and the sensational.\n",
            "Complex and multifaceted, Great Expectations is a Victorian bildungsroman, or initiatory tale, which focuses on a protagonist who matures over the course of the novel. Great Expectations describes Pip's initial frustration upon leaving home, followed by a long and difficult period that is punctuated with conflicts between his desires and the values of established order. During this time he re-evaluates his life and re-enters society on new foundations.However, the novel differs from the two preceding pseudo-autobiographies, David Copperfield and Bleak House (1852), (though the latter is only partially narrated in first-person), in that it also partakes of several sub-genres popular in Dickens' time.Great Expectations contains many comic scenes and eccentric personalities, integral part to both the plot and the theme. Among the notable comic episodes are Pip's Christmas dinner in chapter 4, Wopsle's Hamlet performance in chapter 31, and Wemmick's marriage in chapter 55. Many of the characters have eccentricities: Jaggers with his punctilious lawyerly ways; the contrariness of his clerk, Wemmick, at work advising Pip to invest in \"portable property\", while in private living in a cottage converted into a castle; and the reclusive Miss Havisham in her decaying mansion, wearing her tattered bridal robes.Great Expectations incorporates elements of the new genre of crime fiction, which Dickens had already used in Oliver Twist (1837), and which was being developed by his friends Wilkie Collins and William Harrison Ainsworth. With its scenes of convicts, prison ships, and episodes of bloody violence, Dickens creates characters worthy of the Newgate school of fiction.Great Expectations contains elements of the Gothic genre, especially Miss Havisham, the bride frozen in time, and the ruined Satis House filled with weeds and spiders. Other characters linked to this genre include the aristocratic Bentley Drummle, because of his extreme cruelty; Pip himself, who spends his youth chasing a frozen beauty; the monstrous Orlick, who systematically attempts to murder his employers. Then there is the fight to the death between Compeyson and Magwitch, and the fire that ends up killing Miss Havisham, scenes dominated by horror, suspense, and the sensational.Elements of the silver fork novel are found in the character of Miss Havisham and her world, as well as Pip's illusions. This genre, which flourished in the 1820s and 1830s, presents the flashy elegance and aesthetic frivolities found in high society. In some respects, Dickens conceived Great Expectations as an anti silver fork novel, attacking Charles Lever's novel A Day's Ride, publication of  which began January 1860, in Household Words. This can be seen in the way that Dickens satirises the pretensions and morals of Miss Havisham and her sycophants, including the Pockets (except  Matthew), and Uncle Pumblechook.\n",
            "Complex and multifaceted, Great Expectations is a Victorian bildungsroman, or initiatory tale, which focuses on a protagonist who matures over the course of the novel. Great Expectations describes Pip's initial frustration upon leaving home, followed by a long and difficult period that is punctuated with conflicts between his desires and the values of established order. During this time he re-evaluates his life and re-enters society on new foundations.However, the novel differs from the two preceding pseudo-autobiographies, David Copperfield and Bleak House (1852), (though the latter is only partially narrated in first-person), in that it also partakes of several sub-genres popular in Dickens' time.Great Expectations contains many comic scenes and eccentric personalities, integral part to both the plot and the theme. Among the notable comic episodes are Pip's Christmas dinner in chapter 4, Wopsle's Hamlet performance in chapter 31, and Wemmick's marriage in chapter 55. Many of the characters have eccentricities: Jaggers with his punctilious lawyerly ways; the contrariness of his clerk, Wemmick, at work advising Pip to invest in \"portable property\", while in private living in a cottage converted into a castle; and the reclusive Miss Havisham in her decaying mansion, wearing her tattered bridal robes.Great Expectations incorporates elements of the new genre of crime fiction, which Dickens had already used in Oliver Twist (1837), and which was being developed by his friends Wilkie Collins and William Harrison Ainsworth. With its scenes of convicts, prison ships, and episodes of bloody violence, Dickens creates characters worthy of the Newgate school of fiction.Great Expectations contains elements of the Gothic genre, especially Miss Havisham, the bride frozen in time, and the ruined Satis House filled with weeds and spiders. Other characters linked to this genre include the aristocratic Bentley Drummle, because of his extreme cruelty; Pip himself, who spends his youth chasing a frozen beauty; the monstrous Orlick, who systematically attempts to murder his employers. Then there is the fight to the death between Compeyson and Magwitch, and the fire that ends up killing Miss Havisham, scenes dominated by horror, suspense, and the sensational.Elements of the silver fork novel are found in the character of Miss Havisham and her world, as well as Pip's illusions. This genre, which flourished in the 1820s and 1830s, presents the flashy elegance and aesthetic frivolities found in high society. In some respects, Dickens conceived Great Expectations as an anti silver fork novel, attacking Charles Lever's novel A Day's Ride, publication of  which began January 1860, in Household Words. This can be seen in the way that Dickens satirises the pretensions and morals of Miss Havisham and her sycophants, including the Pockets (except  Matthew), and Uncle Pumblechook.Though Great Expectations is not obviously a historical novel Dickens does emphasise differences between the time that the novel is set (c. 1812–46) and when it was written (1860–1).\n",
            "Great Expectations begins around 1812 (the date of Dickens' birth), continues until around 1830–1835, and then jumps to around 1840–1845, during which the Great Western Railway was built. Though readers today will not notice this, Dickens uses various things to emphasise the differences between 1861 and this earlier period. Among these details—that contemporary readers would have recognised—are the one pound note (in chapter 10) that the Bank Notes Act 1826 had removed from circulation; likewise, the death penalty for deported felons who returned to Britain was abolished in 1835. The gallows erected in the swamps, designed to display a rotting corpse, had disappeared by 1832, and George III, the monarch mentioned at the beginning, died in 1820, when Pip would have been seven or eight. Miss Havisham paid Joe 25 guineas, gold coins, when Pip was to begin his apprenticeship (in chapter 13); guinea coins were slowly going out of circulation after the last new ones were struck with the face of George III in 1799. This also marks the historical period, as the one pound note was the official currency at the time of the novel's publication. Dickens placed the epilogue 11 years after Magwitch's death, which seems to be the time limit of the reported facts. Collectively, the details suggest that Dickens identified with the main character. If Pip is around 23 toward the middle of the novel and 34 at its end, he is roughly modeled after his creator who turned 34 in 1846.\n",
            "Dickens famously created comic and telling names for his characters, but in Great Expectations he goes further. The first sentence of the novel establishes that Pip's proper name is Philip Pirrip – the wording of his father's gravestone – which \"my infant tongue could make of both names nothing longer or more explicit than Pip\". The name Philip Pirrip (or Pirrip) is never again used in the novel. In Chapter 18, when he receives his expectation from an anonymous benefactor, the first condition attached to it is \"that you always bear the name of Pip\".\n",
            "In Chapter 22, when Pip establishes his friendship with Herbert Pocket, he attempts to introduce himself as Philip. Herbert immediately rejects the name (\"'I don't take to Philip,' said he, smiling, 'for it sounds like a moral boy out of the spelling-book'\") and decides to refer to Pip exclusively as Handel (\"'Would you mind Handel for a familiar name? There's a charming piece of music by Handel, called the Harmonious Blacksmith.'\"). The only other place he is referred to as Philip is in Chapter 44, when he receives a letter addressed to \"Philip Pip\" from his friend Wemmick, which says \"DON'T GO HOME\".\n",
            "Dickens famously created comic and telling names for his characters, but in Great Expectations he goes further. The first sentence of the novel establishes that Pip's proper name is Philip Pirrip – the wording of his father's gravestone – which \"my infant tongue could make of both names nothing longer or more explicit than Pip\". The name Philip Pirrip (or Pirrip) is never again used in the novel. In Chapter 18, when he receives his expectation from an anonymous benefactor, the first condition attached to it is \"that you always bear the name of Pip\".\n",
            "In Chapter 22, when Pip establishes his friendship with Herbert Pocket, he attempts to introduce himself as Philip. Herbert immediately rejects the name (\"'I don't take to Philip,' said he, smiling, 'for it sounds like a moral boy out of the spelling-book'\") and decides to refer to Pip exclusively as Handel (\"'Would you mind Handel for a familiar name? There's a charming piece of music by Handel, called the Harmonious Blacksmith.'\"). The only other place he is referred to as Philip is in Chapter 44, when he receives a letter addressed to \"Philip Pip\" from his friend Wemmick, which says \"DON'T GO HOME\".A central theme here is of people living as social outcasts. The novel's opening setting emphasises this: the orphaned Pip lives in an isolated foggy environment next to a graveyard, dangerous swamps, and prison ships. Furthermore, \"I was always treated as if I had insisted on being born in opposition to the dictates of reason, religion and morality\".Pip feels excluded by society and this leads to his aggressive attitude towards it, as he tries to win his place within it through any means. Various other characters behave similarly—that is, the oppressed become the oppressors. Jaggers dominates Wemmick, who in turn dominates Jaggers's clients. Likewise, Magwitch uses Pip as an instrument of vengeance, as Miss Havisham uses Estella.However, Pip has hope despite his sense of exclusion because he is convinced that divine providence owes him a place in society and that marriage to Estella is his destiny. Therefore, when fortune comes his way, Pip shows no surprise, because he believes, that his value as a human being, and his inherent nobility, have been recognized. Thus Pip accepts Pumblechook's flattery without blinking: \"That boy is no common boy\" and the \"May I? May I?\" associated with handshakes.From Pip's hope comes his \"uncontrollable, impossible love for Estella\", despite the humiliations to which she has subjected him. For Pip, winning a place in society also means winning Estella's heart.\n",
            "Dickens famously created comic and telling names for his characters, but in Great Expectations he goes further. The first sentence of the novel establishes that Pip's proper name is Philip Pirrip – the wording of his father's gravestone – which \"my infant tongue could make of both names nothing longer or more explicit than Pip\". The name Philip Pirrip (or Pirrip) is never again used in the novel. In Chapter 18, when he receives his expectation from an anonymous benefactor, the first condition attached to it is \"that you always bear the name of Pip\".\n",
            "In Chapter 22, when Pip establishes his friendship with Herbert Pocket, he attempts to introduce himself as Philip. Herbert immediately rejects the name (\"'I don't take to Philip,' said he, smiling, 'for it sounds like a moral boy out of the spelling-book'\") and decides to refer to Pip exclusively as Handel (\"'Would you mind Handel for a familiar name? There's a charming piece of music by Handel, called the Harmonious Blacksmith.'\"). The only other place he is referred to as Philip is in Chapter 44, when he receives a letter addressed to \"Philip Pip\" from his friend Wemmick, which says \"DON'T GO HOME\".A central theme here is of people living as social outcasts. The novel's opening setting emphasises this: the orphaned Pip lives in an isolated foggy environment next to a graveyard, dangerous swamps, and prison ships. Furthermore, \"I was always treated as if I had insisted on being born in opposition to the dictates of reason, religion and morality\".Pip feels excluded by society and this leads to his aggressive attitude towards it, as he tries to win his place within it through any means. Various other characters behave similarly—that is, the oppressed become the oppressors. Jaggers dominates Wemmick, who in turn dominates Jaggers's clients. Likewise, Magwitch uses Pip as an instrument of vengeance, as Miss Havisham uses Estella.However, Pip has hope despite his sense of exclusion because he is convinced that divine providence owes him a place in society and that marriage to Estella is his destiny. Therefore, when fortune comes his way, Pip shows no surprise, because he believes, that his value as a human being, and his inherent nobility, have been recognized. Thus Pip accepts Pumblechook's flattery without blinking: \"That boy is no common boy\" and the \"May I? May I?\" associated with handshakes.From Pip's hope comes his \"uncontrollable, impossible love for Estella\", despite the humiliations to which she has subjected him. For Pip, winning a place in society also means winning Estella's heart.When the money secretly provided by Magwitch enables  Pip to enter London society, two new related themes, wealth and gentility, are introduced.\n",
            "\n",
            "As the novel's title implies money is a theme of Great Expectations. Central to this is the idea that wealth is only acceptable to the ruling class if it comes from the labour of others. Miss Havisham's wealth comes not from the sweat of her brow but from rent collected on properties she inherited from her father, a brewer. Her wealth is \"pure\", and her father's profession as a brewer does not contaminate it. Herbert states in chapter 22 that \"while you cannot possibly be genteel and bake, you may be as genteel as never was and brew.\" Because of her wealth, the old lady, despite her eccentricity, enjoys public esteem. She remains in a constant business relationship with her lawyer Jaggers and keeps a tight grip over her \"court\" of sycophants, so that, far from representing social exclusion, she is the very image of a powerful landed aristocracy that is frozen in the past and \"embalmed in its own pride\".On the other hand, Magwitch's wealth is socially unacceptable, firstly because he earned it, not through the efforts of others, but through his own hard work, and secondly because he was a convict, and he earned it in a penal colony. It is argued that the contrast with Miss Havisham's wealth is suggested symbolically. Thus Magwitch's money smells of sweat, and his money is greasy and crumpled: \"two fat sweltering one-pound notes that seemed to have been on terms of the warmest intimacy with all the cattle market in the country\", while the coins Miss Havisham gives for Pip's \"indentures\" shine as if new. Further, it is argued Pip demonstrates his \"good breeding\", because when he discovers that he owes his transformation into a \"gentleman\" to such a contaminated windfall, he is repulsed in horror. A. O. J. Cockshut, however, has suggested that there is no difference between Magwitch's wealth and that of Miss Havisham's.Trotter emphasizes the importance of Magwitch's greasy banknotes. Beyond the Pip's emotional reaction the notes reveal that Dickens' views on social and economic progress have changed in the years prior to the publication of Great Expectations. His novels and Household Words extensively reflect Dickens' views, and, his efforts to contribute to social progress expanded in the 1840s. To illustrate his point, he cites Humphry House who, succinctly, writes that in Pickwick Papers, \"a bad smell was a bad smell\", whereas in Our Mutual Friend and Great Expectations, \"it is a problem\".\n",
            "\n",
            "At the time of The Great Exhibition of 1851, Dickens and Richard Henry Horne an editor of Household Words wrote an article comparing the British technology that created The Crystal Palace to the few artifacts exhibited by China: England represented an openness to worldwide trade and China isolationism. \"To compare China and England is to compare Stoppage to Progress\", they concluded. According to Trotter, this was a way to target the Tory government's return to protectionism, which they felt would make England the China of Europe. In fact, Household Words' 17 May 1856 issue, championed international free trade, comparing the constant flow of money to the circulation of the blood. Back in the 1850s, Dickens believed in \"genuine\" wealth, which critic Trotter compares to fresh banknotes, crisp to the touch, pure and odorless.With Great Expectations, Dickens's views about wealth have changed. However, though some sharp satire exists, no character in the novel has the role of the moralist that condemn Pip and his society. In fact, even Joe and Biddy themselves, paragons of good sense, are complicit, through their exaggerated innate humility, in Pip's social deviancy. Dickens' moral judgement is first made through the way that he contrasts characters: only a few characters keep to the straight and narrow path; Joe, whose values remain unchanged; Matthew Pocket whose pride renders him, to his family's astonishment, unable to flatter his rich relatives; Jaggers, who keeps a cool head and has no illusions about his clients; Biddy, who overcomes her shyness to, from time to time, bring order. The narrator-hero is left to draw the necessary conclusions: in the end, Pip finds the light and embarks on a path of moral regeneration.\n",
            "Dickens famously created comic and telling names for his characters, but in Great Expectations he goes further. The first sentence of the novel establishes that Pip's proper name is Philip Pirrip – the wording of his father's gravestone – which \"my infant tongue could make of both names nothing longer or more explicit than Pip\". The name Philip Pirrip (or Pirrip) is never again used in the novel. In Chapter 18, when he receives his expectation from an anonymous benefactor, the first condition attached to it is \"that you always bear the name of Pip\".\n",
            "In Chapter 22, when Pip establishes his friendship with Herbert Pocket, he attempts to introduce himself as Philip. Herbert immediately rejects the name (\"'I don't take to Philip,' said he, smiling, 'for it sounds like a moral boy out of the spelling-book'\") and decides to refer to Pip exclusively as Handel (\"'Would you mind Handel for a familiar name? There's a charming piece of music by Handel, called the Harmonious Blacksmith.'\"). The only other place he is referred to as Philip is in Chapter 44, when he receives a letter addressed to \"Philip Pip\" from his friend Wemmick, which says \"DON'T GO HOME\".A central theme here is of people living as social outcasts. The novel's opening setting emphasises this: the orphaned Pip lives in an isolated foggy environment next to a graveyard, dangerous swamps, and prison ships. Furthermore, \"I was always treated as if I had insisted on being born in opposition to the dictates of reason, religion and morality\".Pip feels excluded by society and this leads to his aggressive attitude towards it, as he tries to win his place within it through any means. Various other characters behave similarly—that is, the oppressed become the oppressors. Jaggers dominates Wemmick, who in turn dominates Jaggers's clients. Likewise, Magwitch uses Pip as an instrument of vengeance, as Miss Havisham uses Estella.However, Pip has hope despite his sense of exclusion because he is convinced that divine providence owes him a place in society and that marriage to Estella is his destiny. Therefore, when fortune comes his way, Pip shows no surprise, because he believes, that his value as a human being, and his inherent nobility, have been recognized. Thus Pip accepts Pumblechook's flattery without blinking: \"That boy is no common boy\" and the \"May I? May I?\" associated with handshakes.From Pip's hope comes his \"uncontrollable, impossible love for Estella\", despite the humiliations to which she has subjected him. For Pip, winning a place in society also means winning Estella's heart.When the money secretly provided by Magwitch enables  Pip to enter London society, two new related themes, wealth and gentility, are introduced.\n",
            "\n",
            "As the novel's title implies money is a theme of Great Expectations. Central to this is the idea that wealth is only acceptable to the ruling class if it comes from the labour of others. Miss Havisham's wealth comes not from the sweat of her brow but from rent collected on properties she inherited from her father, a brewer. Her wealth is \"pure\", and her father's profession as a brewer does not contaminate it. Herbert states in chapter 22 that \"while you cannot possibly be genteel and bake, you may be as genteel as never was and brew.\" Because of her wealth, the old lady, despite her eccentricity, enjoys public esteem. She remains in a constant business relationship with her lawyer Jaggers and keeps a tight grip over her \"court\" of sycophants, so that, far from representing social exclusion, she is the very image of a powerful landed aristocracy that is frozen in the past and \"embalmed in its own pride\".On the other hand, Magwitch's wealth is socially unacceptable, firstly because he earned it, not through the efforts of others, but through his own hard work, and secondly because he was a convict, and he earned it in a penal colony. It is argued that the contrast with Miss Havisham's wealth is suggested symbolically. Thus Magwitch's money smells of sweat, and his money is greasy and crumpled: \"two fat sweltering one-pound notes that seemed to have been on terms of the warmest intimacy with all the cattle market in the country\", while the coins Miss Havisham gives for Pip's \"indentures\" shine as if new. Further, it is argued Pip demonstrates his \"good breeding\", because when he discovers that he owes his transformation into a \"gentleman\" to such a contaminated windfall, he is repulsed in horror. A. O. J. Cockshut, however, has suggested that there is no difference between Magwitch's wealth and that of Miss Havisham's.Trotter emphasizes the importance of Magwitch's greasy banknotes. Beyond the Pip's emotional reaction the notes reveal that Dickens' views on social and economic progress have changed in the years prior to the publication of Great Expectations. His novels and Household Words extensively reflect Dickens' views, and, his efforts to contribute to social progress expanded in the 1840s. To illustrate his point, he cites Humphry House who, succinctly, writes that in Pickwick Papers, \"a bad smell was a bad smell\", whereas in Our Mutual Friend and Great Expectations, \"it is a problem\".\n",
            "\n",
            "At the time of The Great Exhibition of 1851, Dickens and Richard Henry Horne an editor of Household Words wrote an article comparing the British technology that created The Crystal Palace to the few artifacts exhibited by China: England represented an openness to worldwide trade and China isolationism. \"To compare China and England is to compare Stoppage to Progress\", they concluded. According to Trotter, this was a way to target the Tory government's return to protectionism, which they felt would make England the China of Europe. In fact, Household Words' 17 May 1856 issue, championed international free trade, comparing the constant flow of money to the circulation of the blood. Back in the 1850s, Dickens believed in \"genuine\" wealth, which critic Trotter compares to fresh banknotes, crisp to the touch, pure and odorless.With Great Expectations, Dickens's views about wealth have changed. However, though some sharp satire exists, no character in the novel has the role of the moralist that condemn Pip and his society. In fact, even Joe and Biddy themselves, paragons of good sense, are complicit, through their exaggerated innate humility, in Pip's social deviancy. Dickens' moral judgement is first made through the way that he contrasts characters: only a few characters keep to the straight and narrow path; Joe, whose values remain unchanged; Matthew Pocket whose pride renders him, to his family's astonishment, unable to flatter his rich relatives; Jaggers, who keeps a cool head and has no illusions about his clients; Biddy, who overcomes her shyness to, from time to time, bring order. The narrator-hero is left to draw the necessary conclusions: in the end, Pip finds the light and embarks on a path of moral regeneration.In London, neither wealth nor gentility brings happiness. Pip, the apprentice gentleman constantly bemoans his anxiety, his feelings of insecurity, and multiple allusions to overwhelming chronic unease, to weariness, drown his enthusiasm (chapter 34). Wealth, in effect, eludes his control: the more he spends, the deeper he goes into debt to satisfy new needs, which were just as futile as his old ones. His unusual path to gentility has the opposite effect to what he expected: infinite opportunities become available, certainly, but will power, in proportion, fades and paralyses the soul. In the crowded metropolis, Pip grows disenchanted, disillusioned, and lonely. Alienated from his native Kent, he has lost the support provided by the village blacksmith. In London, he is powerless to join a community, not the Pocket family, much less Jaggers's circle. London has become Pip's prison and, like the convicts of his youth, he is bound in chains: \"no Satis House can be built merely with money\".\n",
            "Dickens famously created comic and telling names for his characters, but in Great Expectations he goes further. The first sentence of the novel establishes that Pip's proper name is Philip Pirrip – the wording of his father's gravestone – which \"my infant tongue could make of both names nothing longer or more explicit than Pip\". The name Philip Pirrip (or Pirrip) is never again used in the novel. In Chapter 18, when he receives his expectation from an anonymous benefactor, the first condition attached to it is \"that you always bear the name of Pip\".\n",
            "In Chapter 22, when Pip establishes his friendship with Herbert Pocket, he attempts to introduce himself as Philip. Herbert immediately rejects the name (\"'I don't take to Philip,' said he, smiling, 'for it sounds like a moral boy out of the spelling-book'\") and decides to refer to Pip exclusively as Handel (\"'Would you mind Handel for a familiar name? There's a charming piece of music by Handel, called the Harmonious Blacksmith.'\"). The only other place he is referred to as Philip is in Chapter 44, when he receives a letter addressed to \"Philip Pip\" from his friend Wemmick, which says \"DON'T GO HOME\".A central theme here is of people living as social outcasts. The novel's opening setting emphasises this: the orphaned Pip lives in an isolated foggy environment next to a graveyard, dangerous swamps, and prison ships. Furthermore, \"I was always treated as if I had insisted on being born in opposition to the dictates of reason, religion and morality\".Pip feels excluded by society and this leads to his aggressive attitude towards it, as he tries to win his place within it through any means. Various other characters behave similarly—that is, the oppressed become the oppressors. Jaggers dominates Wemmick, who in turn dominates Jaggers's clients. Likewise, Magwitch uses Pip as an instrument of vengeance, as Miss Havisham uses Estella.However, Pip has hope despite his sense of exclusion because he is convinced that divine providence owes him a place in society and that marriage to Estella is his destiny. Therefore, when fortune comes his way, Pip shows no surprise, because he believes, that his value as a human being, and his inherent nobility, have been recognized. Thus Pip accepts Pumblechook's flattery without blinking: \"That boy is no common boy\" and the \"May I? May I?\" associated with handshakes.From Pip's hope comes his \"uncontrollable, impossible love for Estella\", despite the humiliations to which she has subjected him. For Pip, winning a place in society also means winning Estella's heart.When the money secretly provided by Magwitch enables  Pip to enter London society, two new related themes, wealth and gentility, are introduced.\n",
            "\n",
            "As the novel's title implies money is a theme of Great Expectations. Central to this is the idea that wealth is only acceptable to the ruling class if it comes from the labour of others. Miss Havisham's wealth comes not from the sweat of her brow but from rent collected on properties she inherited from her father, a brewer. Her wealth is \"pure\", and her father's profession as a brewer does not contaminate it. Herbert states in chapter 22 that \"while you cannot possibly be genteel and bake, you may be as genteel as never was and brew.\" Because of her wealth, the old lady, despite her eccentricity, enjoys public esteem. She remains in a constant business relationship with her lawyer Jaggers and keeps a tight grip over her \"court\" of sycophants, so that, far from representing social exclusion, she is the very image of a powerful landed aristocracy that is frozen in the past and \"embalmed in its own pride\".On the other hand, Magwitch's wealth is socially unacceptable, firstly because he earned it, not through the efforts of others, but through his own hard work, and secondly because he was a convict, and he earned it in a penal colony. It is argued that the contrast with Miss Havisham's wealth is suggested symbolically. Thus Magwitch's money smells of sweat, and his money is greasy and crumpled: \"two fat sweltering one-pound notes that seemed to have been on terms of the warmest intimacy with all the cattle market in the country\", while the coins Miss Havisham gives for Pip's \"indentures\" shine as if new. Further, it is argued Pip demonstrates his \"good breeding\", because when he discovers that he owes his transformation into a \"gentleman\" to such a contaminated windfall, he is repulsed in horror. A. O. J. Cockshut, however, has suggested that there is no difference between Magwitch's wealth and that of Miss Havisham's.Trotter emphasizes the importance of Magwitch's greasy banknotes. Beyond the Pip's emotional reaction the notes reveal that Dickens' views on social and economic progress have changed in the years prior to the publication of Great Expectations. His novels and Household Words extensively reflect Dickens' views, and, his efforts to contribute to social progress expanded in the 1840s. To illustrate his point, he cites Humphry House who, succinctly, writes that in Pickwick Papers, \"a bad smell was a bad smell\", whereas in Our Mutual Friend and Great Expectations, \"it is a problem\".\n",
            "\n",
            "At the time of The Great Exhibition of 1851, Dickens and Richard Henry Horne an editor of Household Words wrote an article comparing the British technology that created The Crystal Palace to the few artifacts exhibited by China: England represented an openness to worldwide trade and China isolationism. \"To compare China and England is to compare Stoppage to Progress\", they concluded. According to Trotter, this was a way to target the Tory government's return to protectionism, which they felt would make England the China of Europe. In fact, Household Words' 17 May 1856 issue, championed international free trade, comparing the constant flow of money to the circulation of the blood. Back in the 1850s, Dickens believed in \"genuine\" wealth, which critic Trotter compares to fresh banknotes, crisp to the touch, pure and odorless.With Great Expectations, Dickens's views about wealth have changed. However, though some sharp satire exists, no character in the novel has the role of the moralist that condemn Pip and his society. In fact, even Joe and Biddy themselves, paragons of good sense, are complicit, through their exaggerated innate humility, in Pip's social deviancy. Dickens' moral judgement is first made through the way that he contrasts characters: only a few characters keep to the straight and narrow path; Joe, whose values remain unchanged; Matthew Pocket whose pride renders him, to his family's astonishment, unable to flatter his rich relatives; Jaggers, who keeps a cool head and has no illusions about his clients; Biddy, who overcomes her shyness to, from time to time, bring order. The narrator-hero is left to draw the necessary conclusions: in the end, Pip finds the light and embarks on a path of moral regeneration.In London, neither wealth nor gentility brings happiness. Pip, the apprentice gentleman constantly bemoans his anxiety, his feelings of insecurity, and multiple allusions to overwhelming chronic unease, to weariness, drown his enthusiasm (chapter 34). Wealth, in effect, eludes his control: the more he spends, the deeper he goes into debt to satisfy new needs, which were just as futile as his old ones. His unusual path to gentility has the opposite effect to what he expected: infinite opportunities become available, certainly, but will power, in proportion, fades and paralyses the soul. In the crowded metropolis, Pip grows disenchanted, disillusioned, and lonely. Alienated from his native Kent, he has lost the support provided by the village blacksmith. In London, he is powerless to join a community, not the Pocket family, much less Jaggers's circle. London has become Pip's prison and, like the convicts of his youth, he is bound in chains: \"no Satis House can be built merely with money\".The idea of \"good breeding\" and what makes for a \"gentleman\" other than money. In other words, \"gentility\" is a central theme of Great Expectations.  The convict Magwitch covets it by proxy through Pip; Mrs Pocket dreams of acquiring it; it is also found in Pumblechook's sycophancy; it is even seen in Joe, when he stammers between \"Pip\" and \"Sir\" during his visit to London, and when Biddy's letters to Pip suddenly become reverent.\n",
            "There are other characters who are associated with the idea of gentility like, for example, Miss Havisham's seducer, Compeyson, the scarred-face convict. While Compeyson is corrupt, even Magwitch does not forget he is a gentleman. This also includes Estella, who ignores the fact that she is the daughter of Magwitch and another criminal.There are a couple of ways by which someone can acquire gentility, one being a title, another family ties to the upper middle class. Mrs Pocket bases every aspiration on the fact that her grandfather failed to be knighted, while Pip hopes that Miss Havisham will eventually adopt him, as adoption, as evidenced by Estella, who behaves like a born and bred little lady, is acceptable. But even more important, though not sufficient, are wealth and education. Pip knows that and endorses it, as he hears from Jaggers through Matthew Pocket: \"I was not designed for any profession, and I should be well enough educated for my destiny if I could hold my own with the average of young men in prosperous circumstances\". But neither the educated Matthew Pocket, nor Jaggers, who has earned his status solely through his intellect, can aspire to gentility. Bentley Drummle, however, embodies the social ideal, so that  Estella marries him without hesitation.\n",
            "Dickens famously created comic and telling names for his characters, but in Great Expectations he goes further. The first sentence of the novel establishes that Pip's proper name is Philip Pirrip – the wording of his father's gravestone – which \"my infant tongue could make of both names nothing longer or more explicit than Pip\". The name Philip Pirrip (or Pirrip) is never again used in the novel. In Chapter 18, when he receives his expectation from an anonymous benefactor, the first condition attached to it is \"that you always bear the name of Pip\".\n",
            "In Chapter 22, when Pip establishes his friendship with Herbert Pocket, he attempts to introduce himself as Philip. Herbert immediately rejects the name (\"'I don't take to Philip,' said he, smiling, 'for it sounds like a moral boy out of the spelling-book'\") and decides to refer to Pip exclusively as Handel (\"'Would you mind Handel for a familiar name? There's a charming piece of music by Handel, called the Harmonious Blacksmith.'\"). The only other place he is referred to as Philip is in Chapter 44, when he receives a letter addressed to \"Philip Pip\" from his friend Wemmick, which says \"DON'T GO HOME\".A central theme here is of people living as social outcasts. The novel's opening setting emphasises this: the orphaned Pip lives in an isolated foggy environment next to a graveyard, dangerous swamps, and prison ships. Furthermore, \"I was always treated as if I had insisted on being born in opposition to the dictates of reason, religion and morality\".Pip feels excluded by society and this leads to his aggressive attitude towards it, as he tries to win his place within it through any means. Various other characters behave similarly—that is, the oppressed become the oppressors. Jaggers dominates Wemmick, who in turn dominates Jaggers's clients. Likewise, Magwitch uses Pip as an instrument of vengeance, as Miss Havisham uses Estella.However, Pip has hope despite his sense of exclusion because he is convinced that divine providence owes him a place in society and that marriage to Estella is his destiny. Therefore, when fortune comes his way, Pip shows no surprise, because he believes, that his value as a human being, and his inherent nobility, have been recognized. Thus Pip accepts Pumblechook's flattery without blinking: \"That boy is no common boy\" and the \"May I? May I?\" associated with handshakes.From Pip's hope comes his \"uncontrollable, impossible love for Estella\", despite the humiliations to which she has subjected him. For Pip, winning a place in society also means winning Estella's heart.When the money secretly provided by Magwitch enables  Pip to enter London society, two new related themes, wealth and gentility, are introduced.\n",
            "\n",
            "As the novel's title implies money is a theme of Great Expectations. Central to this is the idea that wealth is only acceptable to the ruling class if it comes from the labour of others. Miss Havisham's wealth comes not from the sweat of her brow but from rent collected on properties she inherited from her father, a brewer. Her wealth is \"pure\", and her father's profession as a brewer does not contaminate it. Herbert states in chapter 22 that \"while you cannot possibly be genteel and bake, you may be as genteel as never was and brew.\" Because of her wealth, the old lady, despite her eccentricity, enjoys public esteem. She remains in a constant business relationship with her lawyer Jaggers and keeps a tight grip over her \"court\" of sycophants, so that, far from representing social exclusion, she is the very image of a powerful landed aristocracy that is frozen in the past and \"embalmed in its own pride\".On the other hand, Magwitch's wealth is socially unacceptable, firstly because he earned it, not through the efforts of others, but through his own hard work, and secondly because he was a convict, and he earned it in a penal colony. It is argued that the contrast with Miss Havisham's wealth is suggested symbolically. Thus Magwitch's money smells of sweat, and his money is greasy and crumpled: \"two fat sweltering one-pound notes that seemed to have been on terms of the warmest intimacy with all the cattle market in the country\", while the coins Miss Havisham gives for Pip's \"indentures\" shine as if new. Further, it is argued Pip demonstrates his \"good breeding\", because when he discovers that he owes his transformation into a \"gentleman\" to such a contaminated windfall, he is repulsed in horror. A. O. J. Cockshut, however, has suggested that there is no difference between Magwitch's wealth and that of Miss Havisham's.Trotter emphasizes the importance of Magwitch's greasy banknotes. Beyond the Pip's emotional reaction the notes reveal that Dickens' views on social and economic progress have changed in the years prior to the publication of Great Expectations. His novels and Household Words extensively reflect Dickens' views, and, his efforts to contribute to social progress expanded in the 1840s. To illustrate his point, he cites Humphry House who, succinctly, writes that in Pickwick Papers, \"a bad smell was a bad smell\", whereas in Our Mutual Friend and Great Expectations, \"it is a problem\".\n",
            "\n",
            "At the time of The Great Exhibition of 1851, Dickens and Richard Henry Horne an editor of Household Words wrote an article comparing the British technology that created The Crystal Palace to the few artifacts exhibited by China: England represented an openness to worldwide trade and China isolationism. \"To compare China and England is to compare Stoppage to Progress\", they concluded. According to Trotter, this was a way to target the Tory government's return to protectionism, which they felt would make England the China of Europe. In fact, Household Words' 17 May 1856 issue, championed international free trade, comparing the constant flow of money to the circulation of the blood. Back in the 1850s, Dickens believed in \"genuine\" wealth, which critic Trotter compares to fresh banknotes, crisp to the touch, pure and odorless.With Great Expectations, Dickens's views about wealth have changed. However, though some sharp satire exists, no character in the novel has the role of the moralist that condemn Pip and his society. In fact, even Joe and Biddy themselves, paragons of good sense, are complicit, through their exaggerated innate humility, in Pip's social deviancy. Dickens' moral judgement is first made through the way that he contrasts characters: only a few characters keep to the straight and narrow path; Joe, whose values remain unchanged; Matthew Pocket whose pride renders him, to his family's astonishment, unable to flatter his rich relatives; Jaggers, who keeps a cool head and has no illusions about his clients; Biddy, who overcomes her shyness to, from time to time, bring order. The narrator-hero is left to draw the necessary conclusions: in the end, Pip finds the light and embarks on a path of moral regeneration.In London, neither wealth nor gentility brings happiness. Pip, the apprentice gentleman constantly bemoans his anxiety, his feelings of insecurity, and multiple allusions to overwhelming chronic unease, to weariness, drown his enthusiasm (chapter 34). Wealth, in effect, eludes his control: the more he spends, the deeper he goes into debt to satisfy new needs, which were just as futile as his old ones. His unusual path to gentility has the opposite effect to what he expected: infinite opportunities become available, certainly, but will power, in proportion, fades and paralyses the soul. In the crowded metropolis, Pip grows disenchanted, disillusioned, and lonely. Alienated from his native Kent, he has lost the support provided by the village blacksmith. In London, he is powerless to join a community, not the Pocket family, much less Jaggers's circle. London has become Pip's prison and, like the convicts of his youth, he is bound in chains: \"no Satis House can be built merely with money\".The idea of \"good breeding\" and what makes for a \"gentleman\" other than money. In other words, \"gentility\" is a central theme of Great Expectations.  The convict Magwitch covets it by proxy through Pip; Mrs Pocket dreams of acquiring it; it is also found in Pumblechook's sycophancy; it is even seen in Joe, when he stammers between \"Pip\" and \"Sir\" during his visit to London, and when Biddy's letters to Pip suddenly become reverent.\n",
            "There are other characters who are associated with the idea of gentility like, for example, Miss Havisham's seducer, Compeyson, the scarred-face convict. While Compeyson is corrupt, even Magwitch does not forget he is a gentleman. This also includes Estella, who ignores the fact that she is the daughter of Magwitch and another criminal.There are a couple of ways by which someone can acquire gentility, one being a title, another family ties to the upper middle class. Mrs Pocket bases every aspiration on the fact that her grandfather failed to be knighted, while Pip hopes that Miss Havisham will eventually adopt him, as adoption, as evidenced by Estella, who behaves like a born and bred little lady, is acceptable. But even more important, though not sufficient, are wealth and education. Pip knows that and endorses it, as he hears from Jaggers through Matthew Pocket: \"I was not designed for any profession, and I should be well enough educated for my destiny if I could hold my own with the average of young men in prosperous circumstances\". But neither the educated Matthew Pocket, nor Jaggers, who has earned his status solely through his intellect, can aspire to gentility. Bentley Drummle, however, embodies the social ideal, so that  Estella marries him without hesitation.Another theme of Great Expectations is that Pip can undergo \"moral regeneration.\"\n",
            "In chapter 39, the novel's turning point, Magwitch visits Pip to see the gentleman he has made, and once the convict has hidden in Herbert Pocket's room, Pip realises his situation:\n",
            "\n",
            "For an hour or more, I remained too stunned to think; and it was not until I began to think, that I began fully to know how wrecked I was, and how the ship in which I had sailed was gone to pieces.\n",
            "Miss Havisham's intentions towards me, all a mere dream; Estella not designed for me ... But, sharpest and deepest pain of all – it was for the convict, guilty of I knew not what crimes, and liable to be taken out of those rooms where I sat thinking, and hanged at the Old Bailey door, that I had deserted Joe.\n",
            "To cope with his situation and his learning that he now needs Magwitch, a hunted, injured man who traded his life for Pip's. Pip can only rely on the power of love for Estella Pip now goes through a number of different stages each of which, is accompanied by successive realisations about the vanity of the prior certainties.\n",
            "\n",
            "Pip's problem is more psychological and moral than social. Pip's climbing of the social ladder upon gaining wealth is followed by a corresponding degradation of his integrity. Thus after his first visit in Miss Havisham, the innocent young boy from the marshes, suddenly turns into a liar to dazzle his sister, Mrs Joe, and his Uncle Pumblechook with the tales of a carriage and veal chops. More disturbing is his fascination with Satis House –where he is despised and even slapped, beset by ghostly visions, rejected by the Pockets– and the gradual growth of the mirage of London. The allure of wealth overpowers loyalty and gratitude, even conscience itself. This is evidenced by the urge to buy Joe's return, in chapter 27, Pip's haughty glance as Joe deciphers the alphabet, not to mention the condescending contempt he confesses to Biddy, copying Estella's behaviour toward him.\n",
            "\n",
            "Pip represents, as do those he mimics, the bankruptcy of the \"idea of the gentleman\", and becomes the sole beneficiary of vulgarity, inversely proportional to his mounting gentility. In chapter 30, Dickens parodies the new disease that is corroding Pip's moral values through the character \"Trabb's boy\", who is the only one not to be fooled. The boy parades through the main street of the village with boyish antics and contortions meant to satirically imitate Pip. The gross, comic caricature openly exposes the hypocrisy of this new gentleman in a frock coat and top hat. Trabb's boy reveals that appearance has taken precedence over being, protocol on feelings, decorum on authenticity; labels reign to the point of absurdity, and human solidarity is no longer the order of the day.\n",
            "\n",
            "Estella and Miss Havisham represent rich people who enjoy a materially easier life but cannot cope with a tougher reality. Miss Havisham, like a melodramatic heroine, withdrew from life at the first sign of hardship. Estella, excessively spoiled and pampered, sorely lacks judgement and falls prey to the first gentleman who approaches her, though he is the worst. Estella's marriage to such a brute demonstrates the failure of her education. Estella is used to dominating but becomes a victim to her own vice, brought to her level by a man born, in her image.Dickens uses imagery to reinforce his ideas and London, the paradise of the rich and of the ideal of the gentleman, has mounds of filth, it is crooked, decrepit, and greasy, a dark desert of bricks, soot, rain, and fog. The surviving vegetation is stunted, and confined to fenced-off paths, without air or light. Barnard's Inn, where Pip lodges, offers mediocre food and service while the rooms, despite the furnishing provided, as Suhamy states, \"for the money\", is most uncomfortable, a far cry from Joe's large kitchen, radiating hearth, and his well-stocked pantry.Likewise, such a world, dominated by the lure of money and social prejudice, also leads to the warping of people and morals, to family discord and war between man and woman. In contrast to London's corruption stands Joe, despite his intellectual and social limitations, in whom the values of the heart prevail and who has natural wisdom.\n",
            "Dickens famously created comic and telling names for his characters, but in Great Expectations he goes further. The first sentence of the novel establishes that Pip's proper name is Philip Pirrip – the wording of his father's gravestone – which \"my infant tongue could make of both names nothing longer or more explicit than Pip\". The name Philip Pirrip (or Pirrip) is never again used in the novel. In Chapter 18, when he receives his expectation from an anonymous benefactor, the first condition attached to it is \"that you always bear the name of Pip\".\n",
            "In Chapter 22, when Pip establishes his friendship with Herbert Pocket, he attempts to introduce himself as Philip. Herbert immediately rejects the name (\"'I don't take to Philip,' said he, smiling, 'for it sounds like a moral boy out of the spelling-book'\") and decides to refer to Pip exclusively as Handel (\"'Would you mind Handel for a familiar name? There's a charming piece of music by Handel, called the Harmonious Blacksmith.'\"). The only other place he is referred to as Philip is in Chapter 44, when he receives a letter addressed to \"Philip Pip\" from his friend Wemmick, which says \"DON'T GO HOME\".A central theme here is of people living as social outcasts. The novel's opening setting emphasises this: the orphaned Pip lives in an isolated foggy environment next to a graveyard, dangerous swamps, and prison ships. Furthermore, \"I was always treated as if I had insisted on being born in opposition to the dictates of reason, religion and morality\".Pip feels excluded by society and this leads to his aggressive attitude towards it, as he tries to win his place within it through any means. Various other characters behave similarly—that is, the oppressed become the oppressors. Jaggers dominates Wemmick, who in turn dominates Jaggers's clients. Likewise, Magwitch uses Pip as an instrument of vengeance, as Miss Havisham uses Estella.However, Pip has hope despite his sense of exclusion because he is convinced that divine providence owes him a place in society and that marriage to Estella is his destiny. Therefore, when fortune comes his way, Pip shows no surprise, because he believes, that his value as a human being, and his inherent nobility, have been recognized. Thus Pip accepts Pumblechook's flattery without blinking: \"That boy is no common boy\" and the \"May I? May I?\" associated with handshakes.From Pip's hope comes his \"uncontrollable, impossible love for Estella\", despite the humiliations to which she has subjected him. For Pip, winning a place in society also means winning Estella's heart.When the money secretly provided by Magwitch enables  Pip to enter London society, two new related themes, wealth and gentility, are introduced.\n",
            "\n",
            "As the novel's title implies money is a theme of Great Expectations. Central to this is the idea that wealth is only acceptable to the ruling class if it comes from the labour of others. Miss Havisham's wealth comes not from the sweat of her brow but from rent collected on properties she inherited from her father, a brewer. Her wealth is \"pure\", and her father's profession as a brewer does not contaminate it. Herbert states in chapter 22 that \"while you cannot possibly be genteel and bake, you may be as genteel as never was and brew.\" Because of her wealth, the old lady, despite her eccentricity, enjoys public esteem. She remains in a constant business relationship with her lawyer Jaggers and keeps a tight grip over her \"court\" of sycophants, so that, far from representing social exclusion, she is the very image of a powerful landed aristocracy that is frozen in the past and \"embalmed in its own pride\".On the other hand, Magwitch's wealth is socially unacceptable, firstly because he earned it, not through the efforts of others, but through his own hard work, and secondly because he was a convict, and he earned it in a penal colony. It is argued that the contrast with Miss Havisham's wealth is suggested symbolically. Thus Magwitch's money smells of sweat, and his money is greasy and crumpled: \"two fat sweltering one-pound notes that seemed to have been on terms of the warmest intimacy with all the cattle market in the country\", while the coins Miss Havisham gives for Pip's \"indentures\" shine as if new. Further, it is argued Pip demonstrates his \"good breeding\", because when he discovers that he owes his transformation into a \"gentleman\" to such a contaminated windfall, he is repulsed in horror. A. O. J. Cockshut, however, has suggested that there is no difference between Magwitch's wealth and that of Miss Havisham's.Trotter emphasizes the importance of Magwitch's greasy banknotes. Beyond the Pip's emotional reaction the notes reveal that Dickens' views on social and economic progress have changed in the years prior to the publication of Great Expectations. His novels and Household Words extensively reflect Dickens' views, and, his efforts to contribute to social progress expanded in the 1840s. To illustrate his point, he cites Humphry House who, succinctly, writes that in Pickwick Papers, \"a bad smell was a bad smell\", whereas in Our Mutual Friend and Great Expectations, \"it is a problem\".\n",
            "\n",
            "At the time of The Great Exhibition of 1851, Dickens and Richard Henry Horne an editor of Household Words wrote an article comparing the British technology that created The Crystal Palace to the few artifacts exhibited by China: England represented an openness to worldwide trade and China isolationism. \"To compare China and England is to compare Stoppage to Progress\", they concluded. According to Trotter, this was a way to target the Tory government's return to protectionism, which they felt would make England the China of Europe. In fact, Household Words' 17 May 1856 issue, championed international free trade, comparing the constant flow of money to the circulation of the blood. Back in the 1850s, Dickens believed in \"genuine\" wealth, which critic Trotter compares to fresh banknotes, crisp to the touch, pure and odorless.With Great Expectations, Dickens's views about wealth have changed. However, though some sharp satire exists, no character in the novel has the role of the moralist that condemn Pip and his society. In fact, even Joe and Biddy themselves, paragons of good sense, are complicit, through their exaggerated innate humility, in Pip's social deviancy. Dickens' moral judgement is first made through the way that he contrasts characters: only a few characters keep to the straight and narrow path; Joe, whose values remain unchanged; Matthew Pocket whose pride renders him, to his family's astonishment, unable to flatter his rich relatives; Jaggers, who keeps a cool head and has no illusions about his clients; Biddy, who overcomes her shyness to, from time to time, bring order. The narrator-hero is left to draw the necessary conclusions: in the end, Pip finds the light and embarks on a path of moral regeneration.In London, neither wealth nor gentility brings happiness. Pip, the apprentice gentleman constantly bemoans his anxiety, his feelings of insecurity, and multiple allusions to overwhelming chronic unease, to weariness, drown his enthusiasm (chapter 34). Wealth, in effect, eludes his control: the more he spends, the deeper he goes into debt to satisfy new needs, which were just as futile as his old ones. His unusual path to gentility has the opposite effect to what he expected: infinite opportunities become available, certainly, but will power, in proportion, fades and paralyses the soul. In the crowded metropolis, Pip grows disenchanted, disillusioned, and lonely. Alienated from his native Kent, he has lost the support provided by the village blacksmith. In London, he is powerless to join a community, not the Pocket family, much less Jaggers's circle. London has become Pip's prison and, like the convicts of his youth, he is bound in chains: \"no Satis House can be built merely with money\".The idea of \"good breeding\" and what makes for a \"gentleman\" other than money. In other words, \"gentility\" is a central theme of Great Expectations.  The convict Magwitch covets it by proxy through Pip; Mrs Pocket dreams of acquiring it; it is also found in Pumblechook's sycophancy; it is even seen in Joe, when he stammers between \"Pip\" and \"Sir\" during his visit to London, and when Biddy's letters to Pip suddenly become reverent.\n",
            "There are other characters who are associated with the idea of gentility like, for example, Miss Havisham's seducer, Compeyson, the scarred-face convict. While Compeyson is corrupt, even Magwitch does not forget he is a gentleman. This also includes Estella, who ignores the fact that she is the daughter of Magwitch and another criminal.There are a couple of ways by which someone can acquire gentility, one being a title, another family ties to the upper middle class. Mrs Pocket bases every aspiration on the fact that her grandfather failed to be knighted, while Pip hopes that Miss Havisham will eventually adopt him, as adoption, as evidenced by Estella, who behaves like a born and bred little lady, is acceptable. But even more important, though not sufficient, are wealth and education. Pip knows that and endorses it, as he hears from Jaggers through Matthew Pocket: \"I was not designed for any profession, and I should be well enough educated for my destiny if I could hold my own with the average of young men in prosperous circumstances\". But neither the educated Matthew Pocket, nor Jaggers, who has earned his status solely through his intellect, can aspire to gentility. Bentley Drummle, however, embodies the social ideal, so that  Estella marries him without hesitation.Another theme of Great Expectations is that Pip can undergo \"moral regeneration.\"\n",
            "In chapter 39, the novel's turning point, Magwitch visits Pip to see the gentleman he has made, and once the convict has hidden in Herbert Pocket's room, Pip realises his situation:\n",
            "\n",
            "For an hour or more, I remained too stunned to think; and it was not until I began to think, that I began fully to know how wrecked I was, and how the ship in which I had sailed was gone to pieces.\n",
            "Miss Havisham's intentions towards me, all a mere dream; Estella not designed for me ... But, sharpest and deepest pain of all – it was for the convict, guilty of I knew not what crimes, and liable to be taken out of those rooms where I sat thinking, and hanged at the Old Bailey door, that I had deserted Joe.\n",
            "To cope with his situation and his learning that he now needs Magwitch, a hunted, injured man who traded his life for Pip's. Pip can only rely on the power of love for Estella Pip now goes through a number of different stages each of which, is accompanied by successive realisations about the vanity of the prior certainties.\n",
            "\n",
            "Pip's problem is more psychological and moral than social. Pip's climbing of the social ladder upon gaining wealth is followed by a corresponding degradation of his integrity. Thus after his first visit in Miss Havisham, the innocent young boy from the marshes, suddenly turns into a liar to dazzle his sister, Mrs Joe, and his Uncle Pumblechook with the tales of a carriage and veal chops. More disturbing is his fascination with Satis House –where he is despised and even slapped, beset by ghostly visions, rejected by the Pockets– and the gradual growth of the mirage of London. The allure of wealth overpowers loyalty and gratitude, even conscience itself. This is evidenced by the urge to buy Joe's return, in chapter 27, Pip's haughty glance as Joe deciphers the alphabet, not to mention the condescending contempt he confesses to Biddy, copying Estella's behaviour toward him.\n",
            "\n",
            "Pip represents, as do those he mimics, the bankruptcy of the \"idea of the gentleman\", and becomes the sole beneficiary of vulgarity, inversely proportional to his mounting gentility. In chapter 30, Dickens parodies the new disease that is corroding Pip's moral values through the character \"Trabb's boy\", who is the only one not to be fooled. The boy parades through the main street of the village with boyish antics and contortions meant to satirically imitate Pip. The gross, comic caricature openly exposes the hypocrisy of this new gentleman in a frock coat and top hat. Trabb's boy reveals that appearance has taken precedence over being, protocol on feelings, decorum on authenticity; labels reign to the point of absurdity, and human solidarity is no longer the order of the day.\n",
            "\n",
            "Estella and Miss Havisham represent rich people who enjoy a materially easier life but cannot cope with a tougher reality. Miss Havisham, like a melodramatic heroine, withdrew from life at the first sign of hardship. Estella, excessively spoiled and pampered, sorely lacks judgement and falls prey to the first gentleman who approaches her, though he is the worst. Estella's marriage to such a brute demonstrates the failure of her education. Estella is used to dominating but becomes a victim to her own vice, brought to her level by a man born, in her image.Dickens uses imagery to reinforce his ideas and London, the paradise of the rich and of the ideal of the gentleman, has mounds of filth, it is crooked, decrepit, and greasy, a dark desert of bricks, soot, rain, and fog. The surviving vegetation is stunted, and confined to fenced-off paths, without air or light. Barnard's Inn, where Pip lodges, offers mediocre food and service while the rooms, despite the furnishing provided, as Suhamy states, \"for the money\", is most uncomfortable, a far cry from Joe's large kitchen, radiating hearth, and his well-stocked pantry.Likewise, such a world, dominated by the lure of money and social prejudice, also leads to the warping of people and morals, to family discord and war between man and woman. In contrast to London's corruption stands Joe, despite his intellectual and social limitations, in whom the values of the heart prevail and who has natural wisdom.Another important theme is Pip's sense of guilt, which he has felt from an early age. After the encounter with the convict Magwitch, Pip is afraid that someone will find out about his crime and arrest him. The theme of guilt comes into even greater effect when Pip discovers that his benefactor is a convict. Pip has an internal struggle with his conscience throughout Great Expectations, hence the long and painful process of redemption that he undergoes.\n",
            "Pip's moral regeneration is a true pilgrimage punctuated by suffering. Like Christian in Bunyan's The Pilgrim's Progress, Pip makes his way up to light through a maze of horrors that afflict his body as well as his mind. This includes the burns he suffers from saving Miss Havisham from the fire; the illness that requires months of recovery; the threat of a violent death at Orlick's hands; debt, and worse, the obligation of having to repay them; hard work, which he recognises as the only worthy source of income, hence his return to Joe's forge. Even more important, is his accepting of Magwitch, a coarse outcast of society.Dickens makes use of symbolism, in chapter 53, to emphasise Pip's moral regeneration. As he prepares to go down the Thames to rescue the convict, a veil lifted from the river and Pip's spirit. Symbolically the fog which enveloped the marshes as Pip left for London has finally lifted, and he feels ready to become a man.\n",
            "As I looked along the clustered roofs, with Church towers and spires shooting into the unusually clear air, the sun rose up, and a veil seemed to be drawn from the river, and millions of sparkles burst out upon its waters. From me too, a veil seemed to be drawn, and I felt strong and well.\n",
            "\n",
            "Pip is redeemed by love, that, for Dickens as for generations of Christian moralists, is only acquired through sacrifice. Pip's reluctance completely disappears and he embraces Magwitch. After this, Pip's loyalty remains foolproof, during imprisonment, trial, and death of the convict. He grows selfless and his \"expectations\" are confiscated by the Crown. Moments before Magwitch's death, Pip reveals that Estella, Magwitch's daughter, is alive, \"a lady and very beautiful. And I love her\". Here the greatest sacrifice: the recognition that he owes everything, even Estella, to Magwitch; his new debt becomes his greatest freedom.Pip returns to the forge, his previous state and to meaningful work. The philosophy expressed here by Dickens that of a person happy with their contribution to the welfare of society,  is in line with Thomas Carlyle's theories and his condemnation, in Latter-Day Pamphlets (1850), the system of social classes flourishing in idleness, much like Karl Marx and Friedrich Engels did. Dickens' hero is neither an aristocrat nor a capitalist but a working-class boy.In Great Expectations, the true values are childhood, youth, and heart. The heroes of the story are the young Pip, a true visionary, and still developing person, open, sensible, who is persecuted by soulless adults. Then the adolescent Pip and Herbert, imperfect but free, intact, playful, endowed with fantasy in a boring and frivolous world. Magwitch is also a positive figure, a man of heart, victim of false appearances and of social images, formidable and humble, bestial but pure, a vagabond of God, despised by men. There is also Pip's affectional friend Joe, the enemy of the lie. Finally, there are women like Biddy.\n",
            "Dickens famously created comic and telling names for his characters, but in Great Expectations he goes further. The first sentence of the novel establishes that Pip's proper name is Philip Pirrip – the wording of his father's gravestone – which \"my infant tongue could make of both names nothing longer or more explicit than Pip\". The name Philip Pirrip (or Pirrip) is never again used in the novel. In Chapter 18, when he receives his expectation from an anonymous benefactor, the first condition attached to it is \"that you always bear the name of Pip\".\n",
            "In Chapter 22, when Pip establishes his friendship with Herbert Pocket, he attempts to introduce himself as Philip. Herbert immediately rejects the name (\"'I don't take to Philip,' said he, smiling, 'for it sounds like a moral boy out of the spelling-book'\") and decides to refer to Pip exclusively as Handel (\"'Would you mind Handel for a familiar name? There's a charming piece of music by Handel, called the Harmonious Blacksmith.'\"). The only other place he is referred to as Philip is in Chapter 44, when he receives a letter addressed to \"Philip Pip\" from his friend Wemmick, which says \"DON'T GO HOME\".A central theme here is of people living as social outcasts. The novel's opening setting emphasises this: the orphaned Pip lives in an isolated foggy environment next to a graveyard, dangerous swamps, and prison ships. Furthermore, \"I was always treated as if I had insisted on being born in opposition to the dictates of reason, religion and morality\".Pip feels excluded by society and this leads to his aggressive attitude towards it, as he tries to win his place within it through any means. Various other characters behave similarly—that is, the oppressed become the oppressors. Jaggers dominates Wemmick, who in turn dominates Jaggers's clients. Likewise, Magwitch uses Pip as an instrument of vengeance, as Miss Havisham uses Estella.However, Pip has hope despite his sense of exclusion because he is convinced that divine providence owes him a place in society and that marriage to Estella is his destiny. Therefore, when fortune comes his way, Pip shows no surprise, because he believes, that his value as a human being, and his inherent nobility, have been recognized. Thus Pip accepts Pumblechook's flattery without blinking: \"That boy is no common boy\" and the \"May I? May I?\" associated with handshakes.From Pip's hope comes his \"uncontrollable, impossible love for Estella\", despite the humiliations to which she has subjected him. For Pip, winning a place in society also means winning Estella's heart.When the money secretly provided by Magwitch enables  Pip to enter London society, two new related themes, wealth and gentility, are introduced.\n",
            "\n",
            "As the novel's title implies money is a theme of Great Expectations. Central to this is the idea that wealth is only acceptable to the ruling class if it comes from the labour of others. Miss Havisham's wealth comes not from the sweat of her brow but from rent collected on properties she inherited from her father, a brewer. Her wealth is \"pure\", and her father's profession as a brewer does not contaminate it. Herbert states in chapter 22 that \"while you cannot possibly be genteel and bake, you may be as genteel as never was and brew.\" Because of her wealth, the old lady, despite her eccentricity, enjoys public esteem. She remains in a constant business relationship with her lawyer Jaggers and keeps a tight grip over her \"court\" of sycophants, so that, far from representing social exclusion, she is the very image of a powerful landed aristocracy that is frozen in the past and \"embalmed in its own pride\".On the other hand, Magwitch's wealth is socially unacceptable, firstly because he earned it, not through the efforts of others, but through his own hard work, and secondly because he was a convict, and he earned it in a penal colony. It is argued that the contrast with Miss Havisham's wealth is suggested symbolically. Thus Magwitch's money smells of sweat, and his money is greasy and crumpled: \"two fat sweltering one-pound notes that seemed to have been on terms of the warmest intimacy with all the cattle market in the country\", while the coins Miss Havisham gives for Pip's \"indentures\" shine as if new. Further, it is argued Pip demonstrates his \"good breeding\", because when he discovers that he owes his transformation into a \"gentleman\" to such a contaminated windfall, he is repulsed in horror. A. O. J. Cockshut, however, has suggested that there is no difference between Magwitch's wealth and that of Miss Havisham's.Trotter emphasizes the importance of Magwitch's greasy banknotes. Beyond the Pip's emotional reaction the notes reveal that Dickens' views on social and economic progress have changed in the years prior to the publication of Great Expectations. His novels and Household Words extensively reflect Dickens' views, and, his efforts to contribute to social progress expanded in the 1840s. To illustrate his point, he cites Humphry House who, succinctly, writes that in Pickwick Papers, \"a bad smell was a bad smell\", whereas in Our Mutual Friend and Great Expectations, \"it is a problem\".\n",
            "\n",
            "At the time of The Great Exhibition of 1851, Dickens and Richard Henry Horne an editor of Household Words wrote an article comparing the British technology that created The Crystal Palace to the few artifacts exhibited by China: England represented an openness to worldwide trade and China isolationism. \"To compare China and England is to compare Stoppage to Progress\", they concluded. According to Trotter, this was a way to target the Tory government's return to protectionism, which they felt would make England the China of Europe. In fact, Household Words' 17 May 1856 issue, championed international free trade, comparing the constant flow of money to the circulation of the blood. Back in the 1850s, Dickens believed in \"genuine\" wealth, which critic Trotter compares to fresh banknotes, crisp to the touch, pure and odorless.With Great Expectations, Dickens's views about wealth have changed. However, though some sharp satire exists, no character in the novel has the role of the moralist that condemn Pip and his society. In fact, even Joe and Biddy themselves, paragons of good sense, are complicit, through their exaggerated innate humility, in Pip's social deviancy. Dickens' moral judgement is first made through the way that he contrasts characters: only a few characters keep to the straight and narrow path; Joe, whose values remain unchanged; Matthew Pocket whose pride renders him, to his family's astonishment, unable to flatter his rich relatives; Jaggers, who keeps a cool head and has no illusions about his clients; Biddy, who overcomes her shyness to, from time to time, bring order. The narrator-hero is left to draw the necessary conclusions: in the end, Pip finds the light and embarks on a path of moral regeneration.In London, neither wealth nor gentility brings happiness. Pip, the apprentice gentleman constantly bemoans his anxiety, his feelings of insecurity, and multiple allusions to overwhelming chronic unease, to weariness, drown his enthusiasm (chapter 34). Wealth, in effect, eludes his control: the more he spends, the deeper he goes into debt to satisfy new needs, which were just as futile as his old ones. His unusual path to gentility has the opposite effect to what he expected: infinite opportunities become available, certainly, but will power, in proportion, fades and paralyses the soul. In the crowded metropolis, Pip grows disenchanted, disillusioned, and lonely. Alienated from his native Kent, he has lost the support provided by the village blacksmith. In London, he is powerless to join a community, not the Pocket family, much less Jaggers's circle. London has become Pip's prison and, like the convicts of his youth, he is bound in chains: \"no Satis House can be built merely with money\".The idea of \"good breeding\" and what makes for a \"gentleman\" other than money. In other words, \"gentility\" is a central theme of Great Expectations.  The convict Magwitch covets it by proxy through Pip; Mrs Pocket dreams of acquiring it; it is also found in Pumblechook's sycophancy; it is even seen in Joe, when he stammers between \"Pip\" and \"Sir\" during his visit to London, and when Biddy's letters to Pip suddenly become reverent.\n",
            "There are other characters who are associated with the idea of gentility like, for example, Miss Havisham's seducer, Compeyson, the scarred-face convict. While Compeyson is corrupt, even Magwitch does not forget he is a gentleman. This also includes Estella, who ignores the fact that she is the daughter of Magwitch and another criminal.There are a couple of ways by which someone can acquire gentility, one being a title, another family ties to the upper middle class. Mrs Pocket bases every aspiration on the fact that her grandfather failed to be knighted, while Pip hopes that Miss Havisham will eventually adopt him, as adoption, as evidenced by Estella, who behaves like a born and bred little lady, is acceptable. But even more important, though not sufficient, are wealth and education. Pip knows that and endorses it, as he hears from Jaggers through Matthew Pocket: \"I was not designed for any profession, and I should be well enough educated for my destiny if I could hold my own with the average of young men in prosperous circumstances\". But neither the educated Matthew Pocket, nor Jaggers, who has earned his status solely through his intellect, can aspire to gentility. Bentley Drummle, however, embodies the social ideal, so that  Estella marries him without hesitation.Another theme of Great Expectations is that Pip can undergo \"moral regeneration.\"\n",
            "In chapter 39, the novel's turning point, Magwitch visits Pip to see the gentleman he has made, and once the convict has hidden in Herbert Pocket's room, Pip realises his situation:\n",
            "\n",
            "For an hour or more, I remained too stunned to think; and it was not until I began to think, that I began fully to know how wrecked I was, and how the ship in which I had sailed was gone to pieces.\n",
            "Miss Havisham's intentions towards me, all a mere dream; Estella not designed for me ... But, sharpest and deepest pain of all – it was for the convict, guilty of I knew not what crimes, and liable to be taken out of those rooms where I sat thinking, and hanged at the Old Bailey door, that I had deserted Joe.\n",
            "To cope with his situation and his learning that he now needs Magwitch, a hunted, injured man who traded his life for Pip's. Pip can only rely on the power of love for Estella Pip now goes through a number of different stages each of which, is accompanied by successive realisations about the vanity of the prior certainties.\n",
            "\n",
            "Pip's problem is more psychological and moral than social. Pip's climbing of the social ladder upon gaining wealth is followed by a corresponding degradation of his integrity. Thus after his first visit in Miss Havisham, the innocent young boy from the marshes, suddenly turns into a liar to dazzle his sister, Mrs Joe, and his Uncle Pumblechook with the tales of a carriage and veal chops. More disturbing is his fascination with Satis House –where he is despised and even slapped, beset by ghostly visions, rejected by the Pockets– and the gradual growth of the mirage of London. The allure of wealth overpowers loyalty and gratitude, even conscience itself. This is evidenced by the urge to buy Joe's return, in chapter 27, Pip's haughty glance as Joe deciphers the alphabet, not to mention the condescending contempt he confesses to Biddy, copying Estella's behaviour toward him.\n",
            "\n",
            "Pip represents, as do those he mimics, the bankruptcy of the \"idea of the gentleman\", and becomes the sole beneficiary of vulgarity, inversely proportional to his mounting gentility. In chapter 30, Dickens parodies the new disease that is corroding Pip's moral values through the character \"Trabb's boy\", who is the only one not to be fooled. The boy parades through the main street of the village with boyish antics and contortions meant to satirically imitate Pip. The gross, comic caricature openly exposes the hypocrisy of this new gentleman in a frock coat and top hat. Trabb's boy reveals that appearance has taken precedence over being, protocol on feelings, decorum on authenticity; labels reign to the point of absurdity, and human solidarity is no longer the order of the day.\n",
            "\n",
            "Estella and Miss Havisham represent rich people who enjoy a materially easier life but cannot cope with a tougher reality. Miss Havisham, like a melodramatic heroine, withdrew from life at the first sign of hardship. Estella, excessively spoiled and pampered, sorely lacks judgement and falls prey to the first gentleman who approaches her, though he is the worst. Estella's marriage to such a brute demonstrates the failure of her education. Estella is used to dominating but becomes a victim to her own vice, brought to her level by a man born, in her image.Dickens uses imagery to reinforce his ideas and London, the paradise of the rich and of the ideal of the gentleman, has mounds of filth, it is crooked, decrepit, and greasy, a dark desert of bricks, soot, rain, and fog. The surviving vegetation is stunted, and confined to fenced-off paths, without air or light. Barnard's Inn, where Pip lodges, offers mediocre food and service while the rooms, despite the furnishing provided, as Suhamy states, \"for the money\", is most uncomfortable, a far cry from Joe's large kitchen, radiating hearth, and his well-stocked pantry.Likewise, such a world, dominated by the lure of money and social prejudice, also leads to the warping of people and morals, to family discord and war between man and woman. In contrast to London's corruption stands Joe, despite his intellectual and social limitations, in whom the values of the heart prevail and who has natural wisdom.Another important theme is Pip's sense of guilt, which he has felt from an early age. After the encounter with the convict Magwitch, Pip is afraid that someone will find out about his crime and arrest him. The theme of guilt comes into even greater effect when Pip discovers that his benefactor is a convict. Pip has an internal struggle with his conscience throughout Great Expectations, hence the long and painful process of redemption that he undergoes.\n",
            "Pip's moral regeneration is a true pilgrimage punctuated by suffering. Like Christian in Bunyan's The Pilgrim's Progress, Pip makes his way up to light through a maze of horrors that afflict his body as well as his mind. This includes the burns he suffers from saving Miss Havisham from the fire; the illness that requires months of recovery; the threat of a violent death at Orlick's hands; debt, and worse, the obligation of having to repay them; hard work, which he recognises as the only worthy source of income, hence his return to Joe's forge. Even more important, is his accepting of Magwitch, a coarse outcast of society.Dickens makes use of symbolism, in chapter 53, to emphasise Pip's moral regeneration. As he prepares to go down the Thames to rescue the convict, a veil lifted from the river and Pip's spirit. Symbolically the fog which enveloped the marshes as Pip left for London has finally lifted, and he feels ready to become a man.\n",
            "As I looked along the clustered roofs, with Church towers and spires shooting into the unusually clear air, the sun rose up, and a veil seemed to be drawn from the river, and millions of sparkles burst out upon its waters. From me too, a veil seemed to be drawn, and I felt strong and well.\n",
            "\n",
            "Pip is redeemed by love, that, for Dickens as for generations of Christian moralists, is only acquired through sacrifice. Pip's reluctance completely disappears and he embraces Magwitch. After this, Pip's loyalty remains foolproof, during imprisonment, trial, and death of the convict. He grows selfless and his \"expectations\" are confiscated by the Crown. Moments before Magwitch's death, Pip reveals that Estella, Magwitch's daughter, is alive, \"a lady and very beautiful. And I love her\". Here the greatest sacrifice: the recognition that he owes everything, even Estella, to Magwitch; his new debt becomes his greatest freedom.Pip returns to the forge, his previous state and to meaningful work. The philosophy expressed here by Dickens that of a person happy with their contribution to the welfare of society,  is in line with Thomas Carlyle's theories and his condemnation, in Latter-Day Pamphlets (1850), the system of social classes flourishing in idleness, much like Karl Marx and Friedrich Engels did. Dickens' hero is neither an aristocrat nor a capitalist but a working-class boy.In Great Expectations, the true values are childhood, youth, and heart. The heroes of the story are the young Pip, a true visionary, and still developing person, open, sensible, who is persecuted by soulless adults. Then the adolescent Pip and Herbert, imperfect but free, intact, playful, endowed with fantasy in a boring and frivolous world. Magwitch is also a positive figure, a man of heart, victim of false appearances and of social images, formidable and humble, bestial but pure, a vagabond of God, despised by men. There is also Pip's affectional friend Joe, the enemy of the lie. Finally, there are women like Biddy.Edward W. Said, in his 1993 work Culture and Imperialism, interprets Great Expectations in terms of postcolonial theory about late-eighteenth- and nineteenth-century British imperialism. Pip's disillusionment when he learns his benefactor is an escaped convict from Australia, along with his acceptance of Magwitch as surrogate father, is described by Said as part of \"the imperial process\", that is the way colonialism exploits the weaker members of a society. Thus the British trading post in Cairo legitimatises Pip's work as a clerk, but the money earned by Magwitch's honest labour is illegitimate, because Australia is a penal colony, and Magwitch is forbidden to return to Britain. Said states that Dickens has Magwitch return to be redeemed by Pip's love, paving the way for Pip's own redemption, but despite this moral message, the book still reinforces standards that support the authority of the British Empire. Said's interpretation suggests that Dickens' attitude backs Britain's exploitation of Middle East \"through trade and travel\", and that  Great Expectations affirms the idea of keeping the Empire and its peoples in their place—at the exploitable margins of British society.\n",
            "However, the novel's Gothic, and Romance genre elements, challenge Said's assumption that Great Expectations is a realist novel like Daniel Defoe's Robinson Crusoe.\n",
            "\n",
            "\n",
            "\n",
            "\n",
            "\n"
          ],
          "name": "stdout"
        }
      ]
    },
    {
      "cell_type": "code",
      "metadata": {
        "id": "F0a7HgAAypZY",
        "outputId": "2e738287-15ce-4c6a-860f-17f699f8cab1",
        "colab": {
          "base_uri": "https://localhost:8080/",
          "height": 54
        }
      },
      "source": [
        "# Let's have a look at the first 3 entries:\n",
        "print(dicts[:3])"
      ],
      "execution_count": null,
      "outputs": [
        {
          "output_type": "stream",
          "text": [
            "[{'text': 'The book includes three \"Stages\" of Pip\\'s Expectations.On Christmas Eve, around 1812, Pip, an orphan about seven years old, is visiting the graves of his parents and siblings in the village churchyard, where he unexpectedly encounters an escaped prisoner. The convict scares Pip into stealing food and tools from Pip\\'s hot-tempered elder sister and her amiable husband, Joe Gargery, a blacksmith, who have taken the orphan in. On early Christmas morning, Pip returns with a file, a pie, and brandy, though he fears being punished. \\nDuring Christmas Dinner that evening, at the moment Pip\\'s theft is about to be discovered, soldiers arrive and ask Joe to mend some shackles. Joe and Pip accompany them as they recapture the convict, who is fighting with another escaped convict. The first convict confesses to stealing food from the smithy, clearing Pip of suspicion.\\n\\nA few years pass. Miss Havisham, a wealthy and reclusive spinster who was jilted at the altar and still wears her old wedding dress, lives in the dilapidated Satis House. She asks Mr Pumblechook, a relation of the Gargerys, to find a boy to visit her. Pip visits Miss Havisham and falls in love with Estella, her adopted daughter. Estella is aloof and hostile to Pip, which Miss Havisham encourages. Pip visits Miss Havisham regularly, until he is old enough to learn a trade.Joe accompanies Pip for the last visit when she gives the money for Pip to be bound as an apprentice blacksmith. Joe\\'s surly assistant, Dolge Orlick, is envious of Pip and dislikes Mrs Joe. When Pip and Joe are away from the house, Joe\\'s wife is brutally attacked, leaving her unable to speak or do her work. Orlick is suspected of the attack. Mrs Joe changes and becomes kind-hearted after the attack. Pip\\'s former schoolmate Biddy joins the household to help with her care.\\n\\nFour years into Pip\\'s apprenticeship, Mr Jaggers, a lawyer, informs him that he has been provided with money from an anonymous patron, allowing him to become a gentleman. Pip is to leave for London, but presuming that Miss Havisham is his benefactress, he first visits her.Pip sets up house in London at Barnard\\'s Inn with Herbert Pocket, the son of his tutor, Matthew Pocket, who is a cousin of Miss Havisham. Herbert and Pip realize they have previously met at Satis House, where Herbert was rejected as a playmate for Estella, and later challenged Pip to a boxing match. He tells Pip how Miss Havisham was defrauded and deserted by her fiancé. Pip meets fellow pupils, Bentley Drummle, a brute of a man from a wealthy noble family, and Startop, who is agreeable. Jaggers disburses the  money Pip needs.When Joe visits Pip at Barnard\\'s Inn, Pip is ashamed of him. Joe relays a message from Miss Havisham that Estella will be at Satis House for a visit. Pip returns there to meet Estella and is encouraged by Miss Havisham, but he avoids visiting Joe. He is disquieted to see Orlick now in service to Miss Havisham. He mentions his misgivings to Jaggers, who promises Orlick\\'s dismissal. Back in London, Pip and Herbert exchange their romantic secrets: Pip adores Estella and Herbert is engaged to Clara. Pip meets Estella when she is sent to Richmond to be introduced into society.Pip and Herbert build up debts. Mrs Joe dies and Pip returns to his village for the funeral. Pip\\'s income is fixed at £500 per annum when he comes of age at twenty-one. With the help of Jaggers\\'s clerk, Wemmick, Pip plans to help advance Herbert\\'s future prospects by anonymously securing him a position with the shipbroker, Clarriker\\'s. Pip takes Estella to Satis House. She and Miss Havisham quarrel over Estella\\'s coldness. In London, Bentley Drummle outrages Pip, by proposing a toast to Estella. Later, at an Assembly Ball in Richmond, Pip witnesses Estella meeting Bentley Drummle and warns her about him; she replies that she has no qualms about entrapping him.A week after he turns 23 years old, Pip learns that his benefactor is the convict he encountered in the churchyard, Abel Magwitch, who had been transported to New South Wales after being captured. He has become wealthy after gaining his freedom there but cannot return to England on pain of death. However, he returns to see Pip, who was the motivation for all his success.Pip is shocked, and stops taking Magwitch\\'s money. He and Herbert Pocket devise a plan for Magwitch to escape from England.Magwitch shares his past history with Pip, and reveals that the escaped convict whom he fought in the churchyard was Compeyson, the fraudster who had deserted Miss Havisham.Pip returns to Satis Hall to visit Estella and meets Bentley Drummle, who has also come to see her and now has Orlick as his servant. Pip accuses Miss Havisham of misleading him about his benefactor. She admits to doing so, but says that her plan was to annoy her relatives. Pip declares his love to Estella, who, coldly, tells him that she plans on marrying Drummle. Heartbroken, Pip walks back to London, where Wemmick warns him that Compeyson is seeking him. Pip and Herbert continue preparations for Magwitch\\'s escape.At Jaggers\\'s house for dinner, Wemmick tells Pip how Jaggers acquired his maidservant, Molly, rescuing her from the gallows when she was accused of murder.Then, full of remorse, Miss Havisham tells Pip how the infant Estella was brought to her by Jaggers and raised by her to be unfeeling and heartless. She knows nothing about Estella\\'s parentage. She also tells Pip that Estella is now married. She gives Pip money to pay for Herbert Pocket\\'s position at Clarriker\\'s, and asks for his forgiveness. As Pip is about to leave, Miss Havisham\\'s dress catches fire. Pip saves her, injuring himself in the process. She eventually dies from her injuries, lamenting her manipulation of Estella and Pip. Pip now realises that Estella is the daughter of Molly and Magwitch. When confronted about this, Jaggers discourages Pip from acting on his suspicions.\\n\\nA few days before Magwitch\\'s planned escape, Pip is tricked by an anonymous letter into going to a sluice house near his old home, where he is seized by Orlick, who intends to murder him. Orlick freely admits to injuring Pip\\'s sister. As Pip is about to be struck by a hammer, Herbert Pocket and Startop arrive and save Pip\\'s life. The three of them pick up Magwitch to row him to the steamboat for Hamburg, but they are met by a police boat carrying Compeyson, who has offered to identify Magwitch. Magwitch seizes Compeyson, and they fight in the river. Seriously injured, Magwitch is taken by the police. Compeyson\\'s body is found later.Pip is aware that Magwitch\\'s fortune will go to the crown after his trial. But Herbert, who is preparing to move to Cairo, Egypt, to manage Clarriker\\'s office there, offers Pip a position there. Pip always visits Magwitch in the prison hospital as he awaits trial, and on Magwitch\\'s deathbed tells him that his daughter Estella is alive. After Herbert\\'s departure for Cairo, Pip falls ill in his rooms, and faces arrest for debt. However, Joe nurses Pip back to health and pays off his debt. When Pip begins to recover, Joe slips away. Pip then returns to propose to Biddy, only to find that she has married Joe. Pip asks Joe\\'s forgiveness, promises to repay him and leaves for Cairo. There he shares lodgings with Herbert and Clara, and eventually advances to become third in the company. Only then does Herbert learn that Pip paid for his position in the firm.After working eleven years in Egypt, Pip returns to England and visits Joe, Biddy and their son, Pip Jr. Then in the ruins of Satis House he meets the widowed Estella, who asks Pip to forgive her, assuring him that misfortune has opened her heart. As Pip takes Estella\\'s hand and they leave the moonlit ruins, he sees \"no shadow of another parting from her.\"', 'meta': {'name': 'Great Expectations/Plot summary'}}, {'text': 'Philip Pirrip, nicknamed Pip, an orphan and the protagonist and narrator of Great Expectations. In his childhood, Pip dreamed of becoming a blacksmith like his kind brother-in-law, Joe Gargery. At Satis House, about age 8, he meets and falls in love with Estella, and tells Biddy that he wants to become a gentleman. As a result of Magwitch\\'s anonymous patronage, Pip lives in London after learning the blacksmith trade, and becomes a gentleman. Pip assumes his benefactor is Miss Havisham; the discovery that his true benefactor is a convict shocks him. Pip, at the end of the story, is united with Estella.\\nJoe Gargery, Pip\\'s brother-in-law, and his first father figure. He is a blacksmith who is always kind to Pip and the only person with whom Pip is always honest. Joe is disappointed when Pip decides to leave his home to live in London to become a gentleman rather than be a blacksmith in business with Joe. He is a strong man who bears the shortcomings of those closest to him.\\nMrs Joe Gargery, Pip\\'s hot-tempered adult sister, Georgiana Maria, called Mrs Joe, 20 years older than Pip. She brings him up after their parents\\' death. She does the work of the household but too often loses her temper and beats her family. Orlick, her husband\\'s journeyman, attacks her during a botched burglary, and she is left disabled until her death.\\nMr Pumblechook, Joe Gargery\\'s uncle, an officious bachelor and corn merchant. While not knowing how to deal with a growing boy, he tells Mrs Joe, as she is known, how noble she is to bring up Pip. As the person who first connected Pip to Miss Havisham, he claims to have been the original architect of Pip\\'s expectations. Pip dislikes Mr Pumblechook for his pompous, unfounded claims. When Pip stands up to him in a public place, after those expectations are dashed, Mr Pumblechook turns those listening to the conversation against Pip.Miss Havisham, a wealthy spinster who takes Pip on as a companion for herself and her adopted daughter, Estella. Havisham is a wealthy, eccentric woman who has worn her wedding dress and one shoe since the day that she was jilted at the altar by her fiancé. Her house is unchanged as well. She hates all men, and plots to wreak a twisted revenge by teaching Estella to torment and spurn men, including Pip, who loves her. Miss Havisham is later overcome with remorse for ruining both Estella\\'s and Pip\\'s chances for happiness. Shortly after confessing her plotting to Pip and begging for his forgiveness, she is badly burned when her dress accidentally catches fire. In a later chapter Pip learns from Joe that she is dead.\\nEstella, Miss Havisham\\'s adopted daughter, whom Pip pursues. She is a beautiful girl and grows more beautiful after her schooling in France. Estella represents the life of wealth and culture for which Pip strives. Since Miss Havisham ruined Estella\\'s ability to love, Estella cannot return Pip\\'s passion. She warns Pip of this repeatedly, but he will not or cannot believe her. Estella does not know that she is the daughter of Molly, Jaggers\\'s housekeeper, and the convict Abel Magwitch, given up for adoption to Miss Havisham after her mother was arrested for murder. In marrying Bentley Drummle, she rebels against Miss Havisham\\'s plan to have her break a husband\\'s heart, as Drummle is not interested in Estella but simply in the Havisham fortune.\\nMatthew Pocket, Miss Havisham\\'s cousin. He is the patriarch of the Pocket family, but unlike her other relatives, he is not greedy for Havisham\\'s wealth. Matthew Pocket tutors young gentlemen, such as Bentley Drummle, Startop, Pip and his own son Herbert.\\nHerbert Pocket, the son of Matthew Pocket, who was invited like Pip to visit Miss Havisham, but she did not take to him. Pip first meets Herbert as a \"pale young gentleman\" who challenges Pip to a fistfight at Miss Havisham\\'s house when both are children. He later becomes Pip\\'s friend, tutoring him in the \"gentlemanly\" arts and sharing his rooms with Pip in London.\\nCamilla, one of the sisters of Matthew Pocket, and therefore a cousin of Miss Havisham, she is an obsequious, detestable woman who is intent on pleasing Miss Havisham to get her money.\\nCousin Raymond, a relative of Miss Havisham who is only interested in her money. He is married to Camilla.\\nGeorgiana, a relative of Miss Havisham who is only interested in her money. She is one of the many relatives who hang around Miss Havisham \"like flies\" for her wealth.\\nSarah Pocket, the sister of Matthew Pocket, relative of Miss Havisham. She is often at Satis House. She is described as \"a dry, brown corrugated old woman, with a small face that might have been made out of walnut shells, and a large mouth like a cat\\'s without the whiskers.\"The Convict, who escapes from a prison ship, whom Pip treats kindly, and who in turn becomes Pip\\'s benefactor. His name is Abel Magwitch, but he uses the aliases \"Provis\" and \"Mr Campbell\" when he returns to England from exile in Australia. He is a lesser actor in crime with Compeyson, but gains a longer sentence in an apparent application of justice by social class.\\nMr and Mrs Hubble, simple folk who think they are more important than they really are. They live in Pip\\'s village.\\nMr Wopsle, clerk of the church in Pip\\'s village. He later gives up the church work and moves to London to pursue his ambition to be an actor, adopting the stage name \"Mr Waldengarver.\" He sees the other convict in the audience of one of his performances, attended also by Pip.\\nBiddy, Wopsle\\'s second cousin and near Pip\\'s age; she teaches in the evening school at her grandmother\\'s home in Pip\\'s village. Pip wants to learn more, so he asks her to teach him all she can. After helping Mrs Joe after the attack, Biddy opens her own school. A kind and intelligent but poor young woman, she is, like Pip and Estella, an orphan. She acts as Estella\\'s foil. Orlick was attracted to her, but she did not want his attentions. Pip ignores her affections for him as he pursues Estella. Recovering from his own illness after the failed attempt to get Magwitch out of England, Pip returns to claim Biddy as his bride, arriving in the village just after she marries Joe Gargery. Biddy and Joe later have two children, one named after Pip. In the ending to the novel discarded by Dickens but revived by students of the novel\\'s development, Estella mistakes the boy as Pip\\'s child.Mr Jaggers, prominent London lawyer who represents the interests of diverse clients, both criminal and civil. He represents Pip\\'s benefactor and Miss Havisham as well. By the end of the story, his law practice links many of the characters.\\nJohn Wemmick, Jaggers\\' clerk, who is Pip\\'s chief go-between with Jaggers and looks after Pip in London. Wemmick lives with his father, \"The Aged Parent\", in a small replica of a castle, complete with a drawbridge and moat, in Walworth.\\nMolly, Mr Jaggers\\' maidservant whom Jaggers saved from the gallows for murder. She is revealed to be Magwitch\\'s estranged wife and Estella\\'s mother.Compeyson, a convict who escapes the prison ship after Magwitch, who beats him up ashore. He is Magwitch\\'s enemy. A professional swindler, he was engaged to marry Miss Havisham, but he was in league with Arthur Havisham to defraud Miss Havisham of part of her fortune. Later he sets up Magwitch to take the fall for another swindle. He works with the police when he learns Abel Magwitch is in London, fearing Magwitch after their first escapes years earlier. When the police boat encounters the one carrying Magwitch, the two grapple, and Compeyson drowns in the Thames.\\nArthur Havisham, younger half brother of Miss Havisham, who plots with Compeyson to swindle her.\\nDolge Orlick, journeyman blacksmith at Joe Gargery\\'s forge. Strong, rude and sullen, he is as churlish as Joe is gentle and kind. He ends up in a fistfight with Joe over Mrs Gargery\\'s taunting, and Joe easily defeats him. This sets in motion an escalating chain of events that leads him secretly to assault Mrs Gargery and to try to kill her brother Pip. The police ultimately arrest him for housebreaking into Uncle Pumblechook\\'s, where he is later jailed.\\nBentley Drummle, a coarse, unintelligent young man from a wealthy noble family  being  \"the  next  heir but  one  to  a  baronetcy\". Pip meets him at Mr Pocket\\'s house, as Drummle is also to be trained in gentlemanly skills. Drummle is hostile to Pip and everyone else. He is a rival for Estella\\'s attentions and eventually marries her and is said to abuse her. He dies from an accident following his mistreatment of a horse.Clara Barley, a very poor girl living with her gout-ridden father. She marries Herbert Pocket near the novel\\'s end. She dislikes Pip at first because of his spendthrift ways. After she marries Herbert, they invite Pip to live with them.\\nMiss Skiffins occasionally visits Wemmick\\'s house and wears green gloves. She changes those green gloves for white ones when she marries Wemmick.\\nStartop, like Bentley Drummle, is Pip\\'s fellow student, but unlike Drummle, he is kind. He assists Pip and Herbert in their efforts to help Magwitch escape.', 'meta': {'name': 'Great Expectations/Characters'}}, {'text': 'As Dickens began writing Great Expectations, he undertook a series of hugely popular and remunerative reading tours. His domestic life had, however, disintegrated in the late 1850s and he had separated from his wife, Catherine Dickens, and was having a secret affair with the much younger Ellen Ternan. It has been suggested that the icy teasing of the character Estella is based on Ellen Ternan\\'s reluctance to become Dickens\\'s mistress.In his Book of Memoranda, begun in 1855, Dickens wrote names for possible characters: Magwitch, Provis, Clarriker, Compey, Pumblechook, Orlick, Gargery, Wopsle, Skiffins, some of which became familiar in Great Expectations. There is also a reference to a \"knowing man\", a possible sketch of Bentley Drummle. Another evokes a house full of \"Toadies and Humbugs\", foreshadowing the visitors to Satis House in chapter 11. Margaret Cardwell discovered the \"premonition\" of Great Expectations from a 25 September 1855 letter from Dickens to W. H. Wills, in which Dickens speaks of recycling an \"odd idea\" from the Christmas special \"A House to Let\" and \"the pivot round which my next book shall revolve.\" The \"odd idea\" concerns an individual who \"retires to an old lonely house…resolved to shut out the world and hold no communion with it.\"In an 8 August 1860 letter to Thomas Carlyle, Dickens reported his agitation whenever he prepared a new book. A month later, in a letter to John Forster, Dickens announced that he just had a new idea.Dickens was pleased with the idea, calling it \"such a very fine, new and grotesque idea\" in a letter to Forster. He planned to write \"a little piece\", a \"grotesque tragi-comic conception\", about a young hero who befriends an escaped convict, who then makes a fortune in Australia and anonymously bequeaths his property to the hero. In the end, the hero loses the money because it is forfeited to the Crown. In his biography of Dickens, Forster wrote that in the early idea \"was the germ of Pip and Magwitch, which at first he intended to make the groundwork of a tale in the old twenty-number form.\" Dickens presented the relationship between Pip and Magwitch pivotal to Great Expectations but without Miss Havisham, Estella, or other characters he later created.\\nAs the idea and Dickens\\'s ambition grew, he began writing. However, in September, the weekly All the Year Round saw its sales fall, and its flagship publication, A Day\\'s Ride by Charles Lever, lost favour with the public. Dickens \"called a council of war\", and believed that to save the situation, \"the one thing to be done was for [him] to strike in.\" The \"very fine, new and grotesque idea\" became the magazine\\'s new support: weeklies, five hundred pages, just over one year (1860–1861), thirty-six episodes, starting 1 December. The magazine continued to publish Lever\\'s novel until its completion on 23 March 1861, but it became secondary to Great Expectations. Immediately, sales resumed, and critics responded positively, as exemplified by The Times\\'s praise: \"Great Expectations is not, indeed, [Dickens\\'s] best work, but it is to be ranked among his happiest.\"Dickens, whose health was not the best, felt \"The planning from week to week was unimaginably difficult\" but persevered. He thought he had found \"a good name\", decided to use the first person \"throughout\", and thought the beginning was \"excessively droll\": \"I have put a child and a good-natured foolish man, in relations that seem to me very funny.\" Four weekly episodes were \"ground off the wheel\" in October 1860, and apart from one reference to the \"bondage\" of his heavy task, the months passed without the anguished cries that usually accompanied the writing of his novels. He did not even use the Number Plans or Mems; he had only a few notes on the characters\\' ages, the tide ranges for chapter 54, and the draft of an ending. In late December, Dickens wrote to Mary Boyle that \"Great Expectations [is] a very great success and universally liked.\"\\n\\nDickens gave six readings from 14 March to 18 April 1861, and in May, Dickens took a few days\\' holiday in Dover. On the eve of his departure, he took some friends and family members for a trip by boat from Blackwall to Southend-on-Sea. Ostensibly for pleasure, the mini-cruise was actually a working session for Dickens to examine banks of the river in preparation for the chapter devoted to Magwitch\\'s attempt to escape. Dickens then revised Herbert Pocket\\'s appearance, no doubt, asserts Margaret Cardwell, to look more like his son Charley. On 11 June 1861, Dickens wrote to Macready that Great Expectations had been completed and on 15 June, asked the editor to prepare the novel for publication.Following comments by Edward Bulwer-Lytton that the ending was too sad, Dickens rewrote it prior to publication. The ending set aside by Dickens has Pip, who is still single, briefly see Estella in London; after becoming Bentley Drummle\\'s widow, she has remarried. It appealed to Dickens due to its originality: \"[the] winding up will be away from all such things as they conventionally go.\" Dickens revised the ending for publication so that Pip meets Estella in the ruins of Satis House, she is a widow and he is single. His changes at the conclusion of the novel did not quite end either with the final weekly part or the first bound edition, because Dickens further changed the last sentence in the amended 1868 version from \"I could see the shadow of no parting from her.\" to \"I saw no shadow of another parting from her\". As Pip uses litotes, \"no shadow of another parting\", it is ambiguous whether Pip and Estella marry or Pip remains single. Angus Calder, writing for an edition in the Penguin English Library, believed the less definite phrasing of the amended 1868 version perhaps hinted at a buried meaning: \\'...at this happy moment, I did not see the shadow of our subsequent parting looming over us.\\'In a letter to Forster, Dickens explained his decision to alter the draft ending: \"You will be surprised to hear that I have changed the end of Great Expectations from and after Pip\\'s return to Joe\\'s ... Bulwer, who has been, as I think you know, extraordinarily taken with the book, strongly urged it upon me, after reading the proofs, and supported his views with such good reasons that I have resolved to make the change. I have put in as pretty a little piece of writing as I could, and I have no doubt the story will be more acceptable through the alteration.\"This discussion between Dickens, Bulwer-Lytton and Forster has provided the basis for much discussion on Dickens\\'s underlying views for this famous novel. Earle Davis, in his 1963 study of Dickens, wrote that \"it would be an inadequate moral point to deny Pip any reward after he had shown a growth of character,\" and that \"Eleven years might change Estella too.\" John Forster felt that the original ending was \"more consistent\" and \"more natural\" but noted the new ending\\'s popularity. George Gissing called that revision \"a strange thing, indeed, to befall Dickens\" and felt that Great Expectations would have been perfect had Dickens not altered the ending in deference to Bulwer-Lytton.In contrast, John Hillis-Miller stated that Dickens\\'s personality was so assertive that Bulwer-Lytton had little influence, and welcomed the revision: \"The mists of infatuation have cleared away, [Estella and Pip] can be joined.\" Earl Davis notes that G B Shaw published the novel in 1937 for The Limited Editions Club with the first ending and that The Rinehart Edition of 1979 presents both endings.George Orwell wrote, \"Psychologically the latter part of Great Expectations is about the best thing Dickens ever did,\" but, like John Forster and several early 20th century writers, including George Bernard Shaw, felt that the original ending was more consistent with the draft, as well as the natural working out of the tale. Modern literary criticism is split over the matter.', 'meta': {'name': 'Great Expectations/The creative process'}}]\n"
          ],
          "name": "stdout"
        }
      ]
    },
    {
      "cell_type": "code",
      "metadata": {
        "id": "G0L0bG56yrwN",
        "outputId": "25a3f43d-2d76-4755-a5c9-5256f31239c4",
        "colab": {
          "base_uri": "https://localhost:8080/",
          "height": 34
        }
      },
      "source": [
        "# Now, let's write the dicts containing documents to our DB.\n",
        "document_store.write_documents(dicts)"
      ],
      "execution_count": null,
      "outputs": [
        {
          "output_type": "stream",
          "text": [
            "10/27/2020 07:58:26 - INFO - elasticsearch -   POST http://localhost:9200/_bulk?refresh=wait_for [status:200 request:1.048s]\n"
          ],
          "name": "stderr"
        }
      ]
    },
    {
      "cell_type": "markdown",
      "metadata": {
        "id": "uTStDMSNtp1Z"
      },
      "source": [
        "## Initalize Retriever, Reader,  & Finder\n",
        "\n",
        "### Retriever\n",
        "\n",
        "Retrievers help narrowing down the scope for the Reader to smaller units of text where a given question could be answered.\n",
        "They use some simple but fast algorithm.\n",
        "\n",
        "**Here:** We use Elasticsearch's default BM25 algorithm\n",
        "\n",
        "**Alternatives:**\n",
        "\n",
        "- Customize the `ElasticsearchRetriever`with custom queries (e.g. boosting) and filters\n",
        "- Use `TfidfRetriever` in combination with a SQL or InMemory Document store for simple prototyping and debugging\n",
        "- Use `EmbeddingRetriever` to find candidate documents based on the similarity of embeddings (e.g. created via Sentence-BERT)\n",
        "- Use `DensePassageRetriever` to use different embedding models for passage and query (see Tutorial 6)"
      ]
    },
    {
      "cell_type": "code",
      "metadata": {
        "id": "JZOhL_rQtp1a"
      },
      "source": [
        "from haystack.retriever.sparse import ElasticsearchRetriever\n",
        "retriever = ElasticsearchRetriever(document_store=document_store)"
      ],
      "execution_count": null,
      "outputs": []
    },
    {
      "cell_type": "code",
      "metadata": {
        "pycharm": {
          "is_executing": false,
          "name": "#%%\n"
        },
        "id": "e9eYFf0Vtp1d"
      },
      "source": [
        "# Alternative: An in-memory TfidfRetriever based on Pandas dataframes for building quick-prototypes with SQLite document store.\n",
        "\n",
        "# from haystack.retriever.sparse import TfidfRetriever\n",
        "# retriever = TfidfRetriever(document_store=document_store)"
      ],
      "execution_count": null,
      "outputs": []
    },
    {
      "cell_type": "markdown",
      "metadata": {
        "id": "7K4D_iMItp1f"
      },
      "source": [
        "### Reader\n",
        "\n",
        "A Reader scans the texts returned by retrievers in detail and extracts the k best answers. They are based\n",
        "on powerful, but slower deep learning models.\n",
        "\n",
        "Haystack currently supports Readers based on the frameworks FARM and Transformers.\n",
        "With both you can either load a local model or one from Hugging Face's model hub (https://huggingface.co/models).\n",
        "\n",
        "**Here:** a medium sized RoBERTa QA model using a Reader based on FARM (https://huggingface.co/deepset/roberta-base-squad2)\n",
        "\n",
        "**Alternatives (Reader):** TransformersReader (leveraging the `pipeline` of the Transformers package)\n",
        "\n",
        "**Alternatives (Models):** e.g. \"distilbert-base-uncased-distilled-squad\" (fast) or \"deepset/bert-large-uncased-whole-word-masking-squad2\" (good accuracy)\n",
        "\n",
        "**Hint:** You can adjust the model to return \"no answer possible\" with the no_ans_boost. Higher values mean the model prefers \"no answer possible\"\n",
        "\n",
        "#### FARMReader"
      ]
    },
    {
      "cell_type": "code",
      "metadata": {
        "pycharm": {
          "is_executing": false
        },
        "id": "Q4dT-FAitp1g"
      },
      "source": [
        "# Load a  local model or any of the QA models on\n",
        "# Hugging Face's model hub (https://huggingface.co/models)\n",
        "\n",
        "# reader = FARMReader(model_name_or_path=\"deepset/roberta-base-squad2\", use_gpu=False)"
      ],
      "execution_count": null,
      "outputs": []
    },
    {
      "cell_type": "markdown",
      "metadata": {
        "id": "qPoDH3f9tp1i"
      },
      "source": [
        "#### TransformersReader"
      ]
    },
    {
      "cell_type": "code",
      "metadata": {
        "id": "um7l6U0Gtp1i",
        "outputId": "28f86e7b-446d-4092-c238-d6c784892961",
        "colab": {
          "base_uri": "https://localhost:8080/",
          "height": 458,
          "referenced_widgets": [
            "7b46e873c99343ab9d85d76fc904fdfb",
            "dd185ec0132948c1973f05385cb4bc38",
            "77c1a50e629e4ff99fd41754e5a80856",
            "f18fdaf622904d0ab43d2943986395cb",
            "38537fe2452747ffb2ab04f16acae461",
            "b9c36ea360c2432b87174db8f3bfc353",
            "431fca3139df4b12a5e495e2a84d7dc1",
            "3af4f133833e4d5a93a7158a6bf9a1f0",
            "87f93469685a4408959ced6cfe5ccafd",
            "e6399a31c7894376a956e188f0276968",
            "e983f1997213464d805fba7b431e0663",
            "3a5af3123022433bbfa56b265956bf2c",
            "769ef1bb663c4006898b5bcb1182a016",
            "df5c17b8d2d14a0d9c0736dd1b668ae5",
            "1564025e1bde450498ef56f06617b3fa",
            "b097e17119a549b983c9e98bdb861842",
            "9ae40d2307c942428db4cb2cf6316a61",
            "eec5bb6bad7041a196cb313cdbabce87",
            "53204cf719634ece865460105c1ba7ee",
            "f74c9721b46a4d719522012736cccf51",
            "cc86a34733e844a6aa8a849b2990dadf",
            "6f15db31974f4330aa42f7dd9ff52840",
            "788cf98121c54a1194409845743d780c",
            "ab5b1ab3fc8c4a2b86f8846231c75a6d",
            "ad1af7654a1d44fe849ddbcb2428ec34",
            "52ec4be93aa84452b7ab908e741f70c4",
            "7bec4f9943454c29b04cbf431b1b9d4a",
            "e9dd18f8ae85408f86673bbfe18e0c9f",
            "4828f0dd7e3f443d85152e66e0c4ab9b",
            "df6ff6f82526421185b0eca4fd579338",
            "2e210c2224e2421990596fb06227d638",
            "63430fa14f1543129285553076f4f694",
            "30360b87501c417ab82e43d490436002",
            "f2268cb3960849d6a2564d2200531f23",
            "3728966af85f4807aeac9a5ce01bb8df",
            "b58f7795a3ad4907a05eae2ac6f91b1c",
            "b6b085afbf6446a7a79f37ea506958cd",
            "58cc32349d7e4a7699b57cba6b63ce88",
            "ce5d27f816e54f108c16e1b600a105cf",
            "b735f5e26a4949109abbab6941edf7b6"
          ]
        }
      },
      "source": [
        "# Alternative:\n",
        "reader = TransformersReader(model_name_or_path=\"distilbert-base-uncased-distilled-squad\", tokenizer=\"distilbert-base-uncased\", use_gpu=-1)"
      ],
      "execution_count": null,
      "outputs": [
        {
          "output_type": "stream",
          "text": [
            "10/27/2020 07:58:28 - INFO - filelock -   Lock 140221921572008 acquired on /root/.cache/torch/transformers/a41e817d5c0743e29e86ff85edc8c257e61bc8d88e4271bb1b243b6e7614c633.8949e27aafafa845a18d98a0e3a88bc2d248bbc32a1b75947366664658f23b1c.lock\n"
          ],
          "name": "stderr"
        },
        {
          "output_type": "display_data",
          "data": {
            "application/vnd.jupyter.widget-view+json": {
              "model_id": "7b46e873c99343ab9d85d76fc904fdfb",
              "version_minor": 0,
              "version_major": 2
            },
            "text/plain": [
              "HBox(children=(FloatProgress(value=0.0, description='Downloading', max=442.0, style=ProgressStyle(description_…"
            ]
          },
          "metadata": {
            "tags": []
          }
        },
        {
          "output_type": "stream",
          "text": [
            "10/27/2020 07:58:29 - INFO - filelock -   Lock 140221921572008 released on /root/.cache/torch/transformers/a41e817d5c0743e29e86ff85edc8c257e61bc8d88e4271bb1b243b6e7614c633.8949e27aafafa845a18d98a0e3a88bc2d248bbc32a1b75947366664658f23b1c.lock\n"
          ],
          "name": "stderr"
        },
        {
          "output_type": "stream",
          "text": [
            "\n"
          ],
          "name": "stdout"
        },
        {
          "output_type": "stream",
          "text": [
            "10/27/2020 07:58:29 - INFO - filelock -   Lock 140221921573576 acquired on /root/.cache/torch/transformers/26bc1ad6c0ac742e9b52263248f6d0f00068293b33709fae12320c0e35ccfbbb.542ce4285a40d23a559526243235df47c5f75c197f04f37d1a0c124c32c9a084.lock\n"
          ],
          "name": "stderr"
        },
        {
          "output_type": "display_data",
          "data": {
            "application/vnd.jupyter.widget-view+json": {
              "model_id": "87f93469685a4408959ced6cfe5ccafd",
              "version_minor": 0,
              "version_major": 2
            },
            "text/plain": [
              "HBox(children=(FloatProgress(value=0.0, description='Downloading', max=231508.0, style=ProgressStyle(descripti…"
            ]
          },
          "metadata": {
            "tags": []
          }
        },
        {
          "output_type": "stream",
          "text": [
            "10/27/2020 07:58:31 - INFO - filelock -   Lock 140221921573576 released on /root/.cache/torch/transformers/26bc1ad6c0ac742e9b52263248f6d0f00068293b33709fae12320c0e35ccfbbb.542ce4285a40d23a559526243235df47c5f75c197f04f37d1a0c124c32c9a084.lock\n"
          ],
          "name": "stderr"
        },
        {
          "output_type": "stream",
          "text": [
            "\n"
          ],
          "name": "stdout"
        },
        {
          "output_type": "stream",
          "text": [
            "10/27/2020 07:58:32 - INFO - filelock -   Lock 140224330395488 acquired on /root/.cache/torch/transformers/c3f38b0676fe95e83b0eb2038453c6a79f727c44cbf566992fd9557e459abac5.455d944f3d1572ab55ed579849f751cf37f303e3388980a42d94f7cd57a4e331.lock\n"
          ],
          "name": "stderr"
        },
        {
          "output_type": "display_data",
          "data": {
            "application/vnd.jupyter.widget-view+json": {
              "model_id": "9ae40d2307c942428db4cb2cf6316a61",
              "version_minor": 0,
              "version_major": 2
            },
            "text/plain": [
              "HBox(children=(FloatProgress(value=0.0, description='Downloading', max=230.0, style=ProgressStyle(description_…"
            ]
          },
          "metadata": {
            "tags": []
          }
        },
        {
          "output_type": "stream",
          "text": [
            "10/27/2020 07:58:33 - INFO - filelock -   Lock 140224330395488 released on /root/.cache/torch/transformers/c3f38b0676fe95e83b0eb2038453c6a79f727c44cbf566992fd9557e459abac5.455d944f3d1572ab55ed579849f751cf37f303e3388980a42d94f7cd57a4e331.lock\n"
          ],
          "name": "stderr"
        },
        {
          "output_type": "stream",
          "text": [
            "\n"
          ],
          "name": "stdout"
        },
        {
          "output_type": "stream",
          "text": [
            "10/27/2020 07:58:33 - INFO - filelock -   Lock 140221921656960 acquired on /root/.cache/torch/transformers/e88f38f2c8bc669ef7873de68f36bf764d4f64b9833ca8401efe271aab476745.0f15800a5b4c30725c555e054e3d0262e9916635f0de9d397c30acd86c21dc73.lock\n"
          ],
          "name": "stderr"
        },
        {
          "output_type": "display_data",
          "data": {
            "application/vnd.jupyter.widget-view+json": {
              "model_id": "ad1af7654a1d44fe849ddbcb2428ec34",
              "version_minor": 0,
              "version_major": 2
            },
            "text/plain": [
              "HBox(children=(FloatProgress(value=0.0, description='Downloading', max=451.0, style=ProgressStyle(description_…"
            ]
          },
          "metadata": {
            "tags": []
          }
        },
        {
          "output_type": "stream",
          "text": [
            "10/27/2020 07:58:34 - INFO - filelock -   Lock 140221921656960 released on /root/.cache/torch/transformers/e88f38f2c8bc669ef7873de68f36bf764d4f64b9833ca8401efe271aab476745.0f15800a5b4c30725c555e054e3d0262e9916635f0de9d397c30acd86c21dc73.lock\n"
          ],
          "name": "stderr"
        },
        {
          "output_type": "stream",
          "text": [
            "\n"
          ],
          "name": "stdout"
        },
        {
          "output_type": "stream",
          "text": [
            "10/27/2020 07:58:35 - INFO - filelock -   Lock 140221921546368 acquired on /root/.cache/torch/transformers/dfa987aac92dc15d249af90a287974fd64aedb6548e287a4c031a16b06eb173c.f4565e3948d4331d7e0460adbcbdcac536e9886f24a2fad1190d6b53c231a3a3.lock\n"
          ],
          "name": "stderr"
        },
        {
          "output_type": "display_data",
          "data": {
            "application/vnd.jupyter.widget-view+json": {
              "model_id": "30360b87501c417ab82e43d490436002",
              "version_minor": 0,
              "version_major": 2
            },
            "text/plain": [
              "HBox(children=(FloatProgress(value=0.0, description='Downloading', max=265481570.0, style=ProgressStyle(descri…"
            ]
          },
          "metadata": {
            "tags": []
          }
        },
        {
          "output_type": "stream",
          "text": [
            "10/27/2020 07:58:39 - INFO - filelock -   Lock 140221921546368 released on /root/.cache/torch/transformers/dfa987aac92dc15d249af90a287974fd64aedb6548e287a4c031a16b06eb173c.f4565e3948d4331d7e0460adbcbdcac536e9886f24a2fad1190d6b53c231a3a3.lock\n"
          ],
          "name": "stderr"
        },
        {
          "output_type": "stream",
          "text": [
            "\n"
          ],
          "name": "stdout"
        }
      ]
    },
    {
      "cell_type": "markdown",
      "metadata": {
        "id": "amIAaZ-Rtp1l"
      },
      "source": [
        "### Finder\n",
        "\n",
        "The Finder sticks together reader and retriever in a pipeline to answer our actual questions. "
      ]
    },
    {
      "cell_type": "code",
      "metadata": {
        "pycharm": {
          "is_executing": false
        },
        "id": "npM5Hzovtp1l"
      },
      "source": [
        "finder = Finder(reader, retriever)"
      ],
      "execution_count": null,
      "outputs": []
    },
    {
      "cell_type": "markdown",
      "metadata": {
        "id": "sdtpdPbctp1n"
      },
      "source": [
        "## Voilà! Ask a question!"
      ]
    },
    {
      "cell_type": "code",
      "metadata": {
        "pycharm": {
          "is_executing": false
        },
        "id": "BOrBavICtp1o",
        "outputId": "79985e9e-05ba-45fd-cb5f-6837a64d459f",
        "colab": {
          "base_uri": "https://localhost:8080/",
          "height": 228
        }
      },
      "source": [
        "%%time\n",
        "# You can configure how many candidates the reader and retriever shall return\n",
        "# The higher top_k_retriever, the better (but also the slower) your answers. \n",
        "prediction = finder.get_answers(question=\"What does Pip steal for the convict?\", top_k_retriever=3, top_k_reader=1)"
      ],
      "execution_count": null,
      "outputs": [
        {
          "output_type": "stream",
          "text": [
            "10/27/2020 07:58:42 - INFO - elasticsearch -   POST http://localhost:9200/document/_search [status:200 request:0.123s]\n",
            "10/27/2020 07:58:42 - INFO - haystack.retriever.sparse -   Got 3 candidates from retriever\n",
            "10/27/2020 07:58:42 - INFO - haystack.finder -   Reader is looking for detailed answer in 35913 chars ...\n",
            "/usr/local/lib/python3.6/dist-packages/transformers/tokenization_utils_base.py:1321: FutureWarning: The `max_len` attribute has been deprecated and will be removed in a future version, use `model_max_length` instead.\n",
            "  FutureWarning,\n",
            "/usr/local/lib/python3.6/dist-packages/transformers/tokenization_utils_base.py:1321: FutureWarning: The `max_len` attribute has been deprecated and will be removed in a future version, use `model_max_length` instead.\n",
            "  FutureWarning,\n",
            "/usr/local/lib/python3.6/dist-packages/transformers/tokenization_utils_base.py:1321: FutureWarning: The `max_len` attribute has been deprecated and will be removed in a future version, use `model_max_length` instead.\n",
            "  FutureWarning,\n"
          ],
          "name": "stderr"
        },
        {
          "output_type": "stream",
          "text": [
            "CPU times: user 27.1 s, sys: 626 ms, total: 27.7 s\n",
            "Wall time: 29.2 s\n"
          ],
          "name": "stdout"
        }
      ]
    },
    {
      "cell_type": "code",
      "metadata": {
        "pycharm": {
          "is_executing": false,
          "name": "#%%\n"
        },
        "id": "t-vBDt5ttp1s",
        "outputId": "f58029b6-da86-49cf-932f-8c40b6cdae2c",
        "colab": {
          "base_uri": "https://localhost:8080/",
          "height": 243
        }
      },
      "source": [
        "print_answers(prediction, details=\"all\")"
      ],
      "execution_count": 16,
      "outputs": [
        {
          "output_type": "stream",
          "text": [
            "{   'answers': [   {   'answer': 'food',\n",
            "                       'context': 'with another escaped convict. The first '\n",
            "                                  'convict confesses to stealing food from the '\n",
            "                                  'smithy, clearing Pip of suspicion.\\n'\n",
            "                                  '\\n'\n",
            "                                  'A few years pass. Miss H',\n",
            "                       'document_id': '4562f094-5f7b-41ee-9939-72d106935790',\n",
            "                       'meta': {'name': 'Great Expectations/Plot summary'},\n",
            "                       'offset_end': 822,\n",
            "                       'offset_start': 818,\n",
            "                       'probability': 0.9562171697616577,\n",
            "                       'score': None}],\n",
            "    'question': 'What does Pip steal for the convict?'}\n"
          ],
          "name": "stdout"
        }
      ]
    },
    {
      "cell_type": "code",
      "metadata": {
        "id": "V7OJBG7eiRO9",
        "outputId": "4868e105-76c4-4486-a974-9f2ba807b0e7",
        "colab": {
          "base_uri": "https://localhost:8080/",
          "height": 34
        }
      },
      "source": [
        "from google.colab import drive\n",
        "drive.mount('/colab_drive')"
      ],
      "execution_count": 38,
      "outputs": [
        {
          "output_type": "stream",
          "text": [
            "Mounted at /colab_drive\n"
          ],
          "name": "stdout"
        }
      ]
    },
    {
      "cell_type": "code",
      "metadata": {
        "id": "KMd579Oshdoa",
        "outputId": "01460278-b3e3-447b-ffe4-fdc23196b373",
        "colab": {
          "base_uri": "https://localhost:8080/",
          "height": 34
        }
      },
      "source": [
        "f = open('/colab_drive/My Drive/Colab Notebooks/test.txt','w+')\n",
        "f.write(prediction['answers'][0]['answer'])\n",
        "f.close"
      ],
      "execution_count": 49,
      "outputs": [
        {
          "output_type": "execute_result",
          "data": {
            "text/plain": [
              "<function TextIOWrapper.close>"
            ]
          },
          "metadata": {
            "tags": []
          },
          "execution_count": 49
        }
      ]
    },
    {
      "cell_type": "code",
      "metadata": {
        "id": "OuCK0WmpnlDv",
        "outputId": "f65dbcda-4d17-451e-c802-43041c0e4b6b",
        "colab": {
          "base_uri": "https://localhost:8080/",
          "height": 219
        }
      },
      "source": [
        "blah = \"Hello, World!\" #prediction['answers'][0]['answer']\n",
        "f = open('/Home/Documents/Colab/test.txt','w+')\n",
        "f.write(\"Hello, World!\")\n",
        "#f.close"
      ],
      "execution_count": 66,
      "outputs": [
        {
          "output_type": "error",
          "ename": "FileNotFoundError",
          "evalue": "ignored",
          "traceback": [
            "\u001b[0;31m---------------------------------------------------------------------------\u001b[0m",
            "\u001b[0;31mFileNotFoundError\u001b[0m                         Traceback (most recent call last)",
            "\u001b[0;32m<ipython-input-66-047bb4181690>\u001b[0m in \u001b[0;36m<module>\u001b[0;34m()\u001b[0m\n\u001b[1;32m      1\u001b[0m \u001b[0mblah\u001b[0m \u001b[0;34m=\u001b[0m \u001b[0;34m\"Hello, World!\"\u001b[0m \u001b[0;31m#prediction['answers'][0]['answer']\u001b[0m\u001b[0;34m\u001b[0m\u001b[0;34m\u001b[0m\u001b[0m\n\u001b[0;32m----> 2\u001b[0;31m \u001b[0mf\u001b[0m \u001b[0;34m=\u001b[0m \u001b[0mopen\u001b[0m\u001b[0;34m(\u001b[0m\u001b[0;34m'/Home/Documents/Colab/test.txt'\u001b[0m\u001b[0;34m,\u001b[0m\u001b[0;34m'w+'\u001b[0m\u001b[0;34m)\u001b[0m\u001b[0;34m\u001b[0m\u001b[0;34m\u001b[0m\u001b[0m\n\u001b[0m\u001b[1;32m      3\u001b[0m \u001b[0mf\u001b[0m\u001b[0;34m.\u001b[0m\u001b[0mwrite\u001b[0m\u001b[0;34m(\u001b[0m\u001b[0;34m\"Hello, World!\"\u001b[0m\u001b[0;34m)\u001b[0m\u001b[0;34m\u001b[0m\u001b[0;34m\u001b[0m\u001b[0m\n\u001b[1;32m      4\u001b[0m \u001b[0;31m#f.close\u001b[0m\u001b[0;34m\u001b[0m\u001b[0;34m\u001b[0m\u001b[0;34m\u001b[0m\u001b[0m\n",
            "\u001b[0;31mFileNotFoundError\u001b[0m: [Errno 2] No such file or directory: '/Home/Documents/Colab/test.txt'"
          ]
        }
      ]
    },
    {
      "cell_type": "code",
      "metadata": {
        "id": "QNDAXnQl00VX",
        "outputId": "4edacb25-21cd-4d05-9028-b969c90269c9",
        "colab": {
          "base_uri": "https://localhost:8080/",
          "height": 34
        }
      },
      "source": [
        "print(prediction['answers'][0]['answer'])\n"
      ],
      "execution_count": 52,
      "outputs": [
        {
          "output_type": "stream",
          "text": [
            "food\n"
          ],
          "name": "stdout"
        }
      ]
    },
    {
      "cell_type": "code",
      "metadata": {
        "id": "mY14xzsthcBs",
        "outputId": "200aad36-5154-4865-bb0b-d528fc3fe06c",
        "colab": {
          "base_uri": "https://localhost:8080/",
          "height": 34
        }
      },
      "source": [
        "type(prediction['answers'][0])"
      ],
      "execution_count": 53,
      "outputs": [
        {
          "output_type": "execute_result",
          "data": {
            "text/plain": [
              "dict"
            ]
          },
          "metadata": {
            "tags": []
          },
          "execution_count": 53
        }
      ]
    },
    {
      "cell_type": "code",
      "metadata": {
        "id": "a6rtk3EDmVYZ",
        "outputId": "2c5953c6-1288-4c35-c8ad-3a0cbdb66fb7",
        "colab": {
          "base_uri": "https://localhost:8080/",
          "height": 34
        }
      },
      "source": [
        "f = open('/colab_drive/My Drive/Colab Notebooks/test.txt','w+')\n",
        "for key, value in prediction['answers'][0].items(): \n",
        "  f.write('%s:%s\\n' % (key, value)) \n",
        "f.close"
      ],
      "execution_count": 56,
      "outputs": [
        {
          "output_type": "execute_result",
          "data": {
            "text/plain": [
              "<function TextIOWrapper.close>"
            ]
          },
          "metadata": {
            "tags": []
          },
          "execution_count": 56
        }
      ]
    }
  ]
}